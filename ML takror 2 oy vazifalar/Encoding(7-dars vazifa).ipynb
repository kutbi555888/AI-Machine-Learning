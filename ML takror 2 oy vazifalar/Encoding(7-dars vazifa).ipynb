{
 "cells": [
  {
   "cell_type": "markdown",
   "metadata": {},
   "source": [
    "# Encoding"
   ]
  },
  {
   "cell_type": "code",
   "execution_count": 1,
   "metadata": {},
   "outputs": [],
   "source": [
    "#One-hot encoding= Pandas\n",
    "import pandas as pd\n"
   ]
  },
  {
   "cell_type": "code",
   "execution_count": 2,
   "metadata": {},
   "outputs": [
    {
     "data": {
      "text/html": [
       "<div>\n",
       "<style scoped>\n",
       "    .dataframe tbody tr th:only-of-type {\n",
       "        vertical-align: middle;\n",
       "    }\n",
       "\n",
       "    .dataframe tbody tr th {\n",
       "        vertical-align: top;\n",
       "    }\n",
       "\n",
       "    .dataframe thead th {\n",
       "        text-align: right;\n",
       "    }\n",
       "</style>\n",
       "<table border=\"1\" class=\"dataframe\">\n",
       "  <thead>\n",
       "    <tr style=\"text-align: right;\">\n",
       "      <th></th>\n",
       "      <th>Patient_ID</th>\n",
       "      <th>Age</th>\n",
       "      <th>Gender</th>\n",
       "      <th>Chest_Pain</th>\n",
       "      <th>Cough_Severity</th>\n",
       "      <th>Breathlessness</th>\n",
       "      <th>Fatigue</th>\n",
       "      <th>Weight_Loss</th>\n",
       "      <th>Fever</th>\n",
       "      <th>Night_Sweats</th>\n",
       "      <th>Sputum_Production</th>\n",
       "      <th>Blood_in_Sputum</th>\n",
       "      <th>Smoking_History</th>\n",
       "      <th>Previous_TB_History</th>\n",
       "      <th>Class</th>\n",
       "    </tr>\n",
       "  </thead>\n",
       "  <tbody>\n",
       "    <tr>\n",
       "      <th>0</th>\n",
       "      <td>PID000001</td>\n",
       "      <td>69</td>\n",
       "      <td>Male</td>\n",
       "      <td>Yes</td>\n",
       "      <td>1.0</td>\n",
       "      <td>2.0</td>\n",
       "      <td>3</td>\n",
       "      <td>2.37</td>\n",
       "      <td>Moderate</td>\n",
       "      <td>Yes</td>\n",
       "      <td>Medium</td>\n",
       "      <td>Yes</td>\n",
       "      <td>Former</td>\n",
       "      <td>Yes</td>\n",
       "      <td>Normal</td>\n",
       "    </tr>\n",
       "    <tr>\n",
       "      <th>1</th>\n",
       "      <td>PID000002</td>\n",
       "      <td>32</td>\n",
       "      <td>Female</td>\n",
       "      <td>Yes</td>\n",
       "      <td>3.0</td>\n",
       "      <td>0.0</td>\n",
       "      <td>9</td>\n",
       "      <td>6.09</td>\n",
       "      <td>Moderate</td>\n",
       "      <td>No</td>\n",
       "      <td>Medium</td>\n",
       "      <td>No</td>\n",
       "      <td>Current</td>\n",
       "      <td>Yes</td>\n",
       "      <td>Normal</td>\n",
       "    </tr>\n",
       "    <tr>\n",
       "      <th>2</th>\n",
       "      <td>PID000003</td>\n",
       "      <td>89</td>\n",
       "      <td>Male</td>\n",
       "      <td>No</td>\n",
       "      <td>7.0</td>\n",
       "      <td>0.0</td>\n",
       "      <td>3</td>\n",
       "      <td>2.86</td>\n",
       "      <td>Mild</td>\n",
       "      <td>Yes</td>\n",
       "      <td>Medium</td>\n",
       "      <td>No</td>\n",
       "      <td>Current</td>\n",
       "      <td>No</td>\n",
       "      <td>Tuberculosis</td>\n",
       "    </tr>\n",
       "    <tr>\n",
       "      <th>3</th>\n",
       "      <td>PID000004</td>\n",
       "      <td>78</td>\n",
       "      <td>Female</td>\n",
       "      <td>Yes</td>\n",
       "      <td>2.0</td>\n",
       "      <td>0.0</td>\n",
       "      <td>6</td>\n",
       "      <td>4.57</td>\n",
       "      <td>Moderate</td>\n",
       "      <td>No</td>\n",
       "      <td>High</td>\n",
       "      <td>Yes</td>\n",
       "      <td>Never</td>\n",
       "      <td>Yes</td>\n",
       "      <td>Tuberculosis</td>\n",
       "    </tr>\n",
       "    <tr>\n",
       "      <th>4</th>\n",
       "      <td>PID000005</td>\n",
       "      <td>38</td>\n",
       "      <td>Male</td>\n",
       "      <td>No</td>\n",
       "      <td>7.0</td>\n",
       "      <td>2.0</td>\n",
       "      <td>5</td>\n",
       "      <td>13.86</td>\n",
       "      <td>High</td>\n",
       "      <td>Yes</td>\n",
       "      <td>Low</td>\n",
       "      <td>No</td>\n",
       "      <td>Never</td>\n",
       "      <td>Yes</td>\n",
       "      <td>Tuberculosis</td>\n",
       "    </tr>\n",
       "  </tbody>\n",
       "</table>\n",
       "</div>"
      ],
      "text/plain": [
       "  Patient_ID Age  Gender Chest_Pain  Cough_Severity  Breathlessness Fatigue  \\\n",
       "0  PID000001  69    Male        Yes             1.0             2.0       3   \n",
       "1  PID000002  32  Female        Yes             3.0             0.0       9   \n",
       "2  PID000003  89    Male         No             7.0             0.0       3   \n",
       "3  PID000004  78  Female        Yes             2.0             0.0       6   \n",
       "4  PID000005  38    Male         No             7.0             2.0       5   \n",
       "\n",
       "  Weight_Loss     Fever Night_Sweats Sputum_Production Blood_in_Sputum  \\\n",
       "0        2.37  Moderate          Yes            Medium             Yes   \n",
       "1        6.09  Moderate           No            Medium              No   \n",
       "2        2.86      Mild          Yes            Medium              No   \n",
       "3        4.57  Moderate           No              High             Yes   \n",
       "4       13.86      High          Yes               Low              No   \n",
       "\n",
       "  Smoking_History Previous_TB_History         Class  \n",
       "0          Former                 Yes        Normal  \n",
       "1         Current                 Yes        Normal  \n",
       "2         Current                  No  Tuberculosis  \n",
       "3           Never                 Yes  Tuberculosis  \n",
       "4           Never                 Yes  Tuberculosis  "
      ]
     },
     "execution_count": 2,
     "metadata": {},
     "output_type": "execute_result"
    }
   ],
   "source": [
    "df=pd.read_csv('tuberculosis_xray_dataset 4.csv')\n",
    "df.head()"
   ]
  },
  {
   "cell_type": "code",
   "execution_count": 3,
   "metadata": {},
   "outputs": [
    {
     "name": "stdout",
     "output_type": "stream",
     "text": [
      "<class 'pandas.core.frame.DataFrame'>\n",
      "RangeIndex: 19986 entries, 0 to 19985\n",
      "Data columns (total 15 columns):\n",
      " #   Column               Non-Null Count  Dtype  \n",
      "---  ------               --------------  -----  \n",
      " 0   Patient_ID           19986 non-null  object \n",
      " 1   Age                  19986 non-null  object \n",
      " 2   Gender               19985 non-null  object \n",
      " 3   Chest_Pain           19986 non-null  object \n",
      " 4   Cough_Severity       19985 non-null  float64\n",
      " 5   Breathlessness       19986 non-null  float64\n",
      " 6   Fatigue              19986 non-null  object \n",
      " 7   Weight_Loss          19986 non-null  object \n",
      " 8   Fever                19986 non-null  object \n",
      " 9   Night_Sweats         19986 non-null  object \n",
      " 10  Sputum_Production    19986 non-null  object \n",
      " 11  Blood_in_Sputum      19986 non-null  object \n",
      " 12  Smoking_History      19985 non-null  object \n",
      " 13  Previous_TB_History  19985 non-null  object \n",
      " 14  Class                19884 non-null  object \n",
      "dtypes: float64(2), object(13)\n",
      "memory usage: 2.3+ MB\n"
     ]
    }
   ],
   "source": [
    "df.info()"
   ]
  },
  {
   "cell_type": "code",
   "execution_count": 4,
   "metadata": {},
   "outputs": [
    {
     "data": {
      "text/plain": [
       "Gender\n",
       "Male      10152\n",
       "Female     9813\n",
       "No           10\n",
       "Yes           9\n",
       "3             1\n",
       "Name: count, dtype: int64"
      ]
     },
     "execution_count": 4,
     "metadata": {},
     "output_type": "execute_result"
    }
   ],
   "source": [
    "df['Gender'].value_counts()"
   ]
  },
  {
   "cell_type": "code",
   "execution_count": 12,
   "metadata": {},
   "outputs": [],
   "source": [
    "gender_dummies=pd.get_dummies(df['Gender'],prefix='Gender',drop_first=True,dtype=int)"
   ]
  },
  {
   "cell_type": "code",
   "execution_count": 13,
   "metadata": {},
   "outputs": [
    {
     "data": {
      "text/html": [
       "<div>\n",
       "<style scoped>\n",
       "    .dataframe tbody tr th:only-of-type {\n",
       "        vertical-align: middle;\n",
       "    }\n",
       "\n",
       "    .dataframe tbody tr th {\n",
       "        vertical-align: top;\n",
       "    }\n",
       "\n",
       "    .dataframe thead th {\n",
       "        text-align: right;\n",
       "    }\n",
       "</style>\n",
       "<table border=\"1\" class=\"dataframe\">\n",
       "  <thead>\n",
       "    <tr style=\"text-align: right;\">\n",
       "      <th></th>\n",
       "      <th>Gender_Female</th>\n",
       "      <th>Gender_Male</th>\n",
       "      <th>Gender_No</th>\n",
       "      <th>Gender_Yes</th>\n",
       "    </tr>\n",
       "  </thead>\n",
       "  <tbody>\n",
       "    <tr>\n",
       "      <th>0</th>\n",
       "      <td>0</td>\n",
       "      <td>1</td>\n",
       "      <td>0</td>\n",
       "      <td>0</td>\n",
       "    </tr>\n",
       "    <tr>\n",
       "      <th>1</th>\n",
       "      <td>1</td>\n",
       "      <td>0</td>\n",
       "      <td>0</td>\n",
       "      <td>0</td>\n",
       "    </tr>\n",
       "    <tr>\n",
       "      <th>2</th>\n",
       "      <td>0</td>\n",
       "      <td>1</td>\n",
       "      <td>0</td>\n",
       "      <td>0</td>\n",
       "    </tr>\n",
       "    <tr>\n",
       "      <th>3</th>\n",
       "      <td>1</td>\n",
       "      <td>0</td>\n",
       "      <td>0</td>\n",
       "      <td>0</td>\n",
       "    </tr>\n",
       "    <tr>\n",
       "      <th>4</th>\n",
       "      <td>0</td>\n",
       "      <td>1</td>\n",
       "      <td>0</td>\n",
       "      <td>0</td>\n",
       "    </tr>\n",
       "    <tr>\n",
       "      <th>...</th>\n",
       "      <td>...</td>\n",
       "      <td>...</td>\n",
       "      <td>...</td>\n",
       "      <td>...</td>\n",
       "    </tr>\n",
       "    <tr>\n",
       "      <th>19981</th>\n",
       "      <td>1</td>\n",
       "      <td>0</td>\n",
       "      <td>0</td>\n",
       "      <td>0</td>\n",
       "    </tr>\n",
       "    <tr>\n",
       "      <th>19982</th>\n",
       "      <td>0</td>\n",
       "      <td>1</td>\n",
       "      <td>0</td>\n",
       "      <td>0</td>\n",
       "    </tr>\n",
       "    <tr>\n",
       "      <th>19983</th>\n",
       "      <td>1</td>\n",
       "      <td>0</td>\n",
       "      <td>0</td>\n",
       "      <td>0</td>\n",
       "    </tr>\n",
       "    <tr>\n",
       "      <th>19984</th>\n",
       "      <td>0</td>\n",
       "      <td>1</td>\n",
       "      <td>0</td>\n",
       "      <td>0</td>\n",
       "    </tr>\n",
       "    <tr>\n",
       "      <th>19985</th>\n",
       "      <td>0</td>\n",
       "      <td>0</td>\n",
       "      <td>0</td>\n",
       "      <td>0</td>\n",
       "    </tr>\n",
       "  </tbody>\n",
       "</table>\n",
       "<p>19986 rows × 4 columns</p>\n",
       "</div>"
      ],
      "text/plain": [
       "       Gender_Female  Gender_Male  Gender_No  Gender_Yes\n",
       "0                  0            1          0           0\n",
       "1                  1            0          0           0\n",
       "2                  0            1          0           0\n",
       "3                  1            0          0           0\n",
       "4                  0            1          0           0\n",
       "...              ...          ...        ...         ...\n",
       "19981              1            0          0           0\n",
       "19982              0            1          0           0\n",
       "19983              1            0          0           0\n",
       "19984              0            1          0           0\n",
       "19985              0            0          0           0\n",
       "\n",
       "[19986 rows x 4 columns]"
      ]
     },
     "execution_count": 13,
     "metadata": {},
     "output_type": "execute_result"
    }
   ],
   "source": [
    "gender_dummies"
   ]
  },
  {
   "cell_type": "code",
   "execution_count": 14,
   "metadata": {},
   "outputs": [
    {
     "name": "stdout",
     "output_type": "stream",
     "text": [
      "<class 'pandas.core.frame.DataFrame'>\n",
      "RangeIndex: 19986 entries, 0 to 19985\n",
      "Data columns (total 15 columns):\n",
      " #   Column               Non-Null Count  Dtype  \n",
      "---  ------               --------------  -----  \n",
      " 0   Patient_ID           19986 non-null  object \n",
      " 1   Age                  19986 non-null  object \n",
      " 2   Gender               19985 non-null  object \n",
      " 3   Chest_Pain           19986 non-null  object \n",
      " 4   Cough_Severity       19985 non-null  float64\n",
      " 5   Breathlessness       19986 non-null  float64\n",
      " 6   Fatigue              19986 non-null  object \n",
      " 7   Weight_Loss          19986 non-null  object \n",
      " 8   Fever                19986 non-null  object \n",
      " 9   Night_Sweats         19986 non-null  object \n",
      " 10  Sputum_Production    19986 non-null  object \n",
      " 11  Blood_in_Sputum      19986 non-null  object \n",
      " 12  Smoking_History      19985 non-null  object \n",
      " 13  Previous_TB_History  19985 non-null  object \n",
      " 14  Class                19884 non-null  object \n",
      "dtypes: float64(2), object(13)\n",
      "memory usage: 2.3+ MB\n"
     ]
    }
   ],
   "source": [
    "df.info()"
   ]
  },
  {
   "cell_type": "code",
   "execution_count": 15,
   "metadata": {},
   "outputs": [],
   "source": [
    "df=pd.concat([df,gender_dummies],axis=1)"
   ]
  },
  {
   "cell_type": "code",
   "execution_count": 17,
   "metadata": {},
   "outputs": [
    {
     "name": "stdout",
     "output_type": "stream",
     "text": [
      "<class 'pandas.core.frame.DataFrame'>\n",
      "RangeIndex: 19986 entries, 0 to 19985\n",
      "Data columns (total 19 columns):\n",
      " #   Column               Non-Null Count  Dtype  \n",
      "---  ------               --------------  -----  \n",
      " 0   Patient_ID           19986 non-null  object \n",
      " 1   Age                  19986 non-null  object \n",
      " 2   Gender               19985 non-null  object \n",
      " 3   Chest_Pain           19986 non-null  object \n",
      " 4   Cough_Severity       19985 non-null  float64\n",
      " 5   Breathlessness       19986 non-null  float64\n",
      " 6   Fatigue              19986 non-null  object \n",
      " 7   Weight_Loss          19986 non-null  object \n",
      " 8   Fever                19986 non-null  object \n",
      " 9   Night_Sweats         19986 non-null  object \n",
      " 10  Sputum_Production    19986 non-null  object \n",
      " 11  Blood_in_Sputum      19986 non-null  object \n",
      " 12  Smoking_History      19985 non-null  object \n",
      " 13  Previous_TB_History  19985 non-null  object \n",
      " 14  Class                19884 non-null  object \n",
      " 15  Gender_Female        19986 non-null  int64  \n",
      " 16  Gender_Male          19986 non-null  int64  \n",
      " 17  Gender_No            19986 non-null  int64  \n",
      " 18  Gender_Yes           19986 non-null  int64  \n",
      "dtypes: float64(2), int64(4), object(13)\n",
      "memory usage: 2.9+ MB\n"
     ]
    }
   ],
   "source": [
    "df.info()"
   ]
  },
  {
   "cell_type": "code",
   "execution_count": 18,
   "metadata": {},
   "outputs": [
    {
     "data": {
      "text/html": [
       "<div>\n",
       "<style scoped>\n",
       "    .dataframe tbody tr th:only-of-type {\n",
       "        vertical-align: middle;\n",
       "    }\n",
       "\n",
       "    .dataframe tbody tr th {\n",
       "        vertical-align: top;\n",
       "    }\n",
       "\n",
       "    .dataframe thead th {\n",
       "        text-align: right;\n",
       "    }\n",
       "</style>\n",
       "<table border=\"1\" class=\"dataframe\">\n",
       "  <thead>\n",
       "    <tr style=\"text-align: right;\">\n",
       "      <th></th>\n",
       "      <th>Patient_ID</th>\n",
       "      <th>Age</th>\n",
       "      <th>Gender</th>\n",
       "      <th>Chest_Pain</th>\n",
       "      <th>Cough_Severity</th>\n",
       "      <th>Breathlessness</th>\n",
       "      <th>Fatigue</th>\n",
       "      <th>Weight_Loss</th>\n",
       "      <th>Fever</th>\n",
       "      <th>Night_Sweats</th>\n",
       "      <th>Sputum_Production</th>\n",
       "      <th>Blood_in_Sputum</th>\n",
       "      <th>Smoking_History</th>\n",
       "      <th>Previous_TB_History</th>\n",
       "      <th>Class</th>\n",
       "      <th>Gender_Female</th>\n",
       "      <th>Gender_Male</th>\n",
       "      <th>Gender_No</th>\n",
       "      <th>Gender_Yes</th>\n",
       "    </tr>\n",
       "  </thead>\n",
       "  <tbody>\n",
       "    <tr>\n",
       "      <th>0</th>\n",
       "      <td>PID000001</td>\n",
       "      <td>69</td>\n",
       "      <td>Male</td>\n",
       "      <td>Yes</td>\n",
       "      <td>1.0</td>\n",
       "      <td>2.0</td>\n",
       "      <td>3</td>\n",
       "      <td>2.37</td>\n",
       "      <td>Moderate</td>\n",
       "      <td>Yes</td>\n",
       "      <td>Medium</td>\n",
       "      <td>Yes</td>\n",
       "      <td>Former</td>\n",
       "      <td>Yes</td>\n",
       "      <td>Normal</td>\n",
       "      <td>0</td>\n",
       "      <td>1</td>\n",
       "      <td>0</td>\n",
       "      <td>0</td>\n",
       "    </tr>\n",
       "    <tr>\n",
       "      <th>1</th>\n",
       "      <td>PID000002</td>\n",
       "      <td>32</td>\n",
       "      <td>Female</td>\n",
       "      <td>Yes</td>\n",
       "      <td>3.0</td>\n",
       "      <td>0.0</td>\n",
       "      <td>9</td>\n",
       "      <td>6.09</td>\n",
       "      <td>Moderate</td>\n",
       "      <td>No</td>\n",
       "      <td>Medium</td>\n",
       "      <td>No</td>\n",
       "      <td>Current</td>\n",
       "      <td>Yes</td>\n",
       "      <td>Normal</td>\n",
       "      <td>1</td>\n",
       "      <td>0</td>\n",
       "      <td>0</td>\n",
       "      <td>0</td>\n",
       "    </tr>\n",
       "  </tbody>\n",
       "</table>\n",
       "</div>"
      ],
      "text/plain": [
       "  Patient_ID Age  Gender Chest_Pain  Cough_Severity  Breathlessness Fatigue  \\\n",
       "0  PID000001  69    Male        Yes             1.0             2.0       3   \n",
       "1  PID000002  32  Female        Yes             3.0             0.0       9   \n",
       "\n",
       "  Weight_Loss     Fever Night_Sweats Sputum_Production Blood_in_Sputum  \\\n",
       "0        2.37  Moderate          Yes            Medium             Yes   \n",
       "1        6.09  Moderate           No            Medium              No   \n",
       "\n",
       "  Smoking_History Previous_TB_History   Class  Gender_Female  Gender_Male  \\\n",
       "0          Former                 Yes  Normal              0            1   \n",
       "1         Current                 Yes  Normal              1            0   \n",
       "\n",
       "   Gender_No  Gender_Yes  \n",
       "0          0           0  \n",
       "1          0           0  "
      ]
     },
     "execution_count": 18,
     "metadata": {},
     "output_type": "execute_result"
    }
   ],
   "source": [
    "df.head(2)"
   ]
  },
  {
   "cell_type": "code",
   "execution_count": 19,
   "metadata": {},
   "outputs": [],
   "source": [
    "df.drop(columns=['Gender'],inplace=True)"
   ]
  },
  {
   "cell_type": "code",
   "execution_count": 20,
   "metadata": {},
   "outputs": [
    {
     "name": "stdout",
     "output_type": "stream",
     "text": [
      "<class 'pandas.core.frame.DataFrame'>\n",
      "RangeIndex: 19986 entries, 0 to 19985\n",
      "Data columns (total 18 columns):\n",
      " #   Column               Non-Null Count  Dtype  \n",
      "---  ------               --------------  -----  \n",
      " 0   Patient_ID           19986 non-null  object \n",
      " 1   Age                  19986 non-null  object \n",
      " 2   Chest_Pain           19986 non-null  object \n",
      " 3   Cough_Severity       19985 non-null  float64\n",
      " 4   Breathlessness       19986 non-null  float64\n",
      " 5   Fatigue              19986 non-null  object \n",
      " 6   Weight_Loss          19986 non-null  object \n",
      " 7   Fever                19986 non-null  object \n",
      " 8   Night_Sweats         19986 non-null  object \n",
      " 9   Sputum_Production    19986 non-null  object \n",
      " 10  Blood_in_Sputum      19986 non-null  object \n",
      " 11  Smoking_History      19985 non-null  object \n",
      " 12  Previous_TB_History  19985 non-null  object \n",
      " 13  Class                19884 non-null  object \n",
      " 14  Gender_Female        19986 non-null  int64  \n",
      " 15  Gender_Male          19986 non-null  int64  \n",
      " 16  Gender_No            19986 non-null  int64  \n",
      " 17  Gender_Yes           19986 non-null  int64  \n",
      "dtypes: float64(2), int64(4), object(12)\n",
      "memory usage: 2.7+ MB\n"
     ]
    }
   ],
   "source": [
    "df.info()"
   ]
  },
  {
   "cell_type": "code",
   "execution_count": 3,
   "metadata": {},
   "outputs": [
    {
     "name": "stdout",
     "output_type": "stream",
     "text": [
      "<class 'pandas.core.frame.DataFrame'>\n",
      "RangeIndex: 19986 entries, 0 to 19985\n",
      "Data columns (total 15 columns):\n",
      " #   Column               Non-Null Count  Dtype  \n",
      "---  ------               --------------  -----  \n",
      " 0   Patient_ID           19986 non-null  object \n",
      " 1   Age                  19986 non-null  object \n",
      " 2   Gender               19985 non-null  object \n",
      " 3   Chest_Pain           19986 non-null  object \n",
      " 4   Cough_Severity       19985 non-null  float64\n",
      " 5   Breathlessness       19986 non-null  float64\n",
      " 6   Fatigue              19986 non-null  object \n",
      " 7   Weight_Loss          19986 non-null  object \n",
      " 8   Fever                19986 non-null  object \n",
      " 9   Night_Sweats         19986 non-null  object \n",
      " 10  Sputum_Production    19986 non-null  object \n",
      " 11  Blood_in_Sputum      19986 non-null  object \n",
      " 12  Smoking_History      19985 non-null  object \n",
      " 13  Previous_TB_History  19985 non-null  object \n",
      " 14  Class                19884 non-null  object \n",
      "dtypes: float64(2), object(13)\n",
      "memory usage: 2.3+ MB\n"
     ]
    }
   ],
   "source": [
    "df.info()"
   ]
  },
  {
   "cell_type": "code",
   "execution_count": 5,
   "metadata": {},
   "outputs": [],
   "source": [
    "df=pd.get_dummies(df,columns=['Gender'],dtype=int)     # bu yangi hosil bolgan ustunlarnigina intga ogiradi"
   ]
  },
  {
   "cell_type": "code",
   "execution_count": 6,
   "metadata": {},
   "outputs": [
    {
     "name": "stdout",
     "output_type": "stream",
     "text": [
      "<class 'pandas.core.frame.DataFrame'>\n",
      "RangeIndex: 19986 entries, 0 to 19985\n",
      "Data columns (total 19 columns):\n",
      " #   Column               Non-Null Count  Dtype  \n",
      "---  ------               --------------  -----  \n",
      " 0   Patient_ID           19986 non-null  object \n",
      " 1   Age                  19986 non-null  object \n",
      " 2   Chest_Pain           19986 non-null  object \n",
      " 3   Cough_Severity       19985 non-null  float64\n",
      " 4   Breathlessness       19986 non-null  float64\n",
      " 5   Fatigue              19986 non-null  object \n",
      " 6   Weight_Loss          19986 non-null  object \n",
      " 7   Fever                19986 non-null  object \n",
      " 8   Night_Sweats         19986 non-null  object \n",
      " 9   Sputum_Production    19986 non-null  object \n",
      " 10  Blood_in_Sputum      19986 non-null  object \n",
      " 11  Smoking_History      19985 non-null  object \n",
      " 12  Previous_TB_History  19985 non-null  object \n",
      " 13  Class                19884 non-null  object \n",
      " 14  Gender_3             19986 non-null  int64  \n",
      " 15  Gender_Female        19986 non-null  int64  \n",
      " 16  Gender_Male          19986 non-null  int64  \n",
      " 17  Gender_No            19986 non-null  int64  \n",
      " 18  Gender_Yes           19986 non-null  int64  \n",
      "dtypes: float64(2), int64(5), object(12)\n",
      "memory usage: 2.9+ MB\n"
     ]
    }
   ],
   "source": [
    "df.info()"
   ]
  },
  {
   "cell_type": "code",
   "execution_count": null,
   "metadata": {},
   "outputs": [],
   "source": []
  },
  {
   "cell_type": "code",
   "execution_count": 3,
   "metadata": {},
   "outputs": [
    {
     "name": "stdout",
     "output_type": "stream",
     "text": [
      "<class 'pandas.core.frame.DataFrame'>\n",
      "RangeIndex: 19986 entries, 0 to 19985\n",
      "Data columns (total 15 columns):\n",
      " #   Column               Non-Null Count  Dtype  \n",
      "---  ------               --------------  -----  \n",
      " 0   Patient_ID           19986 non-null  object \n",
      " 1   Age                  19986 non-null  object \n",
      " 2   Gender               19985 non-null  object \n",
      " 3   Chest_Pain           19986 non-null  object \n",
      " 4   Cough_Severity       19985 non-null  float64\n",
      " 5   Breathlessness       19986 non-null  float64\n",
      " 6   Fatigue              19986 non-null  object \n",
      " 7   Weight_Loss          19986 non-null  object \n",
      " 8   Fever                19986 non-null  object \n",
      " 9   Night_Sweats         19986 non-null  object \n",
      " 10  Sputum_Production    19986 non-null  object \n",
      " 11  Blood_in_Sputum      19986 non-null  object \n",
      " 12  Smoking_History      19985 non-null  object \n",
      " 13  Previous_TB_History  19985 non-null  object \n",
      " 14  Class                19884 non-null  object \n",
      "dtypes: float64(2), object(13)\n",
      "memory usage: 2.3+ MB\n"
     ]
    }
   ],
   "source": [
    "df.info()"
   ]
  },
  {
   "cell_type": "code",
   "execution_count": 6,
   "metadata": {},
   "outputs": [],
   "source": [
    "from sklearn.preprocessing import LabelEncoder"
   ]
  },
  {
   "cell_type": "code",
   "execution_count": 7,
   "metadata": {},
   "outputs": [],
   "source": [
    "encoder=LabelEncoder()"
   ]
  },
  {
   "cell_type": "code",
   "execution_count": 8,
   "metadata": {},
   "outputs": [],
   "source": [
    "df['Sputum_Production']=encoder.fit_transform(df['Sputum_Production'])"
   ]
  },
  {
   "cell_type": "code",
   "execution_count": 9,
   "metadata": {},
   "outputs": [
    {
     "name": "stdout",
     "output_type": "stream",
     "text": [
      "<class 'pandas.core.frame.DataFrame'>\n",
      "RangeIndex: 19986 entries, 0 to 19985\n",
      "Data columns (total 15 columns):\n",
      " #   Column               Non-Null Count  Dtype  \n",
      "---  ------               --------------  -----  \n",
      " 0   Patient_ID           19986 non-null  object \n",
      " 1   Age                  19986 non-null  object \n",
      " 2   Gender               19985 non-null  object \n",
      " 3   Chest_Pain           19986 non-null  object \n",
      " 4   Cough_Severity       19985 non-null  float64\n",
      " 5   Breathlessness       19986 non-null  float64\n",
      " 6   Fatigue              19986 non-null  object \n",
      " 7   Weight_Loss          19986 non-null  object \n",
      " 8   Fever                19986 non-null  object \n",
      " 9   Night_Sweats         19986 non-null  object \n",
      " 10  Sputum_Production    19986 non-null  int64  \n",
      " 11  Blood_in_Sputum      19986 non-null  object \n",
      " 12  Smoking_History      19985 non-null  object \n",
      " 13  Previous_TB_History  19985 non-null  object \n",
      " 14  Class                19884 non-null  object \n",
      "dtypes: float64(2), int64(1), object(12)\n",
      "memory usage: 2.3+ MB\n"
     ]
    }
   ],
   "source": [
    "df.info()"
   ]
  },
  {
   "cell_type": "code",
   "execution_count": 10,
   "metadata": {},
   "outputs": [
    {
     "data": {
      "text/plain": [
       "Sputum_Production\n",
       "2    6683\n",
       "1    6649\n",
       "0    6582\n",
       "4      37\n",
       "3      35\n",
       "Name: count, dtype: int64"
      ]
     },
     "execution_count": 10,
     "metadata": {},
     "output_type": "execute_result"
    }
   ],
   "source": [
    "df['Sputum_Production'].value_counts()"
   ]
  },
  {
   "cell_type": "code",
   "execution_count": 11,
   "metadata": {},
   "outputs": [
    {
     "name": "stdout",
     "output_type": "stream",
     "text": [
      "<class 'pandas.core.frame.DataFrame'>\n",
      "RangeIndex: 19986 entries, 0 to 19985\n",
      "Data columns (total 15 columns):\n",
      " #   Column               Non-Null Count  Dtype  \n",
      "---  ------               --------------  -----  \n",
      " 0   Patient_ID           19986 non-null  object \n",
      " 1   Age                  19986 non-null  object \n",
      " 2   Gender               19985 non-null  object \n",
      " 3   Chest_Pain           19986 non-null  object \n",
      " 4   Cough_Severity       19985 non-null  float64\n",
      " 5   Breathlessness       19986 non-null  float64\n",
      " 6   Fatigue              19986 non-null  object \n",
      " 7   Weight_Loss          19986 non-null  object \n",
      " 8   Fever                19986 non-null  object \n",
      " 9   Night_Sweats         19986 non-null  object \n",
      " 10  Sputum_Production    19986 non-null  int64  \n",
      " 11  Blood_in_Sputum      19986 non-null  object \n",
      " 12  Smoking_History      19985 non-null  object \n",
      " 13  Previous_TB_History  19985 non-null  object \n",
      " 14  Class                19884 non-null  object \n",
      "dtypes: float64(2), int64(1), object(12)\n",
      "memory usage: 2.3+ MB\n"
     ]
    }
   ],
   "source": [
    "df.info()"
   ]
  },
  {
   "cell_type": "code",
   "execution_count": null,
   "metadata": {},
   "outputs": [],
   "source": []
  }
 ],
 "metadata": {
  "kernelspec": {
   "display_name": "Python 3",
   "language": "python",
   "name": "python3"
  },
  "language_info": {
   "codemirror_mode": {
    "name": "ipython",
    "version": 3
   },
   "file_extension": ".py",
   "mimetype": "text/x-python",
   "name": "python",
   "nbconvert_exporter": "python",
   "pygments_lexer": "ipython3",
   "version": "3.11.9"
  }
 },
 "nbformat": 4,
 "nbformat_minor": 2
}
