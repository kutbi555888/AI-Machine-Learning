{
 "cells": [
  {
   "cell_type": "markdown",
   "metadata": {},
   "source": []
  },
  {
   "cell_type": "markdown",
   "metadata": {},
   "source": [
    "# kutubxonalar"
   ]
  },
  {
   "cell_type": "code",
   "execution_count": 1,
   "metadata": {},
   "outputs": [],
   "source": [
    "#pandas"
   ]
  },
  {
   "cell_type": "code",
   "execution_count": 8,
   "metadata": {},
   "outputs": [],
   "source": [
    "import pandas as pd\n",
    "import numpy as np"
   ]
  },
  {
   "cell_type": "code",
   "execution_count": 3,
   "metadata": {},
   "outputs": [],
   "source": [
    "df=pd.read_csv('tuberculosis_xray_dataset 2.csv')"
   ]
  },
  {
   "cell_type": "code",
   "execution_count": 4,
   "metadata": {},
   "outputs": [
    {
     "data": {
      "text/html": [
       "<div>\n",
       "<style scoped>\n",
       "    .dataframe tbody tr th:only-of-type {\n",
       "        vertical-align: middle;\n",
       "    }\n",
       "\n",
       "    .dataframe tbody tr th {\n",
       "        vertical-align: top;\n",
       "    }\n",
       "\n",
       "    .dataframe thead th {\n",
       "        text-align: right;\n",
       "    }\n",
       "</style>\n",
       "<table border=\"1\" class=\"dataframe\">\n",
       "  <thead>\n",
       "    <tr style=\"text-align: right;\">\n",
       "      <th></th>\n",
       "      <th>Patient_ID</th>\n",
       "      <th>Age</th>\n",
       "      <th>Gender</th>\n",
       "      <th>Chest_Pain</th>\n",
       "      <th>Cough_Severity</th>\n",
       "      <th>Breathlessness</th>\n",
       "      <th>Fatigue</th>\n",
       "      <th>Weight_Loss</th>\n",
       "      <th>Fever</th>\n",
       "      <th>Night_Sweats</th>\n",
       "      <th>Sputum_Production</th>\n",
       "      <th>Blood_in_Sputum</th>\n",
       "      <th>Smoking_History</th>\n",
       "      <th>Previous_TB_History</th>\n",
       "      <th>Class</th>\n",
       "    </tr>\n",
       "  </thead>\n",
       "  <tbody>\n",
       "    <tr>\n",
       "      <th>0</th>\n",
       "      <td>PID000001</td>\n",
       "      <td>69</td>\n",
       "      <td>Male</td>\n",
       "      <td>Yes</td>\n",
       "      <td>1</td>\n",
       "      <td>2</td>\n",
       "      <td>3.0</td>\n",
       "      <td>2.37</td>\n",
       "      <td>Moderate</td>\n",
       "      <td>Yes</td>\n",
       "      <td>Medium</td>\n",
       "      <td>Yes</td>\n",
       "      <td>Former</td>\n",
       "      <td>Yes</td>\n",
       "      <td>Normal</td>\n",
       "    </tr>\n",
       "  </tbody>\n",
       "</table>\n",
       "</div>"
      ],
      "text/plain": [
       "  Patient_ID Age Gender Chest_Pain  Cough_Severity  Breathlessness  Fatigue  \\\n",
       "0  PID000001  69   Male        Yes               1               2      3.0   \n",
       "\n",
       "  Weight_Loss     Fever Night_Sweats Sputum_Production Blood_in_Sputum  \\\n",
       "0        2.37  Moderate          Yes            Medium             Yes   \n",
       "\n",
       "  Smoking_History Previous_TB_History   Class  \n",
       "0          Former                 Yes  Normal  "
      ]
     },
     "execution_count": 4,
     "metadata": {},
     "output_type": "execute_result"
    }
   ],
   "source": [
    "# Databn tanishuv\n",
    "df.head(1)"
   ]
  },
  {
   "cell_type": "code",
   "execution_count": 5,
   "metadata": {},
   "outputs": [
    {
     "name": "stdout",
     "output_type": "stream",
     "text": [
      "<class 'pandas.core.frame.DataFrame'>\n",
      "RangeIndex: 19997 entries, 0 to 19996\n",
      "Data columns (total 15 columns):\n",
      " #   Column               Non-Null Count  Dtype  \n",
      "---  ------               --------------  -----  \n",
      " 0   Patient_ID           19997 non-null  object \n",
      " 1   Age                  19997 non-null  object \n",
      " 2   Gender               19997 non-null  object \n",
      " 3   Chest_Pain           19997 non-null  object \n",
      " 4   Cough_Severity       19997 non-null  int64  \n",
      " 5   Breathlessness       19997 non-null  int64  \n",
      " 6   Fatigue              19997 non-null  float64\n",
      " 7   Weight_Loss          19997 non-null  object \n",
      " 8   Fever                19997 non-null  object \n",
      " 9   Night_Sweats         19997 non-null  object \n",
      " 10  Sputum_Production    19997 non-null  object \n",
      " 11  Blood_in_Sputum      19997 non-null  object \n",
      " 12  Smoking_History      19997 non-null  object \n",
      " 13  Previous_TB_History  19996 non-null  object \n",
      " 14  Class                19991 non-null  object \n",
      "dtypes: float64(1), int64(2), object(12)\n",
      "memory usage: 2.3+ MB\n"
     ]
    }
   ],
   "source": [
    "df.info()"
   ]
  },
  {
   "cell_type": "code",
   "execution_count": 9,
   "metadata": {},
   "outputs": [
    {
     "data": {
      "text/plain": [
       "np.float64(2.0)"
      ]
     },
     "execution_count": 9,
     "metadata": {},
     "output_type": "execute_result"
    }
   ],
   "source": [
    "# Numpy\n",
    "a=[1,2,3,]\n",
    "np.mean(a)"
   ]
  },
  {
   "cell_type": "code",
   "execution_count": 10,
   "metadata": {},
   "outputs": [
    {
     "data": {
      "text/plain": [
       "np.int64(2)"
      ]
     },
     "execution_count": 10,
     "metadata": {},
     "output_type": "execute_result"
    }
   ],
   "source": [
    "a=[1,2,3,]\n",
    "np.mean(a).astype(int)"
   ]
  },
  {
   "cell_type": "code",
   "execution_count": 6,
   "metadata": {},
   "outputs": [
    {
     "data": {
      "text/html": [
       "<div>\n",
       "<style scoped>\n",
       "    .dataframe tbody tr th:only-of-type {\n",
       "        vertical-align: middle;\n",
       "    }\n",
       "\n",
       "    .dataframe tbody tr th {\n",
       "        vertical-align: top;\n",
       "    }\n",
       "\n",
       "    .dataframe thead th {\n",
       "        text-align: right;\n",
       "    }\n",
       "</style>\n",
       "<table border=\"1\" class=\"dataframe\">\n",
       "  <thead>\n",
       "    <tr style=\"text-align: right;\">\n",
       "      <th></th>\n",
       "      <th>Cough_Severity</th>\n",
       "      <th>Breathlessness</th>\n",
       "      <th>Fatigue</th>\n",
       "    </tr>\n",
       "  </thead>\n",
       "  <tbody>\n",
       "    <tr>\n",
       "      <th>count</th>\n",
       "      <td>19997.000000</td>\n",
       "      <td>19997.000000</td>\n",
       "      <td>19997.000000</td>\n",
       "    </tr>\n",
       "    <tr>\n",
       "      <th>mean</th>\n",
       "      <td>4.490574</td>\n",
       "      <td>2.004701</td>\n",
       "      <td>4.509429</td>\n",
       "    </tr>\n",
       "    <tr>\n",
       "      <th>std</th>\n",
       "      <td>2.864824</td>\n",
       "      <td>1.419113</td>\n",
       "      <td>2.882701</td>\n",
       "    </tr>\n",
       "    <tr>\n",
       "      <th>min</th>\n",
       "      <td>0.000000</td>\n",
       "      <td>0.000000</td>\n",
       "      <td>0.000000</td>\n",
       "    </tr>\n",
       "    <tr>\n",
       "      <th>25%</th>\n",
       "      <td>2.000000</td>\n",
       "      <td>1.000000</td>\n",
       "      <td>2.000000</td>\n",
       "    </tr>\n",
       "    <tr>\n",
       "      <th>50%</th>\n",
       "      <td>4.000000</td>\n",
       "      <td>2.000000</td>\n",
       "      <td>5.000000</td>\n",
       "    </tr>\n",
       "    <tr>\n",
       "      <th>75%</th>\n",
       "      <td>7.000000</td>\n",
       "      <td>3.000000</td>\n",
       "      <td>7.000000</td>\n",
       "    </tr>\n",
       "    <tr>\n",
       "      <th>max</th>\n",
       "      <td>9.000000</td>\n",
       "      <td>8.000000</td>\n",
       "      <td>13.750000</td>\n",
       "    </tr>\n",
       "  </tbody>\n",
       "</table>\n",
       "</div>"
      ],
      "text/plain": [
       "       Cough_Severity  Breathlessness       Fatigue\n",
       "count    19997.000000    19997.000000  19997.000000\n",
       "mean         4.490574        2.004701      4.509429\n",
       "std          2.864824        1.419113      2.882701\n",
       "min          0.000000        0.000000      0.000000\n",
       "25%          2.000000        1.000000      2.000000\n",
       "50%          4.000000        2.000000      5.000000\n",
       "75%          7.000000        3.000000      7.000000\n",
       "max          9.000000        8.000000     13.750000"
      ]
     },
     "execution_count": 6,
     "metadata": {},
     "output_type": "execute_result"
    }
   ],
   "source": [
    "df.describe()"
   ]
  },
  {
   "cell_type": "code",
   "execution_count": 12,
   "metadata": {},
   "outputs": [
    {
     "data": {
      "text/plain": [
       "0        1\n",
       "1        3\n",
       "2        7\n",
       "3        2\n",
       "4        7\n",
       "        ..\n",
       "19992    0\n",
       "19993    3\n",
       "19994    1\n",
       "19995    8\n",
       "19996    9\n",
       "Name: Cough_Severity, Length: 19997, dtype: int64"
      ]
     },
     "execution_count": 12,
     "metadata": {},
     "output_type": "execute_result"
    }
   ],
   "source": [
    "df['Cough_Severity']"
   ]
  },
  {
   "cell_type": "code",
   "execution_count": 11,
   "metadata": {},
   "outputs": [
    {
     "data": {
      "text/plain": [
       "np.float64(4.490573586037906)"
      ]
     },
     "execution_count": 11,
     "metadata": {},
     "output_type": "execute_result"
    }
   ],
   "source": [
    "np.mean(df['Cough_Severity'])"
   ]
  },
  {
   "cell_type": "code",
   "execution_count": 13,
   "metadata": {},
   "outputs": [
    {
     "data": {
      "text/plain": [
       "np.float64(2.864752114363461)"
      ]
     },
     "execution_count": 13,
     "metadata": {},
     "output_type": "execute_result"
    }
   ],
   "source": [
    "np.std(df['Cough_Severity'])"
   ]
  },
  {
   "cell_type": "code",
   "execution_count": 14,
   "metadata": {},
   "outputs": [
    {
     "data": {
      "text/plain": [
       "np.float64(2.004700705105766)"
      ]
     },
     "execution_count": 14,
     "metadata": {},
     "output_type": "execute_result"
    }
   ],
   "source": [
    "np.mean(df['Breathlessness'])"
   ]
  },
  {
   "cell_type": "code",
   "execution_count": 16,
   "metadata": {},
   "outputs": [
    {
     "data": {
      "text/plain": [
       "0        2\n",
       "1        0\n",
       "2        0\n",
       "3        0\n",
       "4        2\n",
       "        ..\n",
       "19992    4\n",
       "19993    1\n",
       "19994    2\n",
       "19995    4\n",
       "19996    4\n",
       "Name: Breathlessness, Length: 19997, dtype: int64"
      ]
     },
     "execution_count": 16,
     "metadata": {},
     "output_type": "execute_result"
    }
   ],
   "source": [
    "# Malum bis ustunni olish uchun\n",
    "df['Breathlessness']"
   ]
  },
  {
   "cell_type": "code",
   "execution_count": null,
   "metadata": {},
   "outputs": [],
   "source": []
  },
  {
   "cell_type": "code",
   "execution_count": 15,
   "metadata": {},
   "outputs": [],
   "source": [
    "import seaborn as sns"
   ]
  },
  {
   "cell_type": "code",
   "execution_count": 18,
   "metadata": {},
   "outputs": [
    {
     "name": "stdout",
     "output_type": "stream",
     "text": [
      "<class 'pandas.core.frame.DataFrame'>\n",
      "RangeIndex: 19997 entries, 0 to 19996\n",
      "Data columns (total 15 columns):\n",
      " #   Column               Non-Null Count  Dtype  \n",
      "---  ------               --------------  -----  \n",
      " 0   Patient_ID           19997 non-null  object \n",
      " 1   Age                  19997 non-null  object \n",
      " 2   Gender               19997 non-null  object \n",
      " 3   Chest_Pain           19997 non-null  object \n",
      " 4   Cough_Severity       19997 non-null  int64  \n",
      " 5   Breathlessness       19997 non-null  int64  \n",
      " 6   Fatigue              19997 non-null  float64\n",
      " 7   Weight_Loss          19997 non-null  object \n",
      " 8   Fever                19997 non-null  object \n",
      " 9   Night_Sweats         19997 non-null  object \n",
      " 10  Sputum_Production    19997 non-null  object \n",
      " 11  Blood_in_Sputum      19997 non-null  object \n",
      " 12  Smoking_History      19997 non-null  object \n",
      " 13  Previous_TB_History  19996 non-null  object \n",
      " 14  Class                19991 non-null  object \n",
      "dtypes: float64(1), int64(2), object(12)\n",
      "memory usage: 2.3+ MB\n"
     ]
    }
   ],
   "source": [
    "df.info()"
   ]
  },
  {
   "cell_type": "code",
   "execution_count": null,
   "metadata": {},
   "outputs": [
    {
     "data": {
      "text/plain": [
       "<Axes: xlabel='Breathlessness', ylabel='Count'>"
      ]
     },
     "execution_count": 19,
     "metadata": {},
     "output_type": "execute_result"
    },
    {
     "data": {
      "image/png": "[encoded data removed]",
      "text/plain": [
       "<Figure size 640x480 with 1 Axes>"
      ]
     },
     "metadata": {},
     "output_type": "display_data"
    }
   ],
   "source": [
    "sns.histplot(df['Breathlessness'],kde=True,bins=30)"
   ]
  },
  {
   "cell_type": "code",
   "execution_count": 20,
   "metadata": {},
   "outputs": [
    {
     "data": {
      "text/plain": [
       "<Axes: xlabel='Breathlessness', ylabel='Count'>"
      ]
     },
     "execution_count": 20,
     "metadata": {},
     "output_type": "execute_result"
    },
    {
     "data": {
      "image/png": "[encoded data removed]",
      "text/plain": [
       "<Figure size 640x480 with 1 Axes>"
      ]
     },
     "metadata": {},
     "output_type": "display_data"
    }
   ],
   "source": [
    "sns.histplot(df['Breathlessness'],kde=False,bins=30)"
   ]
  },
  {
   "cell_type": "code",
   "execution_count": 22,
   "metadata": {},
   "outputs": [
    {
     "data": {
      "text/plain": [
       "<Axes: ylabel='Breathlessness'>"
      ]
     },
     "execution_count": 22,
     "metadata": {},
     "output_type": "execute_result"
    },
    {
     "data": {
      "image/png": "[encoded data removed]",
      "text/plain": [
       "<Figure size 640x480 with 1 Axes>"
      ]
     },
     "metadata": {},
     "output_type": "display_data"
    }
   ],
   "source": [
    "sns.barplot(df['Breathlessness'])"
   ]
  },
  {
   "cell_type": "code",
   "execution_count": null,
   "metadata": {},
   "outputs": [],
   "source": [
    "sns.histplot(df['Breathlessness','Cough_Severity'],kde=True,bins=30)"
   ]
  },
  {
   "cell_type": "code",
   "execution_count": 28,
   "metadata": {},
   "outputs": [],
   "source": [
    "# Matplotlib"
   ]
  },
  {
   "cell_type": "code",
   "execution_count": 25,
   "metadata": {},
   "outputs": [],
   "source": [
    "import matplotlib.pyplot as plt"
   ]
  },
  {
   "cell_type": "code",
   "execution_count": 26,
   "metadata": {},
   "outputs": [
    {
     "name": "stdout",
     "output_type": "stream",
     "text": [
      "<class 'pandas.core.frame.DataFrame'>\n",
      "RangeIndex: 19997 entries, 0 to 19996\n",
      "Data columns (total 15 columns):\n",
      " #   Column               Non-Null Count  Dtype  \n",
      "---  ------               --------------  -----  \n",
      " 0   Patient_ID           19997 non-null  object \n",
      " 1   Age                  19997 non-null  object \n",
      " 2   Gender               19997 non-null  object \n",
      " 3   Chest_Pain           19997 non-null  object \n",
      " 4   Cough_Severity       19997 non-null  int64  \n",
      " 5   Breathlessness       19997 non-null  int64  \n",
      " 6   Fatigue              19997 non-null  float64\n",
      " 7   Weight_Loss          19997 non-null  object \n",
      " 8   Fever                19997 non-null  object \n",
      " 9   Night_Sweats         19997 non-null  object \n",
      " 10  Sputum_Production    19997 non-null  object \n",
      " 11  Blood_in_Sputum      19997 non-null  object \n",
      " 12  Smoking_History      19997 non-null  object \n",
      " 13  Previous_TB_History  19996 non-null  object \n",
      " 14  Class                19991 non-null  object \n",
      "dtypes: float64(1), int64(2), object(12)\n",
      "memory usage: 2.3+ MB\n"
     ]
    }
   ],
   "source": [
    "df.info()"
   ]
  },
  {
   "cell_type": "code",
   "execution_count": 27,
   "metadata": {},
   "outputs": [
    {
     "data": {
      "text/plain": [
       "0        Yes\n",
       "1        Yes\n",
       "2         No\n",
       "3        Yes\n",
       "4        Yes\n",
       "        ... \n",
       "19992    Yes\n",
       "19993    Yes\n",
       "19994     No\n",
       "19995    Yes\n",
       "19996    Yes\n",
       "Name: Previous_TB_History, Length: 19997, dtype: object"
      ]
     },
     "execution_count": 27,
     "metadata": {},
     "output_type": "execute_result"
    }
   ],
   "source": [
    "df['Previous_TB_History']"
   ]
  },
  {
   "cell_type": "code",
   "execution_count": 30,
   "metadata": {},
   "outputs": [
    {
     "data": {
      "image/png": "[encoded data removed]",
      "text/plain": [
       "<Figure size 1000x600 with 1 Axes>"
      ]
     },
     "metadata": {},
     "output_type": "display_data"
    }
   ],
   "source": [
    "plt.figure(figsize=(10,6))\n",
    "plt.scatter(df['Cough_Severity'],df['Breathlessness'],color='blue')\n",
    "plt.xlabel('Cough_Severity')\n",
    "plt.ylabel('Breathlessness')\n",
    "plt.title('Breathlesnessning ortacha reytinga bogliqligi')\n",
    "plt.show()"
   ]
  },
  {
   "cell_type": "code",
   "execution_count": 42,
   "metadata": {},
   "outputs": [],
   "source": [
    "import plotly as py"
   ]
  },
  {
   "cell_type": "code",
   "execution_count": null,
   "metadata": {},
   "outputs": [],
   "source": []
  },
  {
   "cell_type": "markdown",
   "metadata": {},
   "source": [
    "# project"
   ]
  },
  {
   "cell_type": "code",
   "execution_count": 31,
   "metadata": {},
   "outputs": [],
   "source": [
    "#Kutubxonalar\n",
    "import pandas as pd\n",
    "import numpy as np\n",
    "import seaborn as sns\n",
    "import matplotlib.pyplot as plt\n",
    "from sklearn.preprocessing import LabelEncoder,OneHotEncoder,StandardScaler, RobustScaler\n"
   ]
  },
  {
   "cell_type": "code",
   "execution_count": 32,
   "metadata": {},
   "outputs": [],
   "source": [
    "df=pd.read_csv('tuberculosis_xray_dataset 2.csv')"
   ]
  },
  {
   "cell_type": "code",
   "execution_count": 33,
   "metadata": {},
   "outputs": [
    {
     "data": {
      "text/html": [
       "<div>\n",
       "<style scoped>\n",
       "    .dataframe tbody tr th:only-of-type {\n",
       "        vertical-align: middle;\n",
       "    }\n",
       "\n",
       "    .dataframe tbody tr th {\n",
       "        vertical-align: top;\n",
       "    }\n",
       "\n",
       "    .dataframe thead th {\n",
       "        text-align: right;\n",
       "    }\n",
       "</style>\n",
       "<table border=\"1\" class=\"dataframe\">\n",
       "  <thead>\n",
       "    <tr style=\"text-align: right;\">\n",
       "      <th></th>\n",
       "      <th>Patient_ID</th>\n",
       "      <th>Age</th>\n",
       "      <th>Gender</th>\n",
       "      <th>Chest_Pain</th>\n",
       "      <th>Cough_Severity</th>\n",
       "      <th>Breathlessness</th>\n",
       "      <th>Fatigue</th>\n",
       "      <th>Weight_Loss</th>\n",
       "      <th>Fever</th>\n",
       "      <th>Night_Sweats</th>\n",
       "      <th>Sputum_Production</th>\n",
       "      <th>Blood_in_Sputum</th>\n",
       "      <th>Smoking_History</th>\n",
       "      <th>Previous_TB_History</th>\n",
       "      <th>Class</th>\n",
       "    </tr>\n",
       "  </thead>\n",
       "  <tbody>\n",
       "    <tr>\n",
       "      <th>0</th>\n",
       "      <td>PID000001</td>\n",
       "      <td>69</td>\n",
       "      <td>Male</td>\n",
       "      <td>Yes</td>\n",
       "      <td>1</td>\n",
       "      <td>2</td>\n",
       "      <td>3.0</td>\n",
       "      <td>2.37</td>\n",
       "      <td>Moderate</td>\n",
       "      <td>Yes</td>\n",
       "      <td>Medium</td>\n",
       "      <td>Yes</td>\n",
       "      <td>Former</td>\n",
       "      <td>Yes</td>\n",
       "      <td>Normal</td>\n",
       "    </tr>\n",
       "    <tr>\n",
       "      <th>1</th>\n",
       "      <td>PID000002</td>\n",
       "      <td>32</td>\n",
       "      <td>Female</td>\n",
       "      <td>Yes</td>\n",
       "      <td>3</td>\n",
       "      <td>0</td>\n",
       "      <td>9.0</td>\n",
       "      <td>6.09</td>\n",
       "      <td>Moderate</td>\n",
       "      <td>No</td>\n",
       "      <td>Medium</td>\n",
       "      <td>No</td>\n",
       "      <td>Current</td>\n",
       "      <td>Yes</td>\n",
       "      <td>Normal</td>\n",
       "    </tr>\n",
       "    <tr>\n",
       "      <th>2</th>\n",
       "      <td>PID000003</td>\n",
       "      <td>89</td>\n",
       "      <td>Male</td>\n",
       "      <td>No</td>\n",
       "      <td>7</td>\n",
       "      <td>0</td>\n",
       "      <td>3.0</td>\n",
       "      <td>2.86</td>\n",
       "      <td>Mild</td>\n",
       "      <td>Yes</td>\n",
       "      <td>Medium</td>\n",
       "      <td>No</td>\n",
       "      <td>Current</td>\n",
       "      <td>No</td>\n",
       "      <td>Tuberculosis</td>\n",
       "    </tr>\n",
       "    <tr>\n",
       "      <th>3</th>\n",
       "      <td>PID000004</td>\n",
       "      <td>78</td>\n",
       "      <td>Female</td>\n",
       "      <td>Yes</td>\n",
       "      <td>2</td>\n",
       "      <td>0</td>\n",
       "      <td>6.0</td>\n",
       "      <td>4.57</td>\n",
       "      <td>Moderate</td>\n",
       "      <td>No</td>\n",
       "      <td>High</td>\n",
       "      <td>Yes</td>\n",
       "      <td>Never</td>\n",
       "      <td>Yes</td>\n",
       "      <td>Tuberculosis</td>\n",
       "    </tr>\n",
       "    <tr>\n",
       "      <th>4</th>\n",
       "      <td>PID000005</td>\n",
       "      <td>38</td>\n",
       "      <td>Male</td>\n",
       "      <td>No</td>\n",
       "      <td>7</td>\n",
       "      <td>2</td>\n",
       "      <td>5.0</td>\n",
       "      <td>13.86</td>\n",
       "      <td>High</td>\n",
       "      <td>Yes</td>\n",
       "      <td>Low</td>\n",
       "      <td>No</td>\n",
       "      <td>Never</td>\n",
       "      <td>Yes</td>\n",
       "      <td>Tuberculosis</td>\n",
       "    </tr>\n",
       "  </tbody>\n",
       "</table>\n",
       "</div>"
      ],
      "text/plain": [
       "  Patient_ID Age  Gender Chest_Pain  Cough_Severity  Breathlessness  Fatigue  \\\n",
       "0  PID000001  69    Male        Yes               1               2      3.0   \n",
       "1  PID000002  32  Female        Yes               3               0      9.0   \n",
       "2  PID000003  89    Male         No               7               0      3.0   \n",
       "3  PID000004  78  Female        Yes               2               0      6.0   \n",
       "4  PID000005  38    Male         No               7               2      5.0   \n",
       "\n",
       "  Weight_Loss     Fever Night_Sweats Sputum_Production Blood_in_Sputum  \\\n",
       "0        2.37  Moderate          Yes            Medium             Yes   \n",
       "1        6.09  Moderate           No            Medium              No   \n",
       "2        2.86      Mild          Yes            Medium              No   \n",
       "3        4.57  Moderate           No              High             Yes   \n",
       "4       13.86      High          Yes               Low              No   \n",
       "\n",
       "  Smoking_History Previous_TB_History         Class  \n",
       "0          Former                 Yes        Normal  \n",
       "1         Current                 Yes        Normal  \n",
       "2         Current                  No  Tuberculosis  \n",
       "3           Never                 Yes  Tuberculosis  \n",
       "4           Never                 Yes  Tuberculosis  "
      ]
     },
     "execution_count": 33,
     "metadata": {},
     "output_type": "execute_result"
    }
   ],
   "source": [
    "df.head()"
   ]
  },
  {
   "cell_type": "code",
   "execution_count": 34,
   "metadata": {},
   "outputs": [
    {
     "name": "stdout",
     "output_type": "stream",
     "text": [
      "<class 'pandas.core.frame.DataFrame'>\n",
      "RangeIndex: 19997 entries, 0 to 19996\n",
      "Data columns (total 15 columns):\n",
      " #   Column               Non-Null Count  Dtype  \n",
      "---  ------               --------------  -----  \n",
      " 0   Patient_ID           19997 non-null  object \n",
      " 1   Age                  19997 non-null  object \n",
      " 2   Gender               19997 non-null  object \n",
      " 3   Chest_Pain           19997 non-null  object \n",
      " 4   Cough_Severity       19997 non-null  int64  \n",
      " 5   Breathlessness       19997 non-null  int64  \n",
      " 6   Fatigue              19997 non-null  float64\n",
      " 7   Weight_Loss          19997 non-null  object \n",
      " 8   Fever                19997 non-null  object \n",
      " 9   Night_Sweats         19997 non-null  object \n",
      " 10  Sputum_Production    19997 non-null  object \n",
      " 11  Blood_in_Sputum      19997 non-null  object \n",
      " 12  Smoking_History      19997 non-null  object \n",
      " 13  Previous_TB_History  19996 non-null  object \n",
      " 14  Class                19991 non-null  object \n",
      "dtypes: float64(1), int64(2), object(12)\n",
      "memory usage: 2.3+ MB\n"
     ]
    }
   ],
   "source": [
    "df.info()"
   ]
  },
  {
   "cell_type": "code",
   "execution_count": 36,
   "metadata": {},
   "outputs": [],
   "source": [
    "df.drop(columns=['Previous_TB_History'],inplace=True)"
   ]
  },
  {
   "cell_type": "code",
   "execution_count": 37,
   "metadata": {},
   "outputs": [
    {
     "name": "stdout",
     "output_type": "stream",
     "text": [
      "<class 'pandas.core.frame.DataFrame'>\n",
      "RangeIndex: 19997 entries, 0 to 19996\n",
      "Data columns (total 14 columns):\n",
      " #   Column             Non-Null Count  Dtype  \n",
      "---  ------             --------------  -----  \n",
      " 0   Patient_ID         19997 non-null  object \n",
      " 1   Age                19997 non-null  object \n",
      " 2   Gender             19997 non-null  object \n",
      " 3   Chest_Pain         19997 non-null  object \n",
      " 4   Cough_Severity     19997 non-null  int64  \n",
      " 5   Breathlessness     19997 non-null  int64  \n",
      " 6   Fatigue            19997 non-null  float64\n",
      " 7   Weight_Loss        19997 non-null  object \n",
      " 8   Fever              19997 non-null  object \n",
      " 9   Night_Sweats       19997 non-null  object \n",
      " 10  Sputum_Production  19997 non-null  object \n",
      " 11  Blood_in_Sputum    19997 non-null  object \n",
      " 12  Smoking_History    19997 non-null  object \n",
      " 13  Class              19991 non-null  object \n",
      "dtypes: float64(1), int64(2), object(11)\n",
      "memory usage: 2.1+ MB\n"
     ]
    }
   ],
   "source": [
    "df.info()"
   ]
  },
  {
   "cell_type": "code",
   "execution_count": 38,
   "metadata": {},
   "outputs": [
    {
     "data": {
      "text/html": [
       "<div>\n",
       "<style scoped>\n",
       "    .dataframe tbody tr th:only-of-type {\n",
       "        vertical-align: middle;\n",
       "    }\n",
       "\n",
       "    .dataframe tbody tr th {\n",
       "        vertical-align: top;\n",
       "    }\n",
       "\n",
       "    .dataframe thead th {\n",
       "        text-align: right;\n",
       "    }\n",
       "</style>\n",
       "<table border=\"1\" class=\"dataframe\">\n",
       "  <thead>\n",
       "    <tr style=\"text-align: right;\">\n",
       "      <th></th>\n",
       "      <th>Patient_ID</th>\n",
       "      <th>Age</th>\n",
       "      <th>Gender</th>\n",
       "      <th>Chest_Pain</th>\n",
       "      <th>Cough_Severity</th>\n",
       "      <th>Breathlessness</th>\n",
       "      <th>Fatigue</th>\n",
       "      <th>Weight_Loss</th>\n",
       "      <th>Fever</th>\n",
       "      <th>Night_Sweats</th>\n",
       "      <th>Sputum_Production</th>\n",
       "      <th>Blood_in_Sputum</th>\n",
       "      <th>Smoking_History</th>\n",
       "      <th>Class</th>\n",
       "    </tr>\n",
       "  </thead>\n",
       "  <tbody>\n",
       "    <tr>\n",
       "      <th>0</th>\n",
       "      <td>PID000001</td>\n",
       "      <td>69</td>\n",
       "      <td>Male</td>\n",
       "      <td>Yes</td>\n",
       "      <td>1</td>\n",
       "      <td>2</td>\n",
       "      <td>3.0</td>\n",
       "      <td>2.37</td>\n",
       "      <td>Moderate</td>\n",
       "      <td>Yes</td>\n",
       "      <td>Medium</td>\n",
       "      <td>Yes</td>\n",
       "      <td>Former</td>\n",
       "      <td>Normal</td>\n",
       "    </tr>\n",
       "    <tr>\n",
       "      <th>1</th>\n",
       "      <td>PID000002</td>\n",
       "      <td>32</td>\n",
       "      <td>Female</td>\n",
       "      <td>Yes</td>\n",
       "      <td>3</td>\n",
       "      <td>0</td>\n",
       "      <td>9.0</td>\n",
       "      <td>6.09</td>\n",
       "      <td>Moderate</td>\n",
       "      <td>No</td>\n",
       "      <td>Medium</td>\n",
       "      <td>No</td>\n",
       "      <td>Current</td>\n",
       "      <td>Normal</td>\n",
       "    </tr>\n",
       "    <tr>\n",
       "      <th>2</th>\n",
       "      <td>PID000003</td>\n",
       "      <td>89</td>\n",
       "      <td>Male</td>\n",
       "      <td>No</td>\n",
       "      <td>7</td>\n",
       "      <td>0</td>\n",
       "      <td>3.0</td>\n",
       "      <td>2.86</td>\n",
       "      <td>Mild</td>\n",
       "      <td>Yes</td>\n",
       "      <td>Medium</td>\n",
       "      <td>No</td>\n",
       "      <td>Current</td>\n",
       "      <td>Tuberculosis</td>\n",
       "    </tr>\n",
       "    <tr>\n",
       "      <th>3</th>\n",
       "      <td>PID000004</td>\n",
       "      <td>78</td>\n",
       "      <td>Female</td>\n",
       "      <td>Yes</td>\n",
       "      <td>2</td>\n",
       "      <td>0</td>\n",
       "      <td>6.0</td>\n",
       "      <td>4.57</td>\n",
       "      <td>Moderate</td>\n",
       "      <td>No</td>\n",
       "      <td>High</td>\n",
       "      <td>Yes</td>\n",
       "      <td>Never</td>\n",
       "      <td>Tuberculosis</td>\n",
       "    </tr>\n",
       "    <tr>\n",
       "      <th>4</th>\n",
       "      <td>PID000005</td>\n",
       "      <td>38</td>\n",
       "      <td>Male</td>\n",
       "      <td>No</td>\n",
       "      <td>7</td>\n",
       "      <td>2</td>\n",
       "      <td>5.0</td>\n",
       "      <td>13.86</td>\n",
       "      <td>High</td>\n",
       "      <td>Yes</td>\n",
       "      <td>Low</td>\n",
       "      <td>No</td>\n",
       "      <td>Never</td>\n",
       "      <td>Tuberculosis</td>\n",
       "    </tr>\n",
       "  </tbody>\n",
       "</table>\n",
       "</div>"
      ],
      "text/plain": [
       "  Patient_ID Age  Gender Chest_Pain  Cough_Severity  Breathlessness  Fatigue  \\\n",
       "0  PID000001  69    Male        Yes               1               2      3.0   \n",
       "1  PID000002  32  Female        Yes               3               0      9.0   \n",
       "2  PID000003  89    Male         No               7               0      3.0   \n",
       "3  PID000004  78  Female        Yes               2               0      6.0   \n",
       "4  PID000005  38    Male         No               7               2      5.0   \n",
       "\n",
       "  Weight_Loss     Fever Night_Sweats Sputum_Production Blood_in_Sputum  \\\n",
       "0        2.37  Moderate          Yes            Medium             Yes   \n",
       "1        6.09  Moderate           No            Medium              No   \n",
       "2        2.86      Mild          Yes            Medium              No   \n",
       "3        4.57  Moderate           No              High             Yes   \n",
       "4       13.86      High          Yes               Low              No   \n",
       "\n",
       "  Smoking_History         Class  \n",
       "0          Former        Normal  \n",
       "1         Current        Normal  \n",
       "2         Current  Tuberculosis  \n",
       "3           Never  Tuberculosis  \n",
       "4           Never  Tuberculosis  "
      ]
     },
     "execution_count": 38,
     "metadata": {},
     "output_type": "execute_result"
    }
   ],
   "source": [
    "df.head()"
   ]
  },
  {
   "cell_type": "code",
   "execution_count": 39,
   "metadata": {},
   "outputs": [
    {
     "data": {
      "text/plain": [
       "Index(['Patient_ID', 'Age', 'Gender', 'Chest_Pain', 'Cough_Severity',\n",
       "       'Breathlessness', 'Fatigue', 'Weight_Loss', 'Fever', 'Night_Sweats',\n",
       "       'Sputum_Production', 'Blood_in_Sputum', 'Smoking_History', 'Class'],\n",
       "      dtype='object')"
      ]
     },
     "execution_count": 39,
     "metadata": {},
     "output_type": "execute_result"
    }
   ],
   "source": [
    "df.columns"
   ]
  },
  {
   "cell_type": "code",
   "execution_count": 40,
   "metadata": {},
   "outputs": [
    {
     "data": {
      "text/plain": [
       "['Patient_ID',\n",
       " 'Age',\n",
       " 'Gender',\n",
       " 'Chest_Pain',\n",
       " 'Cough_Severity',\n",
       " 'Breathlessness',\n",
       " 'Fatigue',\n",
       " 'Weight_Loss',\n",
       " 'Fever',\n",
       " 'Night_Sweats',\n",
       " 'Sputum_Production',\n",
       " 'Blood_in_Sputum',\n",
       " 'Smoking_History',\n",
       " 'Class']"
      ]
     },
     "execution_count": 40,
     "metadata": {},
     "output_type": "execute_result"
    }
   ],
   "source": [
    "df.columns.to_list()"
   ]
  },
  {
   "cell_type": "markdown",
   "metadata": {},
   "source": [
    "# Data Preprocessing"
   ]
  },
  {
   "cell_type": "code",
   "execution_count": 41,
   "metadata": {},
   "outputs": [],
   "source": [
    "#Handling missing values"
   ]
  },
  {
   "cell_type": "code",
   "execution_count": 42,
   "metadata": {},
   "outputs": [
    {
     "name": "stdout",
     "output_type": "stream",
     "text": [
      "<class 'pandas.core.frame.DataFrame'>\n",
      "RangeIndex: 19997 entries, 0 to 19996\n",
      "Data columns (total 14 columns):\n",
      " #   Column             Non-Null Count  Dtype  \n",
      "---  ------             --------------  -----  \n",
      " 0   Patient_ID         19997 non-null  object \n",
      " 1   Age                19997 non-null  object \n",
      " 2   Gender             19997 non-null  object \n",
      " 3   Chest_Pain         19997 non-null  object \n",
      " 4   Cough_Severity     19997 non-null  int64  \n",
      " 5   Breathlessness     19997 non-null  int64  \n",
      " 6   Fatigue            19997 non-null  float64\n",
      " 7   Weight_Loss        19997 non-null  object \n",
      " 8   Fever              19997 non-null  object \n",
      " 9   Night_Sweats       19997 non-null  object \n",
      " 10  Sputum_Production  19997 non-null  object \n",
      " 11  Blood_in_Sputum    19997 non-null  object \n",
      " 12  Smoking_History    19997 non-null  object \n",
      " 13  Class              19991 non-null  object \n",
      "dtypes: float64(1), int64(2), object(11)\n",
      "memory usage: 2.1+ MB\n"
     ]
    }
   ],
   "source": [
    "df.info()"
   ]
  },
  {
   "cell_type": "code",
   "execution_count": 43,
   "metadata": {},
   "outputs": [
    {
     "data": {
      "text/plain": [
       "Patient_ID           0\n",
       "Age                  0\n",
       "Gender               0\n",
       "Chest_Pain           0\n",
       "Cough_Severity       0\n",
       "Breathlessness       0\n",
       "Fatigue              0\n",
       "Weight_Loss          0\n",
       "Fever                0\n",
       "Night_Sweats         0\n",
       "Sputum_Production    0\n",
       "Blood_in_Sputum      0\n",
       "Smoking_History      0\n",
       "Class                6\n",
       "dtype: int64"
      ]
     },
     "execution_count": 43,
     "metadata": {},
     "output_type": "execute_result"
    }
   ],
   "source": [
    "df.isnull().sum()"
   ]
  }
 ],
 "metadata": {
  "kernelspec": {
   "display_name": "Python 3",
   "language": "python",
   "name": "python3"
  },
  "language_info": {
   "codemirror_mode": {
    "name": "ipython",
    "version": 3
   },
   "file_extension": ".py",
   "mimetype": "text/x-python",
   "name": "python",
   "nbconvert_exporter": "python",
   "pygments_lexer": "ipython3",
   "version": "3.11.9"
  }
 },
 "nbformat": 4,
 "nbformat_minor": 2
}
