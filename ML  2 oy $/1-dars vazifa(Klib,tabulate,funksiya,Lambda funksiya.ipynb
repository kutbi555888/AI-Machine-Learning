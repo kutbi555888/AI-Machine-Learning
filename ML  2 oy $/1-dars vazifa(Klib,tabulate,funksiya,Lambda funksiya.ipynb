{
 "cells": [
  {
   "cell_type": "markdown",
   "metadata": {},
   "source": [
    "# Klib"
   ]
  },
  {
   "cell_type": "code",
   "execution_count": 59,
   "metadata": {},
   "outputs": [
    {
     "name": "stderr",
     "output_type": "stream",
     "text": [
      "\n",
      "[notice] A new release of pip is available: 24.0 -> 25.0.1\n",
      "[notice] To update, run: C:\\Users\\xolmu\\AppData\\Local\\Microsoft\\WindowsApps\\PythonSoftwareFoundation.Python.3.11_qbz5n2kfra8p0\\python.exe -m pip install --upgrade pip\n"
     ]
    },
    {
     "name": "stdout",
     "output_type": "stream",
     "text": [
      "Collecting klib\n",
      "  Downloading klib-1.3.2-py3-none-any.whl.metadata (7.4 kB)\n",
      "Collecting jinja2>=3.1.0 (from klib)\n",
      "  Downloading jinja2-3.1.6-py3-none-any.whl.metadata (2.9 kB)\n",
      "Requirement already satisfied: matplotlib>=3.6.0 in c:\\users\\xolmu\\appdata\\local\\packages\\pythonsoftwarefoundation.python.3.11_qbz5n2kfra8p0\\localcache\\local-packages\\python311\\site-packages (from klib) (3.10.0)\n",
      "Requirement already satisfied: numpy>=1.26.0 in c:\\users\\xolmu\\appdata\\local\\packages\\pythonsoftwarefoundation.python.3.11_qbz5n2kfra8p0\\localcache\\local-packages\\python311\\site-packages (from klib) (2.2.2)\n",
      "Requirement already satisfied: pandas<3.0,>=1.4 in c:\\users\\xolmu\\appdata\\local\\packages\\pythonsoftwarefoundation.python.3.11_qbz5n2kfra8p0\\localcache\\local-packages\\python311\\site-packages (from klib) (2.2.3)\n",
      "Collecting plotly>=5.11.0 (from klib)\n",
      "  Downloading plotly-6.0.1-py3-none-any.whl.metadata (6.7 kB)\n",
      "Requirement already satisfied: scipy>=1.10.0 in c:\\users\\xolmu\\appdata\\local\\packages\\pythonsoftwarefoundation.python.3.11_qbz5n2kfra8p0\\localcache\\local-packages\\python311\\site-packages (from klib) (1.15.1)\n",
      "Collecting screeninfo>=0.8.1 (from klib)\n",
      "  Downloading screeninfo-0.8.1-py3-none-any.whl.metadata (2.9 kB)\n",
      "Requirement already satisfied: seaborn>=0.12.0 in c:\\users\\xolmu\\appdata\\local\\packages\\pythonsoftwarefoundation.python.3.11_qbz5n2kfra8p0\\localcache\\local-packages\\python311\\site-packages (from klib) (0.13.2)\n",
      "Collecting MarkupSafe>=2.0 (from jinja2>=3.1.0->klib)\n",
      "  Downloading MarkupSafe-3.0.2-cp311-cp311-win_amd64.whl.metadata (4.1 kB)\n",
      "Requirement already satisfied: contourpy>=1.0.1 in c:\\users\\xolmu\\appdata\\local\\packages\\pythonsoftwarefoundation.python.3.11_qbz5n2kfra8p0\\localcache\\local-packages\\python311\\site-packages (from matplotlib>=3.6.0->klib) (1.3.1)\n",
      "Requirement already satisfied: cycler>=0.10 in c:\\users\\xolmu\\appdata\\local\\packages\\pythonsoftwarefoundation.python.3.11_qbz5n2kfra8p0\\localcache\\local-packages\\python311\\site-packages (from matplotlib>=3.6.0->klib) (0.12.1)\n",
      "Requirement already satisfied: fonttools>=4.22.0 in c:\\users\\xolmu\\appdata\\local\\packages\\pythonsoftwarefoundation.python.3.11_qbz5n2kfra8p0\\localcache\\local-packages\\python311\\site-packages (from matplotlib>=3.6.0->klib) (4.55.8)\n",
      "Requirement already satisfied: kiwisolver>=1.3.1 in c:\\users\\xolmu\\appdata\\local\\packages\\pythonsoftwarefoundation.python.3.11_qbz5n2kfra8p0\\localcache\\local-packages\\python311\\site-packages (from matplotlib>=3.6.0->klib) (1.4.8)\n",
      "Requirement already satisfied: packaging>=20.0 in c:\\users\\xolmu\\appdata\\local\\packages\\pythonsoftwarefoundation.python.3.11_qbz5n2kfra8p0\\localcache\\local-packages\\python311\\site-packages (from matplotlib>=3.6.0->klib) (24.2)\n",
      "Requirement already satisfied: pillow>=8 in c:\\users\\xolmu\\appdata\\local\\packages\\pythonsoftwarefoundation.python.3.11_qbz5n2kfra8p0\\localcache\\local-packages\\python311\\site-packages (from matplotlib>=3.6.0->klib) (11.1.0)\n",
      "Requirement already satisfied: pyparsing>=2.3.1 in c:\\users\\xolmu\\appdata\\local\\packages\\pythonsoftwarefoundation.python.3.11_qbz5n2kfra8p0\\localcache\\local-packages\\python311\\site-packages (from matplotlib>=3.6.0->klib) (3.2.1)\n",
      "Requirement already satisfied: python-dateutil>=2.7 in c:\\users\\xolmu\\appdata\\local\\packages\\pythonsoftwarefoundation.python.3.11_qbz5n2kfra8p0\\localcache\\local-packages\\python311\\site-packages (from matplotlib>=3.6.0->klib) (2.9.0.post0)\n",
      "Requirement already satisfied: pytz>=2020.1 in c:\\users\\xolmu\\appdata\\local\\packages\\pythonsoftwarefoundation.python.3.11_qbz5n2kfra8p0\\localcache\\local-packages\\python311\\site-packages (from pandas<3.0,>=1.4->klib) (2025.1)\n",
      "Requirement already satisfied: tzdata>=2022.7 in c:\\users\\xolmu\\appdata\\local\\packages\\pythonsoftwarefoundation.python.3.11_qbz5n2kfra8p0\\localcache\\local-packages\\python311\\site-packages (from pandas<3.0,>=1.4->klib) (2025.1)\n",
      "Collecting narwhals>=1.15.1 (from plotly>=5.11.0->klib)\n",
      "  Downloading narwhals-1.34.0-py3-none-any.whl.metadata (9.2 kB)\n",
      "Requirement already satisfied: six>=1.5 in c:\\users\\xolmu\\appdata\\local\\packages\\pythonsoftwarefoundation.python.3.11_qbz5n2kfra8p0\\localcache\\local-packages\\python311\\site-packages (from python-dateutil>=2.7->matplotlib>=3.6.0->klib) (1.17.0)\n",
      "Downloading klib-1.3.2-py3-none-any.whl (23 kB)\n",
      "Downloading jinja2-3.1.6-py3-none-any.whl (134 kB)\n",
      "   ---------------------------------------- 0.0/134.9 kB ? eta -:--:--\n",
      "   ---------------------------------------  133.1/134.9 kB 4.0 MB/s eta 0:00:01\n",
      "   ---------------------------------------- 134.9/134.9 kB 2.7 MB/s eta 0:00:00\n",
      "Downloading plotly-6.0.1-py3-none-any.whl (14.8 MB)\n",
      "   ---------------------------------------- 0.0/14.8 MB ? eta -:--:--\n",
      "   -- ------------------------------------- 0.9/14.8 MB 29.1 MB/s eta 0:00:01\n",
      "   --- ------------------------------------ 1.2/14.8 MB 24.6 MB/s eta 0:00:01\n",
      "   --- ------------------------------------ 1.3/14.8 MB 10.5 MB/s eta 0:00:02\n",
      "   --- ------------------------------------ 1.4/14.8 MB 9.2 MB/s eta 0:00:02\n",
      "   ---- ----------------------------------- 1.8/14.8 MB 7.9 MB/s eta 0:00:02\n",
      "   -------- ------------------------------- 3.1/14.8 MB 11.1 MB/s eta 0:00:02\n",
      "   -------------- ------------------------- 5.3/14.8 MB 16.9 MB/s eta 0:00:01\n",
      "   -------------- ------------------------- 5.4/14.8 MB 16.5 MB/s eta 0:00:01\n",
      "   -------------- ------------------------- 5.5/14.8 MB 13.6 MB/s eta 0:00:01\n",
      "   --------------- ------------------------ 5.7/14.8 MB 12.9 MB/s eta 0:00:01\n",
      "   ---------------- ----------------------- 6.0/14.8 MB 12.3 MB/s eta 0:00:01\n",
      "   ------------------------ --------------- 9.0/14.8 MB 15.9 MB/s eta 0:00:01\n",
      "   -------------------------------- ------- 12.0/14.8 MB 26.2 MB/s eta 0:00:01\n",
      "   ------------------------------------- -- 13.9/14.8 MB 28.4 MB/s eta 0:00:01\n",
      "   ---------------------------------------  14.8/14.8 MB 28.5 MB/s eta 0:00:01\n",
      "   ---------------------------------------- 14.8/14.8 MB 25.2 MB/s eta 0:00:00\n",
      "Downloading screeninfo-0.8.1-py3-none-any.whl (12 kB)\n",
      "Downloading MarkupSafe-3.0.2-cp311-cp311-win_amd64.whl (15 kB)\n",
      "Downloading narwhals-1.34.0-py3-none-any.whl (325 kB)\n",
      "   ---------------------------------------- 0.0/325.3 kB ? eta -:--:--\n",
      "   --------------------------------------- 325.3/325.3 kB 19.7 MB/s eta 0:00:00\n",
      "Installing collected packages: screeninfo, narwhals, MarkupSafe, plotly, jinja2, klib\n",
      "Successfully installed MarkupSafe-3.0.2 jinja2-3.1.6 klib-1.3.2 narwhals-1.34.0 plotly-6.0.1 screeninfo-0.8.1\n"
     ]
    }
   ],
   "source": [
    "!pip install klib"
   ]
  },
  {
   "cell_type": "code",
   "execution_count": 60,
   "metadata": {},
   "outputs": [],
   "source": [
    "import pandas as pd\n",
    "import klib"
   ]
  },
  {
   "cell_type": "code",
   "execution_count": 61,
   "metadata": {},
   "outputs": [],
   "source": [
    "df=pd.read_csv('tuberculosis_xray_dataset 4.csv')"
   ]
  },
  {
   "cell_type": "code",
   "execution_count": 62,
   "metadata": {},
   "outputs": [
    {
     "data": {
      "text/html": [
       "<div>\n",
       "<style scoped>\n",
       "    .dataframe tbody tr th:only-of-type {\n",
       "        vertical-align: middle;\n",
       "    }\n",
       "\n",
       "    .dataframe tbody tr th {\n",
       "        vertical-align: top;\n",
       "    }\n",
       "\n",
       "    .dataframe thead th {\n",
       "        text-align: right;\n",
       "    }\n",
       "</style>\n",
       "<table border=\"1\" class=\"dataframe\">\n",
       "  <thead>\n",
       "    <tr style=\"text-align: right;\">\n",
       "      <th></th>\n",
       "      <th>Patient_ID</th>\n",
       "      <th>Age</th>\n",
       "      <th>Gender</th>\n",
       "      <th>Chest_Pain</th>\n",
       "      <th>Cough_Severity</th>\n",
       "      <th>Breathlessness</th>\n",
       "      <th>Fatigue</th>\n",
       "      <th>Weight_Loss</th>\n",
       "      <th>Fever</th>\n",
       "      <th>Night_Sweats</th>\n",
       "      <th>Sputum_Production</th>\n",
       "      <th>Blood_in_Sputum</th>\n",
       "      <th>Smoking_History</th>\n",
       "      <th>Previous_TB_History</th>\n",
       "      <th>Class</th>\n",
       "    </tr>\n",
       "  </thead>\n",
       "  <tbody>\n",
       "    <tr>\n",
       "      <th>0</th>\n",
       "      <td>PID000001</td>\n",
       "      <td>69</td>\n",
       "      <td>Male</td>\n",
       "      <td>Yes</td>\n",
       "      <td>1.0</td>\n",
       "      <td>2.0</td>\n",
       "      <td>3</td>\n",
       "      <td>2.37</td>\n",
       "      <td>Moderate</td>\n",
       "      <td>Yes</td>\n",
       "      <td>Medium</td>\n",
       "      <td>Yes</td>\n",
       "      <td>Former</td>\n",
       "      <td>Yes</td>\n",
       "      <td>Normal</td>\n",
       "    </tr>\n",
       "    <tr>\n",
       "      <th>1</th>\n",
       "      <td>PID000002</td>\n",
       "      <td>32</td>\n",
       "      <td>Female</td>\n",
       "      <td>Yes</td>\n",
       "      <td>3.0</td>\n",
       "      <td>0.0</td>\n",
       "      <td>9</td>\n",
       "      <td>6.09</td>\n",
       "      <td>Moderate</td>\n",
       "      <td>No</td>\n",
       "      <td>Medium</td>\n",
       "      <td>No</td>\n",
       "      <td>Current</td>\n",
       "      <td>Yes</td>\n",
       "      <td>Normal</td>\n",
       "    </tr>\n",
       "    <tr>\n",
       "      <th>2</th>\n",
       "      <td>PID000003</td>\n",
       "      <td>89</td>\n",
       "      <td>Male</td>\n",
       "      <td>No</td>\n",
       "      <td>7.0</td>\n",
       "      <td>0.0</td>\n",
       "      <td>3</td>\n",
       "      <td>2.86</td>\n",
       "      <td>Mild</td>\n",
       "      <td>Yes</td>\n",
       "      <td>Medium</td>\n",
       "      <td>No</td>\n",
       "      <td>Current</td>\n",
       "      <td>No</td>\n",
       "      <td>Tuberculosis</td>\n",
       "    </tr>\n",
       "    <tr>\n",
       "      <th>3</th>\n",
       "      <td>PID000004</td>\n",
       "      <td>78</td>\n",
       "      <td>Female</td>\n",
       "      <td>Yes</td>\n",
       "      <td>2.0</td>\n",
       "      <td>0.0</td>\n",
       "      <td>6</td>\n",
       "      <td>4.57</td>\n",
       "      <td>Moderate</td>\n",
       "      <td>No</td>\n",
       "      <td>High</td>\n",
       "      <td>Yes</td>\n",
       "      <td>Never</td>\n",
       "      <td>Yes</td>\n",
       "      <td>Tuberculosis</td>\n",
       "    </tr>\n",
       "    <tr>\n",
       "      <th>4</th>\n",
       "      <td>PID000005</td>\n",
       "      <td>38</td>\n",
       "      <td>Male</td>\n",
       "      <td>No</td>\n",
       "      <td>7.0</td>\n",
       "      <td>2.0</td>\n",
       "      <td>5</td>\n",
       "      <td>13.86</td>\n",
       "      <td>High</td>\n",
       "      <td>Yes</td>\n",
       "      <td>Low</td>\n",
       "      <td>No</td>\n",
       "      <td>Never</td>\n",
       "      <td>Yes</td>\n",
       "      <td>Tuberculosis</td>\n",
       "    </tr>\n",
       "  </tbody>\n",
       "</table>\n",
       "</div>"
      ],
      "text/plain": [
       "  Patient_ID Age  Gender Chest_Pain  Cough_Severity  Breathlessness Fatigue  \\\n",
       "0  PID000001  69    Male        Yes             1.0             2.0       3   \n",
       "1  PID000002  32  Female        Yes             3.0             0.0       9   \n",
       "2  PID000003  89    Male         No             7.0             0.0       3   \n",
       "3  PID000004  78  Female        Yes             2.0             0.0       6   \n",
       "4  PID000005  38    Male         No             7.0             2.0       5   \n",
       "\n",
       "  Weight_Loss     Fever Night_Sweats Sputum_Production Blood_in_Sputum  \\\n",
       "0        2.37  Moderate          Yes            Medium             Yes   \n",
       "1        6.09  Moderate           No            Medium              No   \n",
       "2        2.86      Mild          Yes            Medium              No   \n",
       "3        4.57  Moderate           No              High             Yes   \n",
       "4       13.86      High          Yes               Low              No   \n",
       "\n",
       "  Smoking_History Previous_TB_History         Class  \n",
       "0          Former                 Yes        Normal  \n",
       "1         Current                 Yes        Normal  \n",
       "2         Current                  No  Tuberculosis  \n",
       "3           Never                 Yes  Tuberculosis  \n",
       "4           Never                 Yes  Tuberculosis  "
      ]
     },
     "execution_count": 62,
     "metadata": {},
     "output_type": "execute_result"
    }
   ],
   "source": [
    "df.head()"
   ]
  },
  {
   "cell_type": "code",
   "execution_count": 63,
   "metadata": {},
   "outputs": [
    {
     "name": "stdout",
     "output_type": "stream",
     "text": [
      "<class 'pandas.core.frame.DataFrame'>\n",
      "RangeIndex: 19986 entries, 0 to 19985\n",
      "Data columns (total 15 columns):\n",
      " #   Column               Non-Null Count  Dtype  \n",
      "---  ------               --------------  -----  \n",
      " 0   Patient_ID           19986 non-null  object \n",
      " 1   Age                  19986 non-null  object \n",
      " 2   Gender               19985 non-null  object \n",
      " 3   Chest_Pain           19986 non-null  object \n",
      " 4   Cough_Severity       19985 non-null  float64\n",
      " 5   Breathlessness       19986 non-null  float64\n",
      " 6   Fatigue              19986 non-null  object \n",
      " 7   Weight_Loss          19986 non-null  object \n",
      " 8   Fever                19986 non-null  object \n",
      " 9   Night_Sweats         19986 non-null  object \n",
      " 10  Sputum_Production    19986 non-null  object \n",
      " 11  Blood_in_Sputum      19986 non-null  object \n",
      " 12  Smoking_History      19985 non-null  object \n",
      " 13  Previous_TB_History  19985 non-null  object \n",
      " 14  Class                19884 non-null  object \n",
      "dtypes: float64(2), object(13)\n",
      "memory usage: 2.3+ MB\n"
     ]
    }
   ],
   "source": [
    "df.info()"
   ]
  },
  {
   "cell_type": "code",
   "execution_count": 64,
   "metadata": {},
   "outputs": [
    {
     "name": "stdout",
     "output_type": "stream",
     "text": [
      "Shape of cleaned data: (19986, 15) - Remaining NAs: 106\n",
      "\n",
      "\n",
      "Dropped rows: 0\n",
      "     of which 0 duplicates. (Rows (first 150 shown): [])\n",
      "\n",
      "Dropped columns: 0\n",
      "     of which 0 single valued.     Columns: []\n",
      "Dropped missing values: 0\n",
      "Reduced memory by at least: 1.62 MB (-70.74%)\n",
      "\n"
     ]
    }
   ],
   "source": [
    "df=klib.data_cleaning(df)"
   ]
  },
  {
   "cell_type": "code",
   "execution_count": 65,
   "metadata": {},
   "outputs": [
    {
     "name": "stdout",
     "output_type": "stream",
     "text": [
      "<class 'pandas.core.frame.DataFrame'>\n",
      "RangeIndex: 19986 entries, 0 to 19985\n",
      "Data columns (total 15 columns):\n",
      " #   Column               Non-Null Count  Dtype   \n",
      "---  ------               --------------  -----   \n",
      " 0   patient_id           19986 non-null  string  \n",
      " 1   age                  19986 non-null  category\n",
      " 2   gender               19985 non-null  category\n",
      " 3   chest_pain           19986 non-null  category\n",
      " 4   cough_severity       19985 non-null  float32 \n",
      " 5   breathlessness       19986 non-null  float32 \n",
      " 6   fatigue              19986 non-null  category\n",
      " 7   weight_loss          19986 non-null  string  \n",
      " 8   fever                19986 non-null  category\n",
      " 9   night_sweats         19986 non-null  category\n",
      " 10  sputum_production    19986 non-null  category\n",
      " 11  blood_in_sputum      19986 non-null  category\n",
      " 12  smoking_history      19985 non-null  category\n",
      " 13  previous_tb_history  19985 non-null  category\n",
      " 14  class                19884 non-null  category\n",
      "dtypes: category(11), float32(2), string(2)\n",
      "memory usage: 689.2 KB\n"
     ]
    }
   ],
   "source": [
    "df.info()"
   ]
  },
  {
   "cell_type": "code",
   "execution_count": 66,
   "metadata": {},
   "outputs": [
    {
     "data": {
      "text/html": [
       "<div>\n",
       "<style scoped>\n",
       "    .dataframe tbody tr th:only-of-type {\n",
       "        vertical-align: middle;\n",
       "    }\n",
       "\n",
       "    .dataframe tbody tr th {\n",
       "        vertical-align: top;\n",
       "    }\n",
       "\n",
       "    .dataframe thead th {\n",
       "        text-align: right;\n",
       "    }\n",
       "</style>\n",
       "<table border=\"1\" class=\"dataframe\">\n",
       "  <thead>\n",
       "    <tr style=\"text-align: right;\">\n",
       "      <th></th>\n",
       "      <th>patient_id</th>\n",
       "      <th>age</th>\n",
       "      <th>gender</th>\n",
       "      <th>chest_pain</th>\n",
       "      <th>cough_severity</th>\n",
       "      <th>breathlessness</th>\n",
       "      <th>fatigue</th>\n",
       "      <th>weight_loss</th>\n",
       "      <th>fever</th>\n",
       "      <th>night_sweats</th>\n",
       "      <th>sputum_production</th>\n",
       "      <th>blood_in_sputum</th>\n",
       "      <th>smoking_history</th>\n",
       "      <th>previous_tb_history</th>\n",
       "      <th>class</th>\n",
       "    </tr>\n",
       "  </thead>\n",
       "  <tbody>\n",
       "    <tr>\n",
       "      <th>0</th>\n",
       "      <td>PID000001</td>\n",
       "      <td>69</td>\n",
       "      <td>Male</td>\n",
       "      <td>Yes</td>\n",
       "      <td>1.0</td>\n",
       "      <td>2.0</td>\n",
       "      <td>3</td>\n",
       "      <td>2.37</td>\n",
       "      <td>Moderate</td>\n",
       "      <td>Yes</td>\n",
       "      <td>Medium</td>\n",
       "      <td>Yes</td>\n",
       "      <td>Former</td>\n",
       "      <td>Yes</td>\n",
       "      <td>Normal</td>\n",
       "    </tr>\n",
       "    <tr>\n",
       "      <th>1</th>\n",
       "      <td>PID000002</td>\n",
       "      <td>32</td>\n",
       "      <td>Female</td>\n",
       "      <td>Yes</td>\n",
       "      <td>3.0</td>\n",
       "      <td>0.0</td>\n",
       "      <td>9</td>\n",
       "      <td>6.09</td>\n",
       "      <td>Moderate</td>\n",
       "      <td>No</td>\n",
       "      <td>Medium</td>\n",
       "      <td>No</td>\n",
       "      <td>Current</td>\n",
       "      <td>Yes</td>\n",
       "      <td>Normal</td>\n",
       "    </tr>\n",
       "    <tr>\n",
       "      <th>2</th>\n",
       "      <td>PID000003</td>\n",
       "      <td>89</td>\n",
       "      <td>Male</td>\n",
       "      <td>No</td>\n",
       "      <td>7.0</td>\n",
       "      <td>0.0</td>\n",
       "      <td>3</td>\n",
       "      <td>2.86</td>\n",
       "      <td>Mild</td>\n",
       "      <td>Yes</td>\n",
       "      <td>Medium</td>\n",
       "      <td>No</td>\n",
       "      <td>Current</td>\n",
       "      <td>No</td>\n",
       "      <td>Tuberculosis</td>\n",
       "    </tr>\n",
       "    <tr>\n",
       "      <th>3</th>\n",
       "      <td>PID000004</td>\n",
       "      <td>78</td>\n",
       "      <td>Female</td>\n",
       "      <td>Yes</td>\n",
       "      <td>2.0</td>\n",
       "      <td>0.0</td>\n",
       "      <td>6</td>\n",
       "      <td>4.57</td>\n",
       "      <td>Moderate</td>\n",
       "      <td>No</td>\n",
       "      <td>High</td>\n",
       "      <td>Yes</td>\n",
       "      <td>Never</td>\n",
       "      <td>Yes</td>\n",
       "      <td>Tuberculosis</td>\n",
       "    </tr>\n",
       "    <tr>\n",
       "      <th>4</th>\n",
       "      <td>PID000005</td>\n",
       "      <td>38</td>\n",
       "      <td>Male</td>\n",
       "      <td>No</td>\n",
       "      <td>7.0</td>\n",
       "      <td>2.0</td>\n",
       "      <td>5</td>\n",
       "      <td>13.86</td>\n",
       "      <td>High</td>\n",
       "      <td>Yes</td>\n",
       "      <td>Low</td>\n",
       "      <td>No</td>\n",
       "      <td>Never</td>\n",
       "      <td>Yes</td>\n",
       "      <td>Tuberculosis</td>\n",
       "    </tr>\n",
       "  </tbody>\n",
       "</table>\n",
       "</div>"
      ],
      "text/plain": [
       "  patient_id age  gender chest_pain  cough_severity  breathlessness fatigue  \\\n",
       "0  PID000001  69    Male        Yes             1.0             2.0       3   \n",
       "1  PID000002  32  Female        Yes             3.0             0.0       9   \n",
       "2  PID000003  89    Male         No             7.0             0.0       3   \n",
       "3  PID000004  78  Female        Yes             2.0             0.0       6   \n",
       "4  PID000005  38    Male         No             7.0             2.0       5   \n",
       "\n",
       "  weight_loss     fever night_sweats sputum_production blood_in_sputum  \\\n",
       "0        2.37  Moderate          Yes            Medium             Yes   \n",
       "1        6.09  Moderate           No            Medium              No   \n",
       "2        2.86      Mild          Yes            Medium              No   \n",
       "3        4.57  Moderate           No              High             Yes   \n",
       "4       13.86      High          Yes               Low              No   \n",
       "\n",
       "  smoking_history previous_tb_history         class  \n",
       "0          Former                 Yes        Normal  \n",
       "1         Current                 Yes        Normal  \n",
       "2         Current                  No  Tuberculosis  \n",
       "3           Never                 Yes  Tuberculosis  \n",
       "4           Never                 Yes  Tuberculosis  "
      ]
     },
     "execution_count": 66,
     "metadata": {},
     "output_type": "execute_result"
    }
   ],
   "source": [
    "df.head()"
   ]
  },
  {
   "cell_type": "code",
   "execution_count": null,
   "metadata": {},
   "outputs": [],
   "source": []
  },
  {
   "cell_type": "code",
   "execution_count": null,
   "metadata": {},
   "outputs": [],
   "source": []
  },
  {
   "cell_type": "code",
   "execution_count": null,
   "metadata": {},
   "outputs": [],
   "source": []
  },
  {
   "cell_type": "markdown",
   "metadata": {},
   "source": [
    "# Tabulate"
   ]
  },
  {
   "cell_type": "code",
   "execution_count": 2,
   "metadata": {},
   "outputs": [
    {
     "name": "stdout",
     "output_type": "stream",
     "text": [
      "Collecting tabulate\n",
      "  Downloading tabulate-0.9.0-py3-none-any.whl.metadata (34 kB)\n",
      "Downloading tabulate-0.9.0-py3-none-any.whl (35 kB)\n",
      "Installing collected packages: tabulate\n",
      "Successfully installed tabulate-0.9.0\n"
     ]
    },
    {
     "name": "stderr",
     "output_type": "stream",
     "text": [
      "\n",
      "[notice] A new release of pip is available: 24.0 -> 25.0.1\n",
      "[notice] To update, run: C:\\Users\\xolmu\\AppData\\Local\\Microsoft\\WindowsApps\\PythonSoftwareFoundation.Python.3.11_qbz5n2kfra8p0\\python.exe -m pip install --upgrade pip\n"
     ]
    }
   ],
   "source": [
    "!pip install tabulate\n",
    "from tabulate import tabulate"
   ]
  },
  {
   "cell_type": "code",
   "execution_count": 3,
   "metadata": {},
   "outputs": [
    {
     "name": "stdout",
     "output_type": "stream",
     "text": [
      "+---------+-----------------+------------+--------------+\n",
      "| Ismi    |   tugilgan yili | viloyati   |   Olgan bali |\n",
      "+=========+=================+============+==============+\n",
      "| Alisher |            1998 | Buxoro     |          147 |\n",
      "+---------+-----------------+------------+--------------+\n",
      "| Vali    |            2000 | Namangan   |          154 |\n",
      "+---------+-----------------+------------+--------------+\n",
      "| Nodir   |            1994 | Toshkent   |          152 |\n",
      "+---------+-----------------+------------+--------------+\n",
      "| Jasur   |            1995 | Navoiy     |          157 |\n",
      "+---------+-----------------+------------+--------------+\n"
     ]
    }
   ],
   "source": [
    "headers=['Ismi','tugilgan yili','viloyati','Olgan bali']\n",
    "table=[['Alisher','1998','Buxoro','147'],\n",
    "      ['Vali','2000','Namangan','154'],\n",
    "['Nodir','1994','Toshkent','152'],\n",
    "['Jasur','1995','Navoiy','157']]\n",
    "\n",
    "print(tabulate(table,headers=headers,tablefmt='grid'))\n",
    "\n"
   ]
  },
  {
   "cell_type": "code",
   "execution_count": null,
   "metadata": {},
   "outputs": [],
   "source": []
  },
  {
   "cell_type": "markdown",
   "metadata": {},
   "source": [
    "# Funksiya"
   ]
  },
  {
   "cell_type": "code",
   "execution_count": 15,
   "metadata": {},
   "outputs": [],
   "source": [
    "def xayrlashish():\n",
    "    print('xayr')"
   ]
  },
  {
   "cell_type": "code",
   "execution_count": 16,
   "metadata": {},
   "outputs": [
    {
     "name": "stdout",
     "output_type": "stream",
     "text": [
      "xayr\n"
     ]
    }
   ],
   "source": [
    "xayrlashish()"
   ]
  },
  {
   "cell_type": "code",
   "execution_count": 18,
   "metadata": {},
   "outputs": [],
   "source": [
    "def xayrlash():\n",
    "    name=str(input(\"xayrlashing:\"))\n",
    "    print(f\"xayr {name}\")"
   ]
  },
  {
   "cell_type": "code",
   "execution_count": 19,
   "metadata": {},
   "outputs": [
    {
     "name": "stdout",
     "output_type": "stream",
     "text": [
      "xayr xola\n"
     ]
    }
   ],
   "source": [
    "xayrlash()"
   ]
  },
  {
   "cell_type": "code",
   "execution_count": 20,
   "metadata": {},
   "outputs": [],
   "source": [
    "def daraja(x):\n",
    "    print(x**2)"
   ]
  },
  {
   "cell_type": "code",
   "execution_count": 21,
   "metadata": {},
   "outputs": [
    {
     "name": "stdout",
     "output_type": "stream",
     "text": [
      "256\n"
     ]
    }
   ],
   "source": [
    "daraja(16)"
   ]
  },
  {
   "cell_type": "code",
   "execution_count": 22,
   "metadata": {},
   "outputs": [
    {
     "name": "stdout",
     "output_type": "stream",
     "text": [
      "196\n"
     ]
    }
   ],
   "source": [
    "daraja(14)"
   ]
  },
  {
   "cell_type": "code",
   "execution_count": 24,
   "metadata": {},
   "outputs": [
    {
     "name": "stdout",
     "output_type": "stream",
     "text": [
      "196\n"
     ]
    },
    {
     "data": {
      "text/plain": [
       "NoneType"
      ]
     },
     "execution_count": 24,
     "metadata": {},
     "output_type": "execute_result"
    }
   ],
   "source": [
    "type(daraja(14))"
   ]
  },
  {
   "cell_type": "code",
   "execution_count": 23,
   "metadata": {},
   "outputs": [
    {
     "name": "stdout",
     "output_type": "stream",
     "text": [
      "121\n"
     ]
    }
   ],
   "source": [
    "daraja(11)"
   ]
  },
  {
   "cell_type": "code",
   "execution_count": 25,
   "metadata": {},
   "outputs": [],
   "source": [
    "def ayir(x,y):\n",
    "    print(x-y)"
   ]
  },
  {
   "cell_type": "code",
   "execution_count": 26,
   "metadata": {},
   "outputs": [
    {
     "name": "stdout",
     "output_type": "stream",
     "text": [
      "12\n"
     ]
    }
   ],
   "source": [
    "ayir(17,5)"
   ]
  },
  {
   "cell_type": "code",
   "execution_count": 27,
   "metadata": {},
   "outputs": [],
   "source": [
    "def ayir(x,y):\n",
    "    return x-y"
   ]
  },
  {
   "cell_type": "code",
   "execution_count": 28,
   "metadata": {},
   "outputs": [
    {
     "data": {
      "text/plain": [
       "22"
      ]
     },
     "execution_count": 28,
     "metadata": {},
     "output_type": "execute_result"
    }
   ],
   "source": [
    "ayir(45,23)"
   ]
  },
  {
   "cell_type": "code",
   "execution_count": null,
   "metadata": {},
   "outputs": [],
   "source": [
    "def max(5,8):"
   ]
  },
  {
   "cell_type": "code",
   "execution_count": 49,
   "metadata": {},
   "outputs": [
    {
     "data": {
      "text/plain": [
       "7"
      ]
     },
     "execution_count": 49,
     "metadata": {},
     "output_type": "execute_result"
    }
   ],
   "source": [
    "max(5,7)"
   ]
  },
  {
   "cell_type": "code",
   "execution_count": 50,
   "metadata": {},
   "outputs": [
    {
     "data": {
      "text/plain": [
       "5"
      ]
     },
     "execution_count": 50,
     "metadata": {},
     "output_type": "execute_result"
    }
   ],
   "source": [
    "max(5,5)"
   ]
  },
  {
   "cell_type": "code",
   "execution_count": null,
   "metadata": {},
   "outputs": [],
   "source": []
  },
  {
   "cell_type": "code",
   "execution_count": null,
   "metadata": {},
   "outputs": [],
   "source": []
  },
  {
   "cell_type": "code",
   "execution_count": 4,
   "metadata": {},
   "outputs": [],
   "source": [
    "def plus_8(x):\n",
    "    print(x+8)"
   ]
  },
  {
   "cell_type": "code",
   "execution_count": 5,
   "metadata": {},
   "outputs": [
    {
     "name": "stdout",
     "output_type": "stream",
     "text": [
      "42\n"
     ]
    }
   ],
   "source": [
    "plus_8(34)"
   ]
  },
  {
   "cell_type": "code",
   "execution_count": 6,
   "metadata": {},
   "outputs": [
    {
     "name": "stdout",
     "output_type": "stream",
     "text": [
      "60\n"
     ]
    }
   ],
   "source": [
    "a=6\n",
    "b=9\n",
    "print(a+6*b)"
   ]
  },
  {
   "cell_type": "code",
   "execution_count": 7,
   "metadata": {},
   "outputs": [
    {
     "name": "stdout",
     "output_type": "stream",
     "text": [
      "95\n"
     ]
    }
   ],
   "source": [
    "plus_8(87)"
   ]
  },
  {
   "cell_type": "code",
   "execution_count": 31,
   "metadata": {},
   "outputs": [],
   "source": [
    "def hello():\n",
    "    name=input(str('ismingizni kiriting:'))\n",
    "    print(f\"Salom {name}\")"
   ]
  },
  {
   "cell_type": "code",
   "execution_count": 32,
   "metadata": {},
   "outputs": [
    {
     "name": "stdout",
     "output_type": "stream",
     "text": [
      "Salom xola\n"
     ]
    }
   ],
   "source": [
    "hello()"
   ]
  },
  {
   "cell_type": "code",
   "execution_count": null,
   "metadata": {},
   "outputs": [],
   "source": [
    "def hello2(Python):\n",
    "    print(f\" Salom {Python}\")"
   ]
  },
  {
   "cell_type": "code",
   "execution_count": 33,
   "metadata": {},
   "outputs": [
    {
     "ename": "NameError",
     "evalue": "name 'hello2' is not defined",
     "output_type": "error",
     "traceback": [
      "\u001b[1;31m---------------------------------------------------------------------------\u001b[0m",
      "\u001b[1;31mNameError\u001b[0m                                 Traceback (most recent call last)",
      "Cell \u001b[1;32mIn[33], line 1\u001b[0m\n\u001b[1;32m----> 1\u001b[0m \u001b[43mhello2\u001b[49m(\u001b[38;5;124m'\u001b[39m\u001b[38;5;124mHello \u001b[39m\u001b[38;5;124m'\u001b[39m)\n",
      "\u001b[1;31mNameError\u001b[0m: name 'hello2' is not defined"
     ]
    }
   ],
   "source": [
    "hello2('Hello ')"
   ]
  },
  {
   "cell_type": "code",
   "execution_count": 34,
   "metadata": {},
   "outputs": [
    {
     "name": "stdout",
     "output_type": "stream",
     "text": [
      "9\n"
     ]
    }
   ],
   "source": [
    "def daraja2(a,b):\n",
    "    return a+b\n",
    "result=daraja2(4,5)\n",
    "print(result)"
   ]
  },
  {
   "cell_type": "code",
   "execution_count": null,
   "metadata": {},
   "outputs": [],
   "source": [
    "def daraja3(a,b):\n",
    "    return a+b"
   ]
  },
  {
   "cell_type": "code",
   "execution_count": 36,
   "metadata": {},
   "outputs": [
    {
     "ename": "NameError",
     "evalue": "name 'daraja3' is not defined",
     "output_type": "error",
     "traceback": [
      "\u001b[1;31m---------------------------------------------------------------------------\u001b[0m",
      "\u001b[1;31mNameError\u001b[0m                                 Traceback (most recent call last)",
      "Cell \u001b[1;32mIn[36], line 1\u001b[0m\n\u001b[1;32m----> 1\u001b[0m \u001b[43mdaraja3\u001b[49m(\u001b[38;5;241m5\u001b[39m,\u001b[38;5;241m6\u001b[39m)\n",
      "\u001b[1;31mNameError\u001b[0m: name 'daraja3' is not defined"
     ]
    }
   ],
   "source": [
    "daraja3(5,6)"
   ]
  },
  {
   "cell_type": "code",
   "execution_count": null,
   "metadata": {},
   "outputs": [],
   "source": [
    "def sonlar(a,b):\n",
    "    if a>b:\n",
    "        return('a soni katta')\n",
    "    elif a<b:\n",
    "        print('b soni katta')\n",
    "    else:\n",
    "        print('ikkala son teng')"
   ]
  },
  {
   "cell_type": "code",
   "execution_count": 48,
   "metadata": {},
   "outputs": [
    {
     "ename": "NameError",
     "evalue": "name 'sonlar' is not defined",
     "output_type": "error",
     "traceback": [
      "\u001b[1;31m---------------------------------------------------------------------------\u001b[0m",
      "\u001b[1;31mNameError\u001b[0m                                 Traceback (most recent call last)",
      "Cell \u001b[1;32mIn[48], line 1\u001b[0m\n\u001b[1;32m----> 1\u001b[0m \u001b[43msonlar\u001b[49m(\u001b[38;5;241m2\u001b[39m,\u001b[38;5;241m3\u001b[39m)\n",
      "\u001b[1;31mNameError\u001b[0m: name 'sonlar' is not defined"
     ]
    }
   ],
   "source": [
    "sonlar(2,3)"
   ]
  },
  {
   "cell_type": "code",
   "execution_count": null,
   "metadata": {},
   "outputs": [],
   "source": []
  },
  {
   "cell_type": "markdown",
   "metadata": {},
   "source": [
    "# Lambda Function"
   ]
  },
  {
   "cell_type": "code",
   "execution_count": 51,
   "metadata": {},
   "outputs": [
    {
     "name": "stdout",
     "output_type": "stream",
     "text": [
      "49\n"
     ]
    }
   ],
   "source": [
    "print((lambda x: x**2)(7))"
   ]
  },
  {
   "cell_type": "code",
   "execution_count": 52,
   "metadata": {},
   "outputs": [
    {
     "name": "stdout",
     "output_type": "stream",
     "text": [
      "13\n"
     ]
    }
   ],
   "source": [
    "print((lambda x,y: x+y)(5,8))"
   ]
  },
  {
   "cell_type": "code",
   "execution_count": 53,
   "metadata": {},
   "outputs": [
    {
     "name": "stdout",
     "output_type": "stream",
     "text": [
      "Salom dost\n"
     ]
    }
   ],
   "source": [
    "print((lambda name: f\"Salom {name}\")('dost'))"
   ]
  },
  {
   "cell_type": "code",
   "execution_count": null,
   "metadata": {},
   "outputs": [],
   "source": []
  },
  {
   "cell_type": "code",
   "execution_count": null,
   "metadata": {},
   "outputs": [],
   "source": [
    "# Oddiy funksion\n",
    "def daraja2(a,b):\n",
    "    return a**b"
   ]
  },
  {
   "cell_type": "code",
   "execution_count": 55,
   "metadata": {},
   "outputs": [
    {
     "data": {
      "text/plain": [
       "13"
      ]
     },
     "execution_count": 55,
     "metadata": {},
     "output_type": "execute_result"
    }
   ],
   "source": [
    "daraja2(6,7)"
   ]
  },
  {
   "cell_type": "code",
   "execution_count": 56,
   "metadata": {},
   "outputs": [
    {
     "name": "stdout",
     "output_type": "stream",
     "text": [
      "2401\n"
     ]
    }
   ],
   "source": [
    "# Lambda f-n\n",
    "print((lambda a: a**4)(7))"
   ]
  },
  {
   "cell_type": "code",
   "execution_count": 57,
   "metadata": {},
   "outputs": [
    {
     "name": "stdout",
     "output_type": "stream",
     "text": [
      "4.0\n"
     ]
    }
   ],
   "source": [
    "print((lambda x,y: (x+y)/2)(3,5))"
   ]
  },
  {
   "cell_type": "code",
   "execution_count": 58,
   "metadata": {},
   "outputs": [
    {
     "name": "stdout",
     "output_type": "stream",
     "text": [
      " Xush keldingiz Janob\n"
     ]
    }
   ],
   "source": [
    "print((lambda name: f\" Xush keldingiz {name}\")('Janob'))"
   ]
  },
  {
   "cell_type": "code",
   "execution_count": null,
   "metadata": {},
   "outputs": [],
   "source": [
    "#print((lambda o'zgaruvchilar: formula)(qiymatlar))"
   ]
  }
 ],
 "metadata": {
  "kernelspec": {
   "display_name": "Python 3",
   "language": "python",
   "name": "python3"
  },
  "language_info": {
   "codemirror_mode": {
    "name": "ipython",
    "version": 3
   },
   "file_extension": ".py",
   "mimetype": "text/x-python",
   "name": "python",
   "nbconvert_exporter": "python",
   "pygments_lexer": "ipython3",
   "version": "3.11.9"
  }
 },
 "nbformat": 4,
 "nbformat_minor": 2
}
