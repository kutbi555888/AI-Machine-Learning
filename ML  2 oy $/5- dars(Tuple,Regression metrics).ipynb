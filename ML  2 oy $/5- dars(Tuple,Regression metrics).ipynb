{
 "cells": [
  {
   "cell_type": "markdown",
   "id": "df177c11",
   "metadata": {},
   "source": [
    "# Tuple"
   ]
  },
  {
   "cell_type": "code",
   "execution_count": 32,
   "id": "01da5d7d",
   "metadata": {},
   "outputs": [],
   "source": [
    "t=(3,4,5,6)"
   ]
  },
  {
   "cell_type": "code",
   "execution_count": 33,
   "id": "b0760cf7",
   "metadata": {},
   "outputs": [
    {
     "data": {
      "text/plain": [
       "tuple"
      ]
     },
     "execution_count": 33,
     "metadata": {},
     "output_type": "execute_result"
    }
   ],
   "source": [
    "type(t)"
   ]
  },
  {
   "cell_type": "code",
   "execution_count": null,
   "id": "8c6b4b19",
   "metadata": {},
   "outputs": [
    {
     "data": {
      "text/plain": [
       "tuple"
      ]
     },
     "execution_count": 6,
     "metadata": {},
     "output_type": "execute_result"
    }
   ],
   "source": [
    "t1=(5,True,7.6,'Salom')       # Mixed\n",
    "type(t1)"
   ]
  },
  {
   "cell_type": "code",
   "execution_count": null,
   "id": "e3547fef",
   "metadata": {},
   "outputs": [
    {
     "data": {
      "text/plain": [
       "3"
      ]
     },
     "execution_count": 8,
     "metadata": {},
     "output_type": "execute_result"
    }
   ],
   "source": [
    "t[0]      # indexing ham bor tuplda"
   ]
  },
  {
   "cell_type": "code",
   "execution_count": 10,
   "id": "952e5565",
   "metadata": {},
   "outputs": [
    {
     "data": {
      "text/plain": [
       "5"
      ]
     },
     "execution_count": 10,
     "metadata": {},
     "output_type": "execute_result"
    }
   ],
   "source": [
    "t[-1]"
   ]
  },
  {
   "cell_type": "code",
   "execution_count": 17,
   "id": "1bab7628",
   "metadata": {},
   "outputs": [
    {
     "data": {
      "text/plain": [
       "3"
      ]
     },
     "execution_count": 17,
     "metadata": {},
     "output_type": "execute_result"
    }
   ],
   "source": [
    "t[0]"
   ]
  },
  {
   "cell_type": "code",
   "execution_count": null,
   "id": "48d72c6e",
   "metadata": {},
   "outputs": [
    {
     "ename": "TypeError",
     "evalue": "'tuple' object does not support item assignment",
     "output_type": "error",
     "traceback": [
      "\u001b[1;31m---------------------------------------------------------------------------\u001b[0m",
      "\u001b[1;31mTypeError\u001b[0m                                 Traceback (most recent call last)",
      "Cell \u001b[1;32mIn[14], line 2\u001b[0m\n\u001b[0;32m      1\u001b[0m \u001b[38;5;66;03m# Immutable(ozgarmaslik)\u001b[39;00m\n\u001b[1;32m----> 2\u001b[0m \u001b[43mt\u001b[49m\u001b[43m[\u001b[49m\u001b[38;5;241;43m0\u001b[39;49m\u001b[43m]\u001b[49m\u001b[38;5;241m=\u001b[39m\u001b[38;5;241m30\u001b[39m\n",
      "\u001b[1;31mTypeError\u001b[0m: 'tuple' object does not support item assignment"
     ]
    }
   ],
   "source": [
    "# Immutable(ozgarmaslik)      # 3ni orniga 30ni qoyib bolmaydi       # sababi tuple immutable\n",
    "t[0]=30"
   ]
  },
  {
   "cell_type": "code",
   "execution_count": 12,
   "id": "399429eb",
   "metadata": {},
   "outputs": [
    {
     "data": {
      "text/plain": [
       "[20, 2, 3, 4]"
      ]
     },
     "execution_count": 12,
     "metadata": {},
     "output_type": "execute_result"
    }
   ],
   "source": [
    "# Listdan misol(mutable-ozgaruvchan)\n",
    "l=[1,2,3,4]\n",
    "l[0]=20\n",
    "l"
   ]
  },
  {
   "cell_type": "code",
   "execution_count": null,
   "id": "57acb82c",
   "metadata": {},
   "outputs": [],
   "source": [
    "l=[1,2,[3,4]]        # Listni ichiga list kirgizish"
   ]
  },
  {
   "cell_type": "code",
   "execution_count": 16,
   "id": "d99dfecd",
   "metadata": {},
   "outputs": [
    {
     "data": {
      "text/plain": [
       "[3, 4]"
      ]
     },
     "execution_count": 16,
     "metadata": {},
     "output_type": "execute_result"
    }
   ],
   "source": [
    "l[2]"
   ]
  },
  {
   "cell_type": "code",
   "execution_count": 18,
   "id": "fe463f89",
   "metadata": {},
   "outputs": [],
   "source": [
    "# endi tuplni ichiga tuple kirgizish\n",
    "t=(1,2,3,(4,5))"
   ]
  },
  {
   "cell_type": "code",
   "execution_count": 19,
   "id": "0891d506",
   "metadata": {},
   "outputs": [
    {
     "data": {
      "text/plain": [
       "(1, 2, 3, (4, 5))"
      ]
     },
     "execution_count": 19,
     "metadata": {},
     "output_type": "execute_result"
    }
   ],
   "source": [
    "t"
   ]
  },
  {
   "cell_type": "code",
   "execution_count": 20,
   "id": "c39495ff",
   "metadata": {},
   "outputs": [
    {
     "data": {
      "text/plain": [
       "(4, 5)"
      ]
     },
     "execution_count": 20,
     "metadata": {},
     "output_type": "execute_result"
    }
   ],
   "source": [
    "t[3]"
   ]
  },
  {
   "cell_type": "code",
   "execution_count": 21,
   "id": "1f4c3925",
   "metadata": {},
   "outputs": [
    {
     "data": {
      "text/plain": [
       "tuple"
      ]
     },
     "execution_count": 21,
     "metadata": {},
     "output_type": "execute_result"
    }
   ],
   "source": [
    "type(t[3])"
   ]
  },
  {
   "cell_type": "code",
   "execution_count": 22,
   "id": "a2bf4c8d",
   "metadata": {},
   "outputs": [],
   "source": [
    "# Tuplni ichiga List kirgizish\n",
    "t=(1,2,3,[4,5])"
   ]
  },
  {
   "cell_type": "code",
   "execution_count": 23,
   "id": "09faf839",
   "metadata": {},
   "outputs": [
    {
     "data": {
      "text/plain": [
       "(1, 2, 3, [4, 5])"
      ]
     },
     "execution_count": 23,
     "metadata": {},
     "output_type": "execute_result"
    }
   ],
   "source": [
    "t"
   ]
  },
  {
   "cell_type": "code",
   "execution_count": 24,
   "id": "cdc01a0e",
   "metadata": {},
   "outputs": [
    {
     "data": {
      "text/plain": [
       "[4, 5]"
      ]
     },
     "execution_count": 24,
     "metadata": {},
     "output_type": "execute_result"
    }
   ],
   "source": [
    "t[3]"
   ]
  },
  {
   "cell_type": "code",
   "execution_count": 25,
   "id": "106b76ba",
   "metadata": {},
   "outputs": [
    {
     "data": {
      "text/plain": [
       "list"
      ]
     },
     "execution_count": 25,
     "metadata": {},
     "output_type": "execute_result"
    }
   ],
   "source": [
    "type(t[3])"
   ]
  },
  {
   "cell_type": "code",
   "execution_count": null,
   "id": "95859fcc",
   "metadata": {},
   "outputs": [
    {
     "data": {
      "text/plain": [
       "list"
      ]
     },
     "execution_count": 26,
     "metadata": {},
     "output_type": "execute_result"
    }
   ],
   "source": [
    "# 1ta elementdan iborat tuplni yaratish\n",
    "\n",
    "a=[1]      # bittta elementdan iborat list\n",
    "type(a)"
   ]
  },
  {
   "cell_type": "code",
   "execution_count": null,
   "id": "0e206033",
   "metadata": {},
   "outputs": [
    {
     "data": {
      "text/plain": [
       "int"
      ]
     },
     "execution_count": 27,
     "metadata": {},
     "output_type": "execute_result"
    }
   ],
   "source": [
    "t=(1)      # bitta elementdan iborat tuple tuza olmadik bu yerda\n",
    "type(t)"
   ]
  },
  {
   "cell_type": "code",
   "execution_count": 29,
   "id": "31ffae35",
   "metadata": {},
   "outputs": [
    {
     "data": {
      "text/plain": [
       "tuple"
      ]
     },
     "execution_count": 29,
     "metadata": {},
     "output_type": "execute_result"
    }
   ],
   "source": [
    "t=(1,2,3,4,5)     # 1tadan ortiq element bolsa tuple korsataveradi\n",
    "type(t)"
   ]
  },
  {
   "cell_type": "code",
   "execution_count": 31,
   "id": "90949ea8",
   "metadata": {},
   "outputs": [
    {
     "data": {
      "text/plain": [
       "tuple"
      ]
     },
     "execution_count": 31,
     "metadata": {},
     "output_type": "execute_result"
    }
   ],
   "source": [
    "# bitta elementdan iborat tuple yaratish u-n vergul qoyib qoyamiz,tupleligini bildirish u-n,verguldan keyin element bor degan manoni beradi\n",
    "t=(4,)\n",
    "type(t)\n"
   ]
  },
  {
   "cell_type": "code",
   "execution_count": 34,
   "id": "477984e9",
   "metadata": {},
   "outputs": [
    {
     "data": {
      "text/plain": [
       "(3, 4, 5, 6)"
      ]
     },
     "execution_count": 34,
     "metadata": {},
     "output_type": "execute_result"
    }
   ],
   "source": [
    "# Tuple ustida amallar\n",
    "t=(3,4,5,6)\n",
    "t"
   ]
  },
  {
   "cell_type": "code",
   "execution_count": 35,
   "id": "921dc0a0",
   "metadata": {},
   "outputs": [
    {
     "data": {
      "text/plain": [
       "(3, 4, 5, 6, 3, 4, 5, 6)"
      ]
     },
     "execution_count": 35,
     "metadata": {},
     "output_type": "execute_result"
    }
   ],
   "source": [
    "# elementlarni 2 barobar oshirish\n",
    "t*2"
   ]
  },
  {
   "cell_type": "code",
   "execution_count": 36,
   "id": "e8c256fd",
   "metadata": {},
   "outputs": [
    {
     "data": {
      "text/plain": [
       "(3, 4, 5, 6)"
      ]
     },
     "execution_count": 36,
     "metadata": {},
     "output_type": "execute_result"
    }
   ],
   "source": [
    "# tupleni qoshish\n",
    "t1=(3,4)\n",
    "t2=(5,6)\n",
    "t1+t2"
   ]
  },
  {
   "cell_type": "code",
   "execution_count": 37,
   "id": "603b1850",
   "metadata": {},
   "outputs": [
    {
     "ename": "TypeError",
     "evalue": "unsupported operand type(s) for -: 'tuple' and 'tuple'",
     "output_type": "error",
     "traceback": [
      "\u001b[1;31m---------------------------------------------------------------------------\u001b[0m",
      "\u001b[1;31mTypeError\u001b[0m                                 Traceback (most recent call last)",
      "Cell \u001b[1;32mIn[37], line 4\u001b[0m\n\u001b[0;32m      2\u001b[0m t1\u001b[38;5;241m=\u001b[39m(\u001b[38;5;241m3\u001b[39m,\u001b[38;5;241m4\u001b[39m)\n\u001b[0;32m      3\u001b[0m t2\u001b[38;5;241m=\u001b[39m(\u001b[38;5;241m5\u001b[39m,\u001b[38;5;241m6\u001b[39m)\n\u001b[1;32m----> 4\u001b[0m \u001b[43mt1\u001b[49m\u001b[38;5;241;43m-\u001b[39;49m\u001b[43mt2\u001b[49m\n",
      "\u001b[1;31mTypeError\u001b[0m: unsupported operand type(s) for -: 'tuple' and 'tuple'"
     ]
    }
   ],
   "source": [
    "# tupleda ayirib bolmaydi\n",
    "t1=(3,4)\n",
    "t2=(5,6)\n",
    "t1-t2"
   ]
  },
  {
   "cell_type": "code",
   "execution_count": null,
   "id": "421057dd",
   "metadata": {},
   "outputs": [
    {
     "data": {
      "text/plain": [
       "4"
      ]
     },
     "execution_count": 38,
     "metadata": {},
     "output_type": "execute_result"
    }
   ],
   "source": [
    "len(t)     # Barcha elementlarni sonini korish"
   ]
  },
  {
   "cell_type": "code",
   "execution_count": null,
   "id": "72cebe4a",
   "metadata": {},
   "outputs": [
    {
     "name": "stdout",
     "output_type": "stream",
     "text": [
      "5\n",
      "True\n",
      "7.6\n",
      "Salom\n"
     ]
    }
   ],
   "source": [
    "# Tupleda For Loop bilan ishlash\n",
    "t1=(5,True,7.6,'Salom')       # Elementlarni alohida qilish\n",
    "for i in t1:\n",
    "    print(i)"
   ]
  },
  {
   "cell_type": "code",
   "execution_count": null,
   "id": "33873967",
   "metadata": {},
   "outputs": [
    {
     "data": {
      "text/plain": [
       "(1, 3, 5, 2, 4)"
      ]
     },
     "execution_count": 40,
     "metadata": {},
     "output_type": "execute_result"
    }
   ],
   "source": [
    "t=(1,3,5,2,4)            # bunda tartiblamayapti\n",
    "t"
   ]
  },
  {
   "cell_type": "code",
   "execution_count": null,
   "id": "df3da9d7",
   "metadata": {},
   "outputs": [
    {
     "data": {
      "text/plain": [
       "1"
      ]
     },
     "execution_count": 41,
     "metadata": {},
     "output_type": "execute_result"
    }
   ],
   "source": [
    "t=(1,3,5,2,4)\n",
    "t.count(5)                # bu qavsni ichidagi son necha marta takrorlanganini korsatadi"
   ]
  },
  {
   "cell_type": "code",
   "execution_count": null,
   "id": "8a1ad4e7",
   "metadata": {},
   "outputs": [
    {
     "data": {
      "text/plain": [
       "3"
      ]
     },
     "execution_count": 42,
     "metadata": {},
     "output_type": "execute_result"
    }
   ],
   "source": [
    "t.index(2)       # qavsni ichidagi son nechinchi indexda turganligini korish"
   ]
  },
  {
   "cell_type": "code",
   "execution_count": null,
   "id": "2da546f9",
   "metadata": {},
   "outputs": [
    {
     "name": "stdout",
     "output_type": "stream",
     "text": [
      "1\n",
      "[3, 5, 2]\n",
      "4\n"
     ]
    }
   ],
   "source": [
    "# boshi va oxiridagi elementlarni indexing orqali osongina olsa boladi(0 va -1).lekin ortadagi element kerak bolsachi.buni unpacking orqali qilamiz\n",
    "# unpacking\n",
    "t=(1,3,5,2,4)\n",
    "boshi,*ortasi,oxiri=t               # ortadagi elementni korsatish uchun * belgisini qoyish kerak\n",
    "print(boshi)\n",
    "print(ortasi)\n",
    "print(oxiri)"
   ]
  },
  {
   "cell_type": "code",
   "execution_count": null,
   "id": "5efe9f94",
   "metadata": {},
   "outputs": [
    {
     "data": {
      "text/plain": [
       "[3, 5, 2]"
      ]
     },
     "execution_count": 47,
     "metadata": {},
     "output_type": "execute_result"
    }
   ],
   "source": [
    "ortasi    # bu yerda biz tupledan listni ajratib oldik"
   ]
  },
  {
   "cell_type": "code",
   "execution_count": null,
   "id": "0ed95832",
   "metadata": {},
   "outputs": [
    {
     "data": {
      "text/plain": [
       "[4, 5, 6]"
      ]
     },
     "execution_count": 48,
     "metadata": {},
     "output_type": "execute_result"
    }
   ],
   "source": [
    "# tupleda element qoshib(append),element olib(pop) bolmaydi,bu ozgarmas(immutable).lekin buni yoli bor\n",
    "# buning uchun tupleni listga aylantirib olamiz,keyin ish bitgandan keyin yana tuplega otkazib qoyaveramiz\n",
    "t=(4,5,6)\n",
    "temp_list=list(t)       # Tupleni listga otkazish\n",
    "temp_list\n"
   ]
  },
  {
   "cell_type": "code",
   "execution_count": null,
   "id": "7ba1bcda",
   "metadata": {},
   "outputs": [
    {
     "data": {
      "text/plain": [
       "[4, 5, 6, 7]"
      ]
     },
     "execution_count": 49,
     "metadata": {},
     "output_type": "execute_result"
    }
   ],
   "source": [
    "t=(4,5,6)\n",
    "temp_list.append(7)     # listga otgandan keyin listni ustidagi barcha amallarni bajarish mumkin\n",
    "temp_list"
   ]
  },
  {
   "cell_type": "code",
   "execution_count": 50,
   "id": "563559a8",
   "metadata": {},
   "outputs": [
    {
     "data": {
      "text/plain": [
       "(4, 5, 6, 7)"
      ]
     },
     "execution_count": 50,
     "metadata": {},
     "output_type": "execute_result"
    }
   ],
   "source": [
    "# listni tuplega otkazish\n",
    "t=tuple(temp_list)\n",
    "t"
   ]
  },
  {
   "cell_type": "code",
   "execution_count": 51,
   "id": "7d2861f4",
   "metadata": {},
   "outputs": [
    {
     "data": {
      "text/plain": [
       "(4, 5, 6, 7)"
      ]
     },
     "execution_count": 51,
     "metadata": {},
     "output_type": "execute_result"
    }
   ],
   "source": [
    "t"
   ]
  },
  {
   "cell_type": "code",
   "execution_count": 58,
   "id": "057de872",
   "metadata": {},
   "outputs": [
    {
     "data": {
      "text/plain": [
       "1"
      ]
     },
     "execution_count": 58,
     "metadata": {},
     "output_type": "execute_result"
    }
   ],
   "source": [
    "# Tuplega element qoshishda 2ta usul\n",
    "# 1chi usul:tupleni listga aylantirish\n",
    "# 2chi usul:indexda turgan qaysidir sondan keyin son qoshish\n",
    "index=t.index(5)    # qavsni ichidagi sondan keyin element qoshish.indexda nechinchi orinda turishi\n",
    "index"
   ]
  },
  {
   "cell_type": "code",
   "execution_count": 59,
   "id": "546cc1cd",
   "metadata": {},
   "outputs": [
    {
     "data": {
      "text/plain": [
       "(4, 5, 8, 6, 7)"
      ]
     },
     "execution_count": 59,
     "metadata": {},
     "output_type": "execute_result"
    }
   ],
   "source": [
    "t_new=t[:index+1]+(8,)+t[index+1:]         # 1ta element qoshganimiz uchun 8, qilindi\n",
    "t_new"
   ]
  },
  {
   "cell_type": "code",
   "execution_count": null,
   "id": "564f4343",
   "metadata": {},
   "outputs": [
    {
     "name": "stdout",
     "output_type": "stream",
     "text": [
      "3 4\n"
     ]
    }
   ],
   "source": [
    "# Slapping.Sonlarni ornini almashtirish\n",
    "a=3\n",
    "b=4\n",
    "print(a,b)"
   ]
  },
  {
   "cell_type": "code",
   "execution_count": 61,
   "id": "5c5b2615",
   "metadata": {},
   "outputs": [],
   "source": [
    "a,b=b,a"
   ]
  },
  {
   "cell_type": "code",
   "execution_count": 62,
   "id": "abd15ed6",
   "metadata": {},
   "outputs": [
    {
     "data": {
      "text/plain": [
       "4"
      ]
     },
     "execution_count": 62,
     "metadata": {},
     "output_type": "execute_result"
    }
   ],
   "source": [
    "a"
   ]
  },
  {
   "cell_type": "code",
   "execution_count": 63,
   "id": "aff4c2ae",
   "metadata": {},
   "outputs": [
    {
     "data": {
      "text/plain": [
       "3"
      ]
     },
     "execution_count": 63,
     "metadata": {},
     "output_type": "execute_result"
    }
   ],
   "source": [
    "b"
   ]
  },
  {
   "cell_type": "code",
   "execution_count": null,
   "id": "7d0aad3a",
   "metadata": {},
   "outputs": [],
   "source": [
    "# Tupleni MLda qollash\n",
    "model.fit(x_train,y_train)    # Qiymatlar ozgarmasligi uchun tuplega olingan bu yerda\n"
   ]
  },
  {
   "cell_type": "code",
   "execution_count": null,
   "id": "9d01576f",
   "metadata": {},
   "outputs": [],
   "source": []
  },
  {
   "cell_type": "markdown",
   "id": "693bc0af",
   "metadata": {},
   "source": [
    "# Metric Regression"
   ]
  },
  {
   "cell_type": "code",
   "execution_count": null,
   "id": "85656088",
   "metadata": {},
   "outputs": [],
   "source": [
    "y_actual=[3,5,7,9]     # Bu yerda qiymatlar bir biriga yaqin\n",
    "y_pred=[2.5,5.5,6.5,8.5]\n",
    "from sklearn.metrics import mean_squared_error,r2_score"
   ]
  },
  {
   "cell_type": "code",
   "execution_count": 65,
   "id": "a66a73dd",
   "metadata": {},
   "outputs": [],
   "source": [
    "mse=mean_squared_error(y_actual,y_pred)\n",
    "r2=r2_score(y_actual,y_pred)"
   ]
  },
  {
   "cell_type": "code",
   "execution_count": 66,
   "id": "200dbd93",
   "metadata": {},
   "outputs": [
    {
     "name": "stdout",
     "output_type": "stream",
     "text": [
      "0.25\n",
      "0.95\n"
     ]
    }
   ],
   "source": [
    "print(mse)\n",
    "print(r2)"
   ]
  },
  {
   "cell_type": "code",
   "execution_count": null,
   "id": "1e159e5c",
   "metadata": {},
   "outputs": [],
   "source": []
  }
 ],
 "metadata": {
  "kernelspec": {
   "display_name": "Python 3",
   "language": "python",
   "name": "python3"
  },
  "language_info": {
   "codemirror_mode": {
    "name": "ipython",
    "version": 3
   },
   "file_extension": ".py",
   "mimetype": "text/x-python",
   "name": "python",
   "nbconvert_exporter": "python",
   "pygments_lexer": "ipython3",
   "version": "3.11.9"
  }
 },
 "nbformat": 4,
 "nbformat_minor": 5
}
