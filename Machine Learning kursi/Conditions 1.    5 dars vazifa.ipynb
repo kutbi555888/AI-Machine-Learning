{
 "cells": [
  {
   "cell_type": "markdown",
   "metadata": {},
   "source": [
    "# Qora oyna bilan ishlash"
   ]
  },
  {
   "cell_type": "code",
   "execution_count": 2,
   "metadata": {},
   "outputs": [
    {
     "name": "stdout",
     "output_type": "stream",
     "text": [
      "4\n"
     ]
    }
   ],
   "source": [
    "a=1\n",
    "print(a+3)"
   ]
  },
  {
   "cell_type": "code",
   "execution_count": 3,
   "metadata": {},
   "outputs": [
    {
     "name": "stdout",
     "output_type": "stream",
     "text": [
      "6\n"
     ]
    }
   ],
   "source": [
    "print(a+5)"
   ]
  },
  {
   "cell_type": "code",
   "execution_count": 4,
   "metadata": {},
   "outputs": [
    {
     "name": "stdout",
     "output_type": "stream",
     "text": [
      "Requirement already satisfied: pandas in c:\\users\\xolmu\\appdata\\local\\packages\\pythonsoftwarefoundation.python.3.11_qbz5n2kfra8p0\\localcache\\local-packages\\python311\\site-packages (2.2.3)\n",
      "Requirement already satisfied: numpy>=1.23.2 in c:\\users\\xolmu\\appdata\\local\\packages\\pythonsoftwarefoundation.python.3.11_qbz5n2kfra8p0\\localcache\\local-packages\\python311\\site-packages (from pandas) (2.2.2)\n",
      "Requirement already satisfied: python-dateutil>=2.8.2 in c:\\users\\xolmu\\appdata\\local\\packages\\pythonsoftwarefoundation.python.3.11_qbz5n2kfra8p0\\localcache\\local-packages\\python311\\site-packages (from pandas) (2.9.0.post0)\n",
      "Requirement already satisfied: pytz>=2020.1 in c:\\users\\xolmu\\appdata\\local\\packages\\pythonsoftwarefoundation.python.3.11_qbz5n2kfra8p0\\localcache\\local-packages\\python311\\site-packages (from pandas) (2025.1)\n",
      "Requirement already satisfied: tzdata>=2022.7 in c:\\users\\xolmu\\appdata\\local\\packages\\pythonsoftwarefoundation.python.3.11_qbz5n2kfra8p0\\localcache\\local-packages\\python311\\site-packages (from pandas) (2025.1)\n",
      "Requirement already satisfied: six>=1.5 in c:\\users\\xolmu\\appdata\\local\\packages\\pythonsoftwarefoundation.python.3.11_qbz5n2kfra8p0\\localcache\\local-packages\\python311\\site-packages (from python-dateutil>=2.8.2->pandas) (1.17.0)\n",
      "Note: you may need to restart the kernel to use updated packages.\n"
     ]
    },
    {
     "name": "stderr",
     "output_type": "stream",
     "text": [
      "\n",
      "[notice] A new release of pip is available: 24.0 -> 25.0.1\n",
      "[notice] To update, run: C:\\Users\\xolmu\\AppData\\Local\\Microsoft\\WindowsApps\\PythonSoftwareFoundation.Python.3.11_qbz5n2kfra8p0\\python.exe -m pip install --upgrade pip\n"
     ]
    }
   ],
   "source": [
    "pip install pandas"
   ]
  },
  {
   "cell_type": "code",
   "execution_count": 5,
   "metadata": {},
   "outputs": [
    {
     "name": "stdout",
     "output_type": "stream",
     "text": [
      "Requirement already satisfied: numpy in c:\\users\\xolmu\\appdata\\local\\packages\\pythonsoftwarefoundation.python.3.11_qbz5n2kfra8p0\\localcache\\local-packages\\python311\\site-packages (2.2.2)\n",
      "Note: you may need to restart the kernel to use updated packages.\n"
     ]
    },
    {
     "name": "stderr",
     "output_type": "stream",
     "text": [
      "\n",
      "[notice] A new release of pip is available: 24.0 -> 25.0.1\n",
      "[notice] To update, run: C:\\Users\\xolmu\\AppData\\Local\\Microsoft\\WindowsApps\\PythonSoftwareFoundation.Python.3.11_qbz5n2kfra8p0\\python.exe -m pip install --upgrade pip\n"
     ]
    }
   ],
   "source": [
    "pip install numpy"
   ]
  },
  {
   "cell_type": "markdown",
   "metadata": {},
   "source": [
    "# Conditions"
   ]
  },
  {
   "cell_type": "code",
   "execution_count": 6,
   "metadata": {},
   "outputs": [
    {
     "name": "stdout",
     "output_type": "stream",
     "text": [
      "a soni musbat son\n"
     ]
    }
   ],
   "source": [
    "# if xolati\n",
    "a=4\n",
    "if a>0:\n",
    "    print('a soni musbat son')"
   ]
  },
  {
   "cell_type": "code",
   "execution_count": 8,
   "metadata": {},
   "outputs": [
    {
     "name": "stdout",
     "output_type": "stream",
     "text": [
      "a soni manfiy yoki nolga teng\n"
     ]
    }
   ],
   "source": [
    "a=-4\n",
    "if a>0:\n",
    "    print('a soni musbat son')\n",
    "else:\n",
    "    print('a soni manfiy yoki nolga teng')"
   ]
  },
  {
   "cell_type": "code",
   "execution_count": 11,
   "metadata": {},
   "outputs": [
    {
     "name": "stdout",
     "output_type": "stream",
     "text": [
      "a soni nolga teng\n"
     ]
    }
   ],
   "source": [
    "a=0\n",
    "if a>0:\n",
    "    print('a soni musbat')\n",
    "elif a<0:\n",
    "    print('a soni manfiy')\n",
    "else:\n",
    "    print('a soni nolga teng')"
   ]
  },
  {
   "cell_type": "code",
   "execution_count": 12,
   "metadata": {},
   "outputs": [
    {
     "name": "stdout",
     "output_type": "stream",
     "text": [
      "a soni musbat\n"
     ]
    }
   ],
   "source": [
    "a=8\n",
    "if a>0:\n",
    "    print('a soni musbat')\n",
    "elif a<0:\n",
    "    print('a soni manfiy')\n",
    "else:\n",
    "    print('a soni nolga teng')"
   ]
  },
  {
   "cell_type": "code",
   "execution_count": 13,
   "metadata": {},
   "outputs": [
    {
     "name": "stdout",
     "output_type": "stream",
     "text": [
      "a soni manfiy\n"
     ]
    }
   ],
   "source": [
    "a=-6\n",
    "if a>0:\n",
    "    print('a soni musbat')\n",
    "elif a<0:\n",
    "    print('a soni manfiy')\n",
    "else:\n",
    "    print('a soni nolga teng')"
   ]
  },
  {
   "cell_type": "code",
   "execution_count": 5,
   "metadata": {},
   "outputs": [
    {
     "name": "stdout",
     "output_type": "stream",
     "text": [
      "a soni manfiy\n"
     ]
    }
   ],
   "source": [
    "a=int(input('sonni kiriting'))\n",
    "if a>0:\n",
    "    print('a soni musbat')\n",
    "elif a<0:\n",
    "    print('a soni manfiy')\n",
    "else:\n",
    "    print('a soni nolga teng')"
   ]
  },
  {
   "cell_type": "code",
   "execution_count": 4,
   "metadata": {},
   "outputs": [
    {
     "name": "stdout",
     "output_type": "stream",
     "text": [
      "8\n"
     ]
    }
   ],
   "source": [
    "a=6\n",
    "print(a+2)"
   ]
  },
  {
   "cell_type": "code",
   "execution_count": 7,
   "metadata": {},
   "outputs": [
    {
     "name": "stdout",
     "output_type": "stream",
     "text": [
      "10\n"
     ]
    }
   ],
   "source": [
    "# Istalgan sonni 5 ga orttiring\n",
    "a=int(input('sonni kiriting'))\n",
    "print(a+4)\n",
    "\n"
   ]
  },
  {
   "cell_type": "code",
   "execution_count": null,
   "metadata": {},
   "outputs": [
    {
     "name": "stdout",
     "output_type": "stream",
     "text": [
      "a sonini 2ga orttirilgandagi son: 7\n"
     ]
    }
   ],
   "source": [
    "# Oddiy comment orqali print qilish\n",
    "a=int(input('sonni kiriting'))\n",
    "print('a sonini 2ga orttirilgandagi son:',a+2)"
   ]
  },
  {
   "cell_type": "code",
   "execution_count": 10,
   "metadata": {},
   "outputs": [
    {
     "name": "stdout",
     "output_type": "stream",
     "text": [
      "8 sonini 2ga orttirilgandagi son: 10\n"
     ]
    }
   ],
   "source": [
    "# f-string orqali print qilish\n",
    "a=int(input('sonni kiriting'))\n",
    "print(f\"{a} sonini 2ga orttirilgandagi son:\",a+2)"
   ]
  },
  {
   "cell_type": "code",
   "execution_count": 16,
   "metadata": {},
   "outputs": [
    {
     "name": "stdout",
     "output_type": "stream",
     "text": [
      "6 sonini 8 songa orttirilgandagi son: 14\n"
     ]
    }
   ],
   "source": [
    "# istalgan sonni kiritib javob olish\n",
    "a=int(input('birinchi sonni kiriting'))\n",
    "b=int(input('ikkinchi sonni kiriting'))\n",
    "print(f\"{a} sonini {b} songa orttirilgandagi son:\", a+b)"
   ]
  },
  {
   "cell_type": "code",
   "execution_count": 17,
   "metadata": {},
   "outputs": [
    {
     "name": "stdout",
     "output_type": "stream",
     "text": [
      "a sonini b soniga orttirilgandagi son: 15\n"
     ]
    }
   ],
   "source": [
    "a=int(input('birinchi sonni kiriting'))\n",
    "b=int(input('ikkinchi sonni kiriting'))\n",
    "print('a sonini b soniga orttirilgandagi son:', a+b)"
   ]
  },
  {
   "cell_type": "code",
   "execution_count": 1,
   "metadata": {},
   "outputs": [
    {
     "name": "stdout",
     "output_type": "stream",
     "text": [
      "14 soni musbat juft son\n"
     ]
    }
   ],
   "source": [
    "# condition+ + BooLean(and va or)\n",
    "# a sonini musbat va juftlikka tekshirish\n",
    "a=int(input('birinchi sonni kiriting'))\n",
    "if a>0 and a%2==0:\n",
    "    print(f\"{a} soni musbat juft son\")\n",
    "elif a>0 and a%2!=0:\n",
    "    print(f\"{a} soni musbat toq son\")\n",
    "else:\n",
    "    print(f\"a sonida xatolik bor\")"
   ]
  },
  {
   "cell_type": "code",
   "execution_count": 2,
   "metadata": {},
   "outputs": [
    {
     "name": "stdout",
     "output_type": "stream",
     "text": [
      "17 soni musbat toq son\n"
     ]
    }
   ],
   "source": [
    "a=int(input('birinchi sonni kiriting'))\n",
    "if a>0 and a%2==0:\n",
    "    print(f\"{a} soni musbat juft son\")\n",
    "elif a>0 and a%2!=0:\n",
    "    print(f\"{a} soni musbat toq son\")\n",
    "else:\n",
    "    print(f\"a sonida xatolik bor\")"
   ]
  },
  {
   "cell_type": "code",
   "execution_count": 3,
   "metadata": {},
   "outputs": [
    {
     "name": "stdout",
     "output_type": "stream",
     "text": [
      "ok\n"
     ]
    }
   ],
   "source": [
    "# agar a soni musbat yoki juft bolsa ekranga Ok degan yozuv chiqsin aks holda xatolik degan yozuv chiqsin\n",
    "a=int(input('birinchi sonni kiriting'))\n",
    "if a>0 or a%2==0:\n",
    "    print(f\"ok\")\n",
    "else:\n",
    "    print(f\"xatolik bor\")"
   ]
  },
  {
   "cell_type": "code",
   "execution_count": null,
   "metadata": {},
   "outputs": [],
   "source": []
  }
 ],
 "metadata": {
  "kernelspec": {
   "display_name": "Python 3",
   "language": "python",
   "name": "python3"
  },
  "language_info": {
   "codemirror_mode": {
    "name": "ipython",
    "version": 3
   },
   "file_extension": ".py",
   "mimetype": "text/x-python",
   "name": "python",
   "nbconvert_exporter": "python",
   "pygments_lexer": "ipython3",
   "version": "3.11.9"
  }
 },
 "nbformat": 4,
 "nbformat_minor": 2
}
