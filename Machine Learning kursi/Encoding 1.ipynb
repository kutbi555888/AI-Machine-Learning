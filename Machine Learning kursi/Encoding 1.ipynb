{
 "cells": [
  {
   "cell_type": "markdown",
   "metadata": {},
   "source": [
    "# ENCODING 1"
   ]
  },
  {
   "cell_type": "code",
   "execution_count": 1,
   "metadata": {},
   "outputs": [],
   "source": [
    "import pandas as pd"
   ]
  },
  {
   "cell_type": "code",
   "execution_count": 2,
   "metadata": {},
   "outputs": [],
   "source": [
    "df=pd.read_csv('telefon turini aniqlash2.csv')"
   ]
  },
  {
   "cell_type": "code",
   "execution_count": 3,
   "metadata": {},
   "outputs": [
    {
     "data": {
      "text/html": [
       "<div>\n",
       "<style scoped>\n",
       "    .dataframe tbody tr th:only-of-type {\n",
       "        vertical-align: middle;\n",
       "    }\n",
       "\n",
       "    .dataframe tbody tr th {\n",
       "        vertical-align: top;\n",
       "    }\n",
       "\n",
       "    .dataframe thead th {\n",
       "        text-align: right;\n",
       "    }\n",
       "</style>\n",
       "<table border=\"1\" class=\"dataframe\">\n",
       "  <thead>\n",
       "    <tr style=\"text-align: right;\">\n",
       "      <th></th>\n",
       "      <th>battereya_hajmi</th>\n",
       "      <th>blutus</th>\n",
       "      <th>protsessor_tezligi</th>\n",
       "      <th>ikkita simkartalik</th>\n",
       "      <th>Oldi_kamera</th>\n",
       "      <th>4G</th>\n",
       "      <th>Ichki_xotira</th>\n",
       "      <th>tel_ingichgaligi</th>\n",
       "      <th>Rangi</th>\n",
       "      <th>Vazni</th>\n",
       "      <th>...</th>\n",
       "      <th>Qurilma ekran kengligi(pix)</th>\n",
       "      <th>ram</th>\n",
       "      <th>Qurilma xajmi(cm)</th>\n",
       "      <th>Qurilma ekran kengligi(cm)</th>\n",
       "      <th>Bir_quvvatlashdagi gaplashish</th>\n",
       "      <th>3g</th>\n",
       "      <th>Qurilma xajmi(pix).1</th>\n",
       "      <th>sensorli</th>\n",
       "      <th>wifi</th>\n",
       "      <th>telefon_turi</th>\n",
       "    </tr>\n",
       "  </thead>\n",
       "  <tbody>\n",
       "    <tr>\n",
       "      <th>0</th>\n",
       "      <td>842</td>\n",
       "      <td>0</td>\n",
       "      <td>2.2</td>\n",
       "      <td>0</td>\n",
       "      <td>1</td>\n",
       "      <td>0</td>\n",
       "      <td>7</td>\n",
       "      <td>0.6</td>\n",
       "      <td>Qizil</td>\n",
       "      <td>188</td>\n",
       "      <td>...</td>\n",
       "      <td>756.0</td>\n",
       "      <td>2549</td>\n",
       "      <td>9.0</td>\n",
       "      <td>7.0</td>\n",
       "      <td>19</td>\n",
       "      <td>0</td>\n",
       "      <td>20.0</td>\n",
       "      <td>0</td>\n",
       "      <td>1</td>\n",
       "      <td>1</td>\n",
       "    </tr>\n",
       "    <tr>\n",
       "      <th>1</th>\n",
       "      <td>1021</td>\n",
       "      <td>1</td>\n",
       "      <td>0.5</td>\n",
       "      <td>1</td>\n",
       "      <td>0</td>\n",
       "      <td>1</td>\n",
       "      <td>53</td>\n",
       "      <td>0.7</td>\n",
       "      <td>Yashil</td>\n",
       "      <td>136</td>\n",
       "      <td>...</td>\n",
       "      <td>1988.0</td>\n",
       "      <td>2631</td>\n",
       "      <td>17.0</td>\n",
       "      <td>3.0</td>\n",
       "      <td>7</td>\n",
       "      <td>1</td>\n",
       "      <td>905.0</td>\n",
       "      <td>1</td>\n",
       "      <td>0</td>\n",
       "      <td>2</td>\n",
       "    </tr>\n",
       "    <tr>\n",
       "      <th>2</th>\n",
       "      <td>563</td>\n",
       "      <td>1</td>\n",
       "      <td>0.5</td>\n",
       "      <td>1</td>\n",
       "      <td>2</td>\n",
       "      <td>1</td>\n",
       "      <td>41</td>\n",
       "      <td>0.9</td>\n",
       "      <td>Sariq</td>\n",
       "      <td>145</td>\n",
       "      <td>...</td>\n",
       "      <td>1716.0</td>\n",
       "      <td>2603</td>\n",
       "      <td>11.0</td>\n",
       "      <td>2.0</td>\n",
       "      <td>9</td>\n",
       "      <td>1</td>\n",
       "      <td>1263.0</td>\n",
       "      <td>1</td>\n",
       "      <td>0</td>\n",
       "      <td>2</td>\n",
       "    </tr>\n",
       "    <tr>\n",
       "      <th>3</th>\n",
       "      <td>615</td>\n",
       "      <td>1</td>\n",
       "      <td>2.5</td>\n",
       "      <td>0</td>\n",
       "      <td>0</td>\n",
       "      <td>0</td>\n",
       "      <td>10</td>\n",
       "      <td>0.8</td>\n",
       "      <td>Jigarrang</td>\n",
       "      <td>131</td>\n",
       "      <td>...</td>\n",
       "      <td>1786.0</td>\n",
       "      <td>2769</td>\n",
       "      <td>16.0</td>\n",
       "      <td>8.0</td>\n",
       "      <td>11</td>\n",
       "      <td>1</td>\n",
       "      <td>1216.0</td>\n",
       "      <td>0</td>\n",
       "      <td>0</td>\n",
       "      <td>2</td>\n",
       "    </tr>\n",
       "    <tr>\n",
       "      <th>4</th>\n",
       "      <td>1821</td>\n",
       "      <td>1</td>\n",
       "      <td>1.2</td>\n",
       "      <td>0</td>\n",
       "      <td>13</td>\n",
       "      <td>1</td>\n",
       "      <td>44</td>\n",
       "      <td>0.6</td>\n",
       "      <td>Oq</td>\n",
       "      <td>141</td>\n",
       "      <td>...</td>\n",
       "      <td>1212.0</td>\n",
       "      <td>1411</td>\n",
       "      <td>8.0</td>\n",
       "      <td>2.0</td>\n",
       "      <td>15</td>\n",
       "      <td>1</td>\n",
       "      <td>1208.0</td>\n",
       "      <td>1</td>\n",
       "      <td>0</td>\n",
       "      <td>1</td>\n",
       "    </tr>\n",
       "  </tbody>\n",
       "</table>\n",
       "<p>5 rows × 23 columns</p>\n",
       "</div>"
      ],
      "text/plain": [
       "   battereya_hajmi  blutus  protsessor_tezligi  ikkita simkartalik  \\\n",
       "0              842       0                 2.2                   0   \n",
       "1             1021       1                 0.5                   1   \n",
       "2              563       1                 0.5                   1   \n",
       "3              615       1                 2.5                   0   \n",
       "4             1821       1                 1.2                   0   \n",
       "\n",
       "   Oldi_kamera  4G  Ichki_xotira  tel_ingichgaligi      Rangi  Vazni  ...  \\\n",
       "0            1   0             7               0.6      Qizil    188  ...   \n",
       "1            0   1            53               0.7     Yashil    136  ...   \n",
       "2            2   1            41               0.9      Sariq    145  ...   \n",
       "3            0   0            10               0.8  Jigarrang    131  ...   \n",
       "4           13   1            44               0.6         Oq    141  ...   \n",
       "\n",
       "   Qurilma ekran kengligi(pix)   ram  Qurilma xajmi(cm)  \\\n",
       "0                        756.0  2549                9.0   \n",
       "1                       1988.0  2631               17.0   \n",
       "2                       1716.0  2603               11.0   \n",
       "3                       1786.0  2769               16.0   \n",
       "4                       1212.0  1411                8.0   \n",
       "\n",
       "   Qurilma ekran kengligi(cm)  Bir_quvvatlashdagi gaplashish  3g  \\\n",
       "0                         7.0                             19   0   \n",
       "1                         3.0                              7   1   \n",
       "2                         2.0                              9   1   \n",
       "3                         8.0                             11   1   \n",
       "4                         2.0                             15   1   \n",
       "\n",
       "   Qurilma xajmi(pix).1  sensorli  wifi  telefon_turi  \n",
       "0                  20.0         0     1             1  \n",
       "1                 905.0         1     0             2  \n",
       "2                1263.0         1     0             2  \n",
       "3                1216.0         0     0             2  \n",
       "4                1208.0         1     0             1  \n",
       "\n",
       "[5 rows x 23 columns]"
      ]
     },
     "execution_count": 3,
     "metadata": {},
     "output_type": "execute_result"
    }
   ],
   "source": [
    "df.head()"
   ]
  },
  {
   "cell_type": "code",
   "execution_count": 4,
   "metadata": {},
   "outputs": [
    {
     "data": {
      "text/plain": [
       "battereya_hajmi                  0\n",
       "blutus                           0\n",
       "protsessor_tezligi               0\n",
       "ikkita simkartalik               0\n",
       "Oldi_kamera                      0\n",
       "4G                               0\n",
       "Ichki_xotira                     0\n",
       "tel_ingichgaligi                 3\n",
       "Rangi                            0\n",
       "Vazni                            0\n",
       "Protsessor yadrolari soni        1\n",
       "Asosiy kamera                    2\n",
       "Qurilma xajmi(pix)               2\n",
       "Qurilma ekran kengligi(pix)      3\n",
       "ram                              0\n",
       "Qurilma xajmi(cm)                1\n",
       "Qurilma ekran kengligi(cm)       1\n",
       "Bir_quvvatlashdagi gaplashish    0\n",
       "3g                               0\n",
       "Qurilma xajmi(pix).1             2\n",
       "sensorli                         0\n",
       "wifi                             0\n",
       "telefon_turi                     0\n",
       "dtype: int64"
      ]
     },
     "execution_count": 4,
     "metadata": {},
     "output_type": "execute_result"
    }
   ],
   "source": [
    "df.isnull().sum()"
   ]
  },
  {
   "cell_type": "code",
   "execution_count": 5,
   "metadata": {},
   "outputs": [
    {
     "name": "stdout",
     "output_type": "stream",
     "text": [
      "<class 'pandas.core.frame.DataFrame'>\n",
      "RangeIndex: 2001 entries, 0 to 2000\n",
      "Data columns (total 23 columns):\n",
      " #   Column                         Non-Null Count  Dtype  \n",
      "---  ------                         --------------  -----  \n",
      " 0   battereya_hajmi                2001 non-null   int64  \n",
      " 1   blutus                         2001 non-null   int64  \n",
      " 2   protsessor_tezligi             2001 non-null   float64\n",
      " 3   ikkita simkartalik             2001 non-null   int64  \n",
      " 4   Oldi_kamera                    2001 non-null   int64  \n",
      " 5   4G                             2001 non-null   int64  \n",
      " 6   Ichki_xotira                   2001 non-null   int64  \n",
      " 7   tel_ingichgaligi               1998 non-null   float64\n",
      " 8   Rangi                          2001 non-null   object \n",
      " 9   Vazni                          2001 non-null   int64  \n",
      " 10  Protsessor yadrolari soni      2000 non-null   float64\n",
      " 11  Asosiy kamera                  1999 non-null   float64\n",
      " 12  Qurilma xajmi(pix)             1999 non-null   float64\n",
      " 13  Qurilma ekran kengligi(pix)    1998 non-null   float64\n",
      " 14  ram                            2001 non-null   int64  \n",
      " 15  Qurilma xajmi(cm)              2000 non-null   float64\n",
      " 16  Qurilma ekran kengligi(cm)     2000 non-null   float64\n",
      " 17  Bir_quvvatlashdagi gaplashish  2001 non-null   int64  \n",
      " 18  3g                             2001 non-null   int64  \n",
      " 19  Qurilma xajmi(pix).1           1999 non-null   float64\n",
      " 20  sensorli                       2001 non-null   int64  \n",
      " 21  wifi                           2001 non-null   int64  \n",
      " 22  telefon_turi                   2001 non-null   int64  \n",
      "dtypes: float64(9), int64(13), object(1)\n",
      "memory usage: 359.7+ KB\n"
     ]
    }
   ],
   "source": [
    "df.info()"
   ]
  },
  {
   "cell_type": "code",
   "execution_count": 4,
   "metadata": {},
   "outputs": [],
   "source": [
    "df=df.dropna()"
   ]
  },
  {
   "cell_type": "code",
   "execution_count": 7,
   "metadata": {},
   "outputs": [
    {
     "name": "stdout",
     "output_type": "stream",
     "text": [
      "<class 'pandas.core.frame.DataFrame'>\n",
      "Index: 1988 entries, 0 to 2000\n",
      "Data columns (total 23 columns):\n",
      " #   Column                         Non-Null Count  Dtype  \n",
      "---  ------                         --------------  -----  \n",
      " 0   battereya_hajmi                1988 non-null   int64  \n",
      " 1   blutus                         1988 non-null   int64  \n",
      " 2   protsessor_tezligi             1988 non-null   float64\n",
      " 3   ikkita simkartalik             1988 non-null   int64  \n",
      " 4   Oldi_kamera                    1988 non-null   int64  \n",
      " 5   4G                             1988 non-null   int64  \n",
      " 6   Ichki_xotira                   1988 non-null   int64  \n",
      " 7   tel_ingichgaligi               1988 non-null   float64\n",
      " 8   Rangi                          1988 non-null   object \n",
      " 9   Vazni                          1988 non-null   int64  \n",
      " 10  Protsessor yadrolari soni      1988 non-null   float64\n",
      " 11  Asosiy kamera                  1988 non-null   float64\n",
      " 12  Qurilma xajmi(pix)             1988 non-null   float64\n",
      " 13  Qurilma ekran kengligi(pix)    1988 non-null   float64\n",
      " 14  ram                            1988 non-null   int64  \n",
      " 15  Qurilma xajmi(cm)              1988 non-null   float64\n",
      " 16  Qurilma ekran kengligi(cm)     1988 non-null   float64\n",
      " 17  Bir_quvvatlashdagi gaplashish  1988 non-null   int64  \n",
      " 18  3g                             1988 non-null   int64  \n",
      " 19  Qurilma xajmi(pix).1           1988 non-null   float64\n",
      " 20  sensorli                       1988 non-null   int64  \n",
      " 21  wifi                           1988 non-null   int64  \n",
      " 22  telefon_turi                   1988 non-null   int64  \n",
      "dtypes: float64(9), int64(13), object(1)\n",
      "memory usage: 372.8+ KB\n"
     ]
    }
   ],
   "source": [
    "df.info()"
   ]
  },
  {
   "cell_type": "code",
   "execution_count": 8,
   "metadata": {},
   "outputs": [
    {
     "data": {
      "text/plain": [
       "battereya_hajmi                  0\n",
       "blutus                           0\n",
       "protsessor_tezligi               0\n",
       "ikkita simkartalik               0\n",
       "Oldi_kamera                      0\n",
       "4G                               0\n",
       "Ichki_xotira                     0\n",
       "tel_ingichgaligi                 0\n",
       "Rangi                            0\n",
       "Vazni                            0\n",
       "Protsessor yadrolari soni        0\n",
       "Asosiy kamera                    0\n",
       "Qurilma xajmi(pix)               0\n",
       "Qurilma ekran kengligi(pix)      0\n",
       "ram                              0\n",
       "Qurilma xajmi(cm)                0\n",
       "Qurilma ekran kengligi(cm)       0\n",
       "Bir_quvvatlashdagi gaplashish    0\n",
       "3g                               0\n",
       "Qurilma xajmi(pix).1             0\n",
       "sensorli                         0\n",
       "wifi                             0\n",
       "telefon_turi                     0\n",
       "dtype: int64"
      ]
     },
     "execution_count": 8,
     "metadata": {},
     "output_type": "execute_result"
    }
   ],
   "source": [
    "df.isnull().sum()"
   ]
  },
  {
   "cell_type": "markdown",
   "metadata": {},
   "source": [
    "# ONE- HOT Encoder"
   ]
  },
  {
   "cell_type": "code",
   "execution_count": 9,
   "metadata": {},
   "outputs": [],
   "source": [
    "# get_dummies=Pandas"
   ]
  },
  {
   "cell_type": "code",
   "execution_count": 10,
   "metadata": {},
   "outputs": [
    {
     "name": "stdout",
     "output_type": "stream",
     "text": [
      "<class 'pandas.core.frame.DataFrame'>\n",
      "Index: 1988 entries, 0 to 2000\n",
      "Data columns (total 23 columns):\n",
      " #   Column                         Non-Null Count  Dtype  \n",
      "---  ------                         --------------  -----  \n",
      " 0   battereya_hajmi                1988 non-null   int64  \n",
      " 1   blutus                         1988 non-null   int64  \n",
      " 2   protsessor_tezligi             1988 non-null   float64\n",
      " 3   ikkita simkartalik             1988 non-null   int64  \n",
      " 4   Oldi_kamera                    1988 non-null   int64  \n",
      " 5   4G                             1988 non-null   int64  \n",
      " 6   Ichki_xotira                   1988 non-null   int64  \n",
      " 7   tel_ingichgaligi               1988 non-null   float64\n",
      " 8   Rangi                          1988 non-null   object \n",
      " 9   Vazni                          1988 non-null   int64  \n",
      " 10  Protsessor yadrolari soni      1988 non-null   float64\n",
      " 11  Asosiy kamera                  1988 non-null   float64\n",
      " 12  Qurilma xajmi(pix)             1988 non-null   float64\n",
      " 13  Qurilma ekran kengligi(pix)    1988 non-null   float64\n",
      " 14  ram                            1988 non-null   int64  \n",
      " 15  Qurilma xajmi(cm)              1988 non-null   float64\n",
      " 16  Qurilma ekran kengligi(cm)     1988 non-null   float64\n",
      " 17  Bir_quvvatlashdagi gaplashish  1988 non-null   int64  \n",
      " 18  3g                             1988 non-null   int64  \n",
      " 19  Qurilma xajmi(pix).1           1988 non-null   float64\n",
      " 20  sensorli                       1988 non-null   int64  \n",
      " 21  wifi                           1988 non-null   int64  \n",
      " 22  telefon_turi                   1988 non-null   int64  \n",
      "dtypes: float64(9), int64(13), object(1)\n",
      "memory usage: 372.8+ KB\n"
     ]
    }
   ],
   "source": [
    "df.info()"
   ]
  },
  {
   "cell_type": "code",
   "execution_count": 12,
   "metadata": {},
   "outputs": [
    {
     "data": {
      "text/plain": [
       "Rangi\n",
       "Qora         1977\n",
       "Yashil          7\n",
       "Qizil           1\n",
       "Sariq           1\n",
       "Jigarrang       1\n",
       "Oq              1\n",
       "Name: count, dtype: int64"
      ]
     },
     "execution_count": 12,
     "metadata": {},
     "output_type": "execute_result"
    }
   ],
   "source": [
    "df['Rangi'].value_counts()"
   ]
  },
  {
   "cell_type": "code",
   "execution_count": 13,
   "metadata": {},
   "outputs": [
    {
     "name": "stdout",
     "output_type": "stream",
     "text": [
      "<class 'pandas.core.frame.DataFrame'>\n",
      "Index: 1988 entries, 0 to 2000\n",
      "Data columns (total 23 columns):\n",
      " #   Column                         Non-Null Count  Dtype  \n",
      "---  ------                         --------------  -----  \n",
      " 0   battereya_hajmi                1988 non-null   int64  \n",
      " 1   blutus                         1988 non-null   int64  \n",
      " 2   protsessor_tezligi             1988 non-null   float64\n",
      " 3   ikkita simkartalik             1988 non-null   int64  \n",
      " 4   Oldi_kamera                    1988 non-null   int64  \n",
      " 5   4G                             1988 non-null   int64  \n",
      " 6   Ichki_xotira                   1988 non-null   int64  \n",
      " 7   tel_ingichgaligi               1988 non-null   float64\n",
      " 8   Rangi                          1988 non-null   object \n",
      " 9   Vazni                          1988 non-null   int64  \n",
      " 10  Protsessor yadrolari soni      1988 non-null   float64\n",
      " 11  Asosiy kamera                  1988 non-null   float64\n",
      " 12  Qurilma xajmi(pix)             1988 non-null   float64\n",
      " 13  Qurilma ekran kengligi(pix)    1988 non-null   float64\n",
      " 14  ram                            1988 non-null   int64  \n",
      " 15  Qurilma xajmi(cm)              1988 non-null   float64\n",
      " 16  Qurilma ekran kengligi(cm)     1988 non-null   float64\n",
      " 17  Bir_quvvatlashdagi gaplashish  1988 non-null   int64  \n",
      " 18  3g                             1988 non-null   int64  \n",
      " 19  Qurilma xajmi(pix).1           1988 non-null   float64\n",
      " 20  sensorli                       1988 non-null   int64  \n",
      " 21  wifi                           1988 non-null   int64  \n",
      " 22  telefon_turi                   1988 non-null   int64  \n",
      "dtypes: float64(9), int64(13), object(1)\n",
      "memory usage: 372.8+ KB\n"
     ]
    }
   ],
   "source": [
    "df.info()"
   ]
  },
  {
   "cell_type": "markdown",
   "metadata": {},
   "source": [
    "# Label Encoding"
   ]
  },
  {
   "cell_type": "code",
   "execution_count": 3,
   "metadata": {},
   "outputs": [
    {
     "name": "stdout",
     "output_type": "stream",
     "text": [
      "<class 'pandas.core.frame.DataFrame'>\n",
      "RangeIndex: 2001 entries, 0 to 2000\n",
      "Data columns (total 23 columns):\n",
      " #   Column                         Non-Null Count  Dtype  \n",
      "---  ------                         --------------  -----  \n",
      " 0   battereya_hajmi                2001 non-null   int64  \n",
      " 1   blutus                         2001 non-null   int64  \n",
      " 2   protsessor_tezligi             2001 non-null   float64\n",
      " 3   ikkita simkartalik             2001 non-null   int64  \n",
      " 4   Oldi_kamera                    2001 non-null   int64  \n",
      " 5   4G                             2001 non-null   int64  \n",
      " 6   Ichki_xotira                   2001 non-null   int64  \n",
      " 7   tel_ingichgaligi               1998 non-null   float64\n",
      " 8   Rangi                          2001 non-null   object \n",
      " 9   Vazni                          2001 non-null   int64  \n",
      " 10  Protsessor yadrolari soni      2000 non-null   float64\n",
      " 11  Asosiy kamera                  1999 non-null   float64\n",
      " 12  Qurilma xajmi(pix)             1999 non-null   float64\n",
      " 13  Qurilma ekran kengligi(pix)    1998 non-null   float64\n",
      " 14  ram                            2001 non-null   int64  \n",
      " 15  Qurilma xajmi(cm)              2000 non-null   float64\n",
      " 16  Qurilma ekran kengligi(cm)     2000 non-null   float64\n",
      " 17  Bir_quvvatlashdagi gaplashish  2001 non-null   int64  \n",
      " 18  3g                             2001 non-null   int64  \n",
      " 19  Qurilma xajmi(pix).1           1999 non-null   float64\n",
      " 20  sensorli                       2001 non-null   int64  \n",
      " 21  wifi                           2001 non-null   int64  \n",
      " 22  telefon_turi                   2001 non-null   int64  \n",
      "dtypes: float64(9), int64(13), object(1)\n",
      "memory usage: 359.7+ KB\n"
     ]
    }
   ],
   "source": [
    "df.info()"
   ]
  },
  {
   "cell_type": "code",
   "execution_count": 5,
   "metadata": {},
   "outputs": [
    {
     "name": "stdout",
     "output_type": "stream",
     "text": [
      "<class 'pandas.core.frame.DataFrame'>\n",
      "Index: 1988 entries, 0 to 2000\n",
      "Data columns (total 23 columns):\n",
      " #   Column                         Non-Null Count  Dtype  \n",
      "---  ------                         --------------  -----  \n",
      " 0   battereya_hajmi                1988 non-null   int64  \n",
      " 1   blutus                         1988 non-null   int64  \n",
      " 2   protsessor_tezligi             1988 non-null   float64\n",
      " 3   ikkita simkartalik             1988 non-null   int64  \n",
      " 4   Oldi_kamera                    1988 non-null   int64  \n",
      " 5   4G                             1988 non-null   int64  \n",
      " 6   Ichki_xotira                   1988 non-null   int64  \n",
      " 7   tel_ingichgaligi               1988 non-null   float64\n",
      " 8   Rangi                          1988 non-null   object \n",
      " 9   Vazni                          1988 non-null   int64  \n",
      " 10  Protsessor yadrolari soni      1988 non-null   float64\n",
      " 11  Asosiy kamera                  1988 non-null   float64\n",
      " 12  Qurilma xajmi(pix)             1988 non-null   float64\n",
      " 13  Qurilma ekran kengligi(pix)    1988 non-null   float64\n",
      " 14  ram                            1988 non-null   int64  \n",
      " 15  Qurilma xajmi(cm)              1988 non-null   float64\n",
      " 16  Qurilma ekran kengligi(cm)     1988 non-null   float64\n",
      " 17  Bir_quvvatlashdagi gaplashish  1988 non-null   int64  \n",
      " 18  3g                             1988 non-null   int64  \n",
      " 19  Qurilma xajmi(pix).1           1988 non-null   float64\n",
      " 20  sensorli                       1988 non-null   int64  \n",
      " 21  wifi                           1988 non-null   int64  \n",
      " 22  telefon_turi                   1988 non-null   int64  \n",
      "dtypes: float64(9), int64(13), object(1)\n",
      "memory usage: 372.8+ KB\n"
     ]
    }
   ],
   "source": [
    "df.info()"
   ]
  },
  {
   "cell_type": "code",
   "execution_count": 6,
   "metadata": {},
   "outputs": [
    {
     "data": {
      "text/plain": [
       "Rangi\n",
       "Qora         1977\n",
       "Yashil          7\n",
       "Qizil           1\n",
       "Sariq           1\n",
       "Jigarrang       1\n",
       "Oq              1\n",
       "Name: count, dtype: int64"
      ]
     },
     "execution_count": 6,
     "metadata": {},
     "output_type": "execute_result"
    }
   ],
   "source": [
    "df['Rangi'].value_counts()"
   ]
  },
  {
   "cell_type": "code",
   "execution_count": 7,
   "metadata": {},
   "outputs": [],
   "source": [
    "# kutubxonani chaqiramiz\n",
    "from sklearn.preprocessing import LabelEncoder"
   ]
  },
  {
   "cell_type": "code",
   "execution_count": 8,
   "metadata": {},
   "outputs": [],
   "source": [
    "encoder=LabelEncoder()"
   ]
  },
  {
   "cell_type": "code",
   "execution_count": 9,
   "metadata": {},
   "outputs": [],
   "source": [
    "df['Rangi']=encoder.fit_transform(df['Rangi'])"
   ]
  },
  {
   "cell_type": "code",
   "execution_count": 10,
   "metadata": {},
   "outputs": [
    {
     "name": "stdout",
     "output_type": "stream",
     "text": [
      "<class 'pandas.core.frame.DataFrame'>\n",
      "Index: 1988 entries, 0 to 2000\n",
      "Data columns (total 23 columns):\n",
      " #   Column                         Non-Null Count  Dtype  \n",
      "---  ------                         --------------  -----  \n",
      " 0   battereya_hajmi                1988 non-null   int64  \n",
      " 1   blutus                         1988 non-null   int64  \n",
      " 2   protsessor_tezligi             1988 non-null   float64\n",
      " 3   ikkita simkartalik             1988 non-null   int64  \n",
      " 4   Oldi_kamera                    1988 non-null   int64  \n",
      " 5   4G                             1988 non-null   int64  \n",
      " 6   Ichki_xotira                   1988 non-null   int64  \n",
      " 7   tel_ingichgaligi               1988 non-null   float64\n",
      " 8   Rangi                          1988 non-null   int64  \n",
      " 9   Vazni                          1988 non-null   int64  \n",
      " 10  Protsessor yadrolari soni      1988 non-null   float64\n",
      " 11  Asosiy kamera                  1988 non-null   float64\n",
      " 12  Qurilma xajmi(pix)             1988 non-null   float64\n",
      " 13  Qurilma ekran kengligi(pix)    1988 non-null   float64\n",
      " 14  ram                            1988 non-null   int64  \n",
      " 15  Qurilma xajmi(cm)              1988 non-null   float64\n",
      " 16  Qurilma ekran kengligi(cm)     1988 non-null   float64\n",
      " 17  Bir_quvvatlashdagi gaplashish  1988 non-null   int64  \n",
      " 18  3g                             1988 non-null   int64  \n",
      " 19  Qurilma xajmi(pix).1           1988 non-null   float64\n",
      " 20  sensorli                       1988 non-null   int64  \n",
      " 21  wifi                           1988 non-null   int64  \n",
      " 22  telefon_turi                   1988 non-null   int64  \n",
      "dtypes: float64(9), int64(14)\n",
      "memory usage: 372.8 KB\n"
     ]
    }
   ],
   "source": [
    "df.info()"
   ]
  },
  {
   "cell_type": "code",
   "execution_count": 11,
   "metadata": {},
   "outputs": [
    {
     "data": {
      "text/plain": [
       "0       2\n",
       "1       5\n",
       "2       4\n",
       "3       0\n",
       "4       1\n",
       "       ..\n",
       "1996    3\n",
       "1997    3\n",
       "1998    3\n",
       "1999    3\n",
       "2000    3\n",
       "Name: Rangi, Length: 1988, dtype: int64"
      ]
     },
     "execution_count": 11,
     "metadata": {},
     "output_type": "execute_result"
    }
   ],
   "source": [
    "df['Rangi']"
   ]
  },
  {
   "cell_type": "markdown",
   "metadata": {},
   "source": [
    "# Target Encoding"
   ]
  },
  {
   "cell_type": "code",
   "execution_count": 3,
   "metadata": {},
   "outputs": [
    {
     "name": "stdout",
     "output_type": "stream",
     "text": [
      "<class 'pandas.core.frame.DataFrame'>\n",
      "RangeIndex: 2001 entries, 0 to 2000\n",
      "Data columns (total 23 columns):\n",
      " #   Column                         Non-Null Count  Dtype  \n",
      "---  ------                         --------------  -----  \n",
      " 0   battereya_hajmi                2001 non-null   int64  \n",
      " 1   blutus                         2001 non-null   int64  \n",
      " 2   protsessor_tezligi             2001 non-null   float64\n",
      " 3   ikkita simkartalik             2001 non-null   int64  \n",
      " 4   Oldi_kamera                    2001 non-null   int64  \n",
      " 5   4G                             2001 non-null   int64  \n",
      " 6   Ichki_xotira                   2001 non-null   int64  \n",
      " 7   tel_ingichgaligi               1998 non-null   float64\n",
      " 8   Rangi                          2001 non-null   object \n",
      " 9   Vazni                          2001 non-null   int64  \n",
      " 10  Protsessor yadrolari soni      2000 non-null   float64\n",
      " 11  Asosiy kamera                  1999 non-null   float64\n",
      " 12  Qurilma xajmi(pix)             1999 non-null   float64\n",
      " 13  Qurilma ekran kengligi(pix)    1998 non-null   float64\n",
      " 14  ram                            2001 non-null   int64  \n",
      " 15  Qurilma xajmi(cm)              2000 non-null   float64\n",
      " 16  Qurilma ekran kengligi(cm)     2000 non-null   float64\n",
      " 17  Bir_quvvatlashdagi gaplashish  2001 non-null   int64  \n",
      " 18  3g                             2001 non-null   int64  \n",
      " 19  Qurilma xajmi(pix).1           1999 non-null   float64\n",
      " 20  sensorli                       2001 non-null   int64  \n",
      " 21  wifi                           2001 non-null   int64  \n",
      " 22  telefon_turi                   2001 non-null   int64  \n",
      "dtypes: float64(9), int64(13), object(1)\n",
      "memory usage: 359.7+ KB\n"
     ]
    }
   ],
   "source": [
    "df.info()"
   ]
  },
  {
   "cell_type": "code",
   "execution_count": 6,
   "metadata": {},
   "outputs": [
    {
     "data": {
      "text/plain": [
       "battereya_hajmi                  0\n",
       "blutus                           0\n",
       "protsessor_tezligi               0\n",
       "ikkita simkartalik               0\n",
       "Oldi_kamera                      0\n",
       "4G                               0\n",
       "Ichki_xotira                     0\n",
       "tel_ingichgaligi                 3\n",
       "Rangi                            0\n",
       "Vazni                            0\n",
       "Protsessor yadrolari soni        1\n",
       "Asosiy kamera                    2\n",
       "Qurilma xajmi(pix)               2\n",
       "Qurilma ekran kengligi(pix)      3\n",
       "ram                              0\n",
       "Qurilma xajmi(cm)                1\n",
       "Qurilma ekran kengligi(cm)       1\n",
       "Bir_quvvatlashdagi gaplashish    0\n",
       "3g                               0\n",
       "Qurilma xajmi(pix).1             2\n",
       "sensorli                         0\n",
       "wifi                             0\n",
       "telefon_turi                     0\n",
       "dtype: int64"
      ]
     },
     "execution_count": 6,
     "metadata": {},
     "output_type": "execute_result"
    }
   ],
   "source": [
    "df.isnull().sum()"
   ]
  },
  {
   "cell_type": "code",
   "execution_count": 7,
   "metadata": {},
   "outputs": [],
   "source": [
    "df=df.dropna()"
   ]
  },
  {
   "cell_type": "code",
   "execution_count": 8,
   "metadata": {},
   "outputs": [
    {
     "name": "stdout",
     "output_type": "stream",
     "text": [
      "<class 'pandas.core.frame.DataFrame'>\n",
      "Index: 1988 entries, 0 to 2000\n",
      "Data columns (total 23 columns):\n",
      " #   Column                         Non-Null Count  Dtype  \n",
      "---  ------                         --------------  -----  \n",
      " 0   battereya_hajmi                1988 non-null   int64  \n",
      " 1   blutus                         1988 non-null   int64  \n",
      " 2   protsessor_tezligi             1988 non-null   float64\n",
      " 3   ikkita simkartalik             1988 non-null   int64  \n",
      " 4   Oldi_kamera                    1988 non-null   int64  \n",
      " 5   4G                             1988 non-null   int64  \n",
      " 6   Ichki_xotira                   1988 non-null   int64  \n",
      " 7   tel_ingichgaligi               1988 non-null   float64\n",
      " 8   Rangi                          1988 non-null   object \n",
      " 9   Vazni                          1988 non-null   int64  \n",
      " 10  Protsessor yadrolari soni      1988 non-null   float64\n",
      " 11  Asosiy kamera                  1988 non-null   float64\n",
      " 12  Qurilma xajmi(pix)             1988 non-null   float64\n",
      " 13  Qurilma ekran kengligi(pix)    1988 non-null   float64\n",
      " 14  ram                            1988 non-null   int64  \n",
      " 15  Qurilma xajmi(cm)              1988 non-null   float64\n",
      " 16  Qurilma ekran kengligi(cm)     1988 non-null   float64\n",
      " 17  Bir_quvvatlashdagi gaplashish  1988 non-null   int64  \n",
      " 18  3g                             1988 non-null   int64  \n",
      " 19  Qurilma xajmi(pix).1           1988 non-null   float64\n",
      " 20  sensorli                       1988 non-null   int64  \n",
      " 21  wifi                           1988 non-null   int64  \n",
      " 22  telefon_turi                   1988 non-null   int64  \n",
      "dtypes: float64(9), int64(13), object(1)\n",
      "memory usage: 372.8+ KB\n"
     ]
    }
   ],
   "source": [
    "df.info()"
   ]
  },
  {
   "cell_type": "code",
   "execution_count": 10,
   "metadata": {},
   "outputs": [
    {
     "data": {
      "text/plain": [
       "0           Qizil\n",
       "1          Yashil\n",
       "2           Sariq\n",
       "3       Jigarrang\n",
       "4              Oq\n",
       "          ...    \n",
       "1996         Qora\n",
       "1997         Qora\n",
       "1998         Qora\n",
       "1999         Qora\n",
       "2000         Qora\n",
       "Name: Rangi, Length: 1988, dtype: object"
      ]
     },
     "execution_count": 10,
     "metadata": {},
     "output_type": "execute_result"
    }
   ],
   "source": [
    "df['Rangi']"
   ]
  },
  {
   "cell_type": "code",
   "execution_count": 11,
   "metadata": {},
   "outputs": [
    {
     "data": {
      "text/plain": [
       "0       1\n",
       "1       2\n",
       "2       2\n",
       "3       2\n",
       "4       1\n",
       "       ..\n",
       "1996    0\n",
       "1997    2\n",
       "1998    3\n",
       "1999    0\n",
       "2000    3\n",
       "Name: telefon_turi, Length: 1988, dtype: int64"
      ]
     },
     "execution_count": 11,
     "metadata": {},
     "output_type": "execute_result"
    }
   ],
   "source": [
    "df['telefon_turi']"
   ]
  },
  {
   "cell_type": "code",
   "execution_count": 12,
   "metadata": {},
   "outputs": [
    {
     "name": "stdout",
     "output_type": "stream",
     "text": [
      "<class 'pandas.core.frame.DataFrame'>\n",
      "Index: 1988 entries, 0 to 2000\n",
      "Data columns (total 23 columns):\n",
      " #   Column                         Non-Null Count  Dtype  \n",
      "---  ------                         --------------  -----  \n",
      " 0   battereya_hajmi                1988 non-null   int64  \n",
      " 1   blutus                         1988 non-null   int64  \n",
      " 2   protsessor_tezligi             1988 non-null   float64\n",
      " 3   ikkita simkartalik             1988 non-null   int64  \n",
      " 4   Oldi_kamera                    1988 non-null   int64  \n",
      " 5   4G                             1988 non-null   int64  \n",
      " 6   Ichki_xotira                   1988 non-null   int64  \n",
      " 7   tel_ingichgaligi               1988 non-null   float64\n",
      " 8   Rangi                          1988 non-null   object \n",
      " 9   Vazni                          1988 non-null   int64  \n",
      " 10  Protsessor yadrolari soni      1988 non-null   float64\n",
      " 11  Asosiy kamera                  1988 non-null   float64\n",
      " 12  Qurilma xajmi(pix)             1988 non-null   float64\n",
      " 13  Qurilma ekran kengligi(pix)    1988 non-null   float64\n",
      " 14  ram                            1988 non-null   int64  \n",
      " 15  Qurilma xajmi(cm)              1988 non-null   float64\n",
      " 16  Qurilma ekran kengligi(cm)     1988 non-null   float64\n",
      " 17  Bir_quvvatlashdagi gaplashish  1988 non-null   int64  \n",
      " 18  3g                             1988 non-null   int64  \n",
      " 19  Qurilma xajmi(pix).1           1988 non-null   float64\n",
      " 20  sensorli                       1988 non-null   int64  \n",
      " 21  wifi                           1988 non-null   int64  \n",
      " 22  telefon_turi                   1988 non-null   int64  \n",
      "dtypes: float64(9), int64(13), object(1)\n",
      "memory usage: 372.8+ KB\n"
     ]
    }
   ],
   "source": [
    "df.info()"
   ]
  },
  {
   "cell_type": "code",
   "execution_count": 13,
   "metadata": {},
   "outputs": [],
   "source": [
    "df['Rangi_target']=df.groupby('Rangi')['telefon_turi'].transform('mean')"
   ]
  },
  {
   "cell_type": "code",
   "execution_count": 14,
   "metadata": {},
   "outputs": [
    {
     "name": "stdout",
     "output_type": "stream",
     "text": [
      "<class 'pandas.core.frame.DataFrame'>\n",
      "Index: 1988 entries, 0 to 2000\n",
      "Data columns (total 24 columns):\n",
      " #   Column                         Non-Null Count  Dtype  \n",
      "---  ------                         --------------  -----  \n",
      " 0   battereya_hajmi                1988 non-null   int64  \n",
      " 1   blutus                         1988 non-null   int64  \n",
      " 2   protsessor_tezligi             1988 non-null   float64\n",
      " 3   ikkita simkartalik             1988 non-null   int64  \n",
      " 4   Oldi_kamera                    1988 non-null   int64  \n",
      " 5   4G                             1988 non-null   int64  \n",
      " 6   Ichki_xotira                   1988 non-null   int64  \n",
      " 7   tel_ingichgaligi               1988 non-null   float64\n",
      " 8   Rangi                          1988 non-null   object \n",
      " 9   Vazni                          1988 non-null   int64  \n",
      " 10  Protsessor yadrolari soni      1988 non-null   float64\n",
      " 11  Asosiy kamera                  1988 non-null   float64\n",
      " 12  Qurilma xajmi(pix)             1988 non-null   float64\n",
      " 13  Qurilma ekran kengligi(pix)    1988 non-null   float64\n",
      " 14  ram                            1988 non-null   int64  \n",
      " 15  Qurilma xajmi(cm)              1988 non-null   float64\n",
      " 16  Qurilma ekran kengligi(cm)     1988 non-null   float64\n",
      " 17  Bir_quvvatlashdagi gaplashish  1988 non-null   int64  \n",
      " 18  3g                             1988 non-null   int64  \n",
      " 19  Qurilma xajmi(pix).1           1988 non-null   float64\n",
      " 20  sensorli                       1988 non-null   int64  \n",
      " 21  wifi                           1988 non-null   int64  \n",
      " 22  telefon_turi                   1988 non-null   int64  \n",
      " 23  Rangi_target                   1988 non-null   float64\n",
      "dtypes: float64(10), int64(13), object(1)\n",
      "memory usage: 388.3+ KB\n"
     ]
    }
   ],
   "source": [
    "df.info()"
   ]
  },
  {
   "cell_type": "code",
   "execution_count": 15,
   "metadata": {},
   "outputs": [
    {
     "data": {
      "text/plain": [
       "0       1.000000\n",
       "1       1.142857\n",
       "2       2.000000\n",
       "3       2.000000\n",
       "4       1.000000\n",
       "          ...   \n",
       "1996    1.499241\n",
       "1997    1.499241\n",
       "1998    1.499241\n",
       "1999    1.499241\n",
       "2000    1.499241\n",
       "Name: Rangi_target, Length: 1988, dtype: float64"
      ]
     },
     "execution_count": 15,
     "metadata": {},
     "output_type": "execute_result"
    }
   ],
   "source": [
    "df['Rangi_target']"
   ]
  },
  {
   "cell_type": "code",
   "execution_count": 17,
   "metadata": {},
   "outputs": [],
   "source": [
    "df.drop(columns='Rangi', inplace=True)"
   ]
  },
  {
   "cell_type": "code",
   "execution_count": 18,
   "metadata": {},
   "outputs": [
    {
     "name": "stdout",
     "output_type": "stream",
     "text": [
      "<class 'pandas.core.frame.DataFrame'>\n",
      "Index: 1988 entries, 0 to 2000\n",
      "Data columns (total 23 columns):\n",
      " #   Column                         Non-Null Count  Dtype  \n",
      "---  ------                         --------------  -----  \n",
      " 0   battereya_hajmi                1988 non-null   int64  \n",
      " 1   blutus                         1988 non-null   int64  \n",
      " 2   protsessor_tezligi             1988 non-null   float64\n",
      " 3   ikkita simkartalik             1988 non-null   int64  \n",
      " 4   Oldi_kamera                    1988 non-null   int64  \n",
      " 5   4G                             1988 non-null   int64  \n",
      " 6   Ichki_xotira                   1988 non-null   int64  \n",
      " 7   tel_ingichgaligi               1988 non-null   float64\n",
      " 8   Vazni                          1988 non-null   int64  \n",
      " 9   Protsessor yadrolari soni      1988 non-null   float64\n",
      " 10  Asosiy kamera                  1988 non-null   float64\n",
      " 11  Qurilma xajmi(pix)             1988 non-null   float64\n",
      " 12  Qurilma ekran kengligi(pix)    1988 non-null   float64\n",
      " 13  ram                            1988 non-null   int64  \n",
      " 14  Qurilma xajmi(cm)              1988 non-null   float64\n",
      " 15  Qurilma ekran kengligi(cm)     1988 non-null   float64\n",
      " 16  Bir_quvvatlashdagi gaplashish  1988 non-null   int64  \n",
      " 17  3g                             1988 non-null   int64  \n",
      " 18  Qurilma xajmi(pix).1           1988 non-null   float64\n",
      " 19  sensorli                       1988 non-null   int64  \n",
      " 20  wifi                           1988 non-null   int64  \n",
      " 21  telefon_turi                   1988 non-null   int64  \n",
      " 22  Rangi_target                   1988 non-null   float64\n",
      "dtypes: float64(10), int64(13)\n",
      "memory usage: 372.8 KB\n"
     ]
    }
   ],
   "source": [
    "df.info()"
   ]
  }
 ],
 "metadata": {
  "kernelspec": {
   "display_name": "Python 3",
   "language": "python",
   "name": "python3"
  },
  "language_info": {
   "codemirror_mode": {
    "name": "ipython",
    "version": 3
   },
   "file_extension": ".py",
   "mimetype": "text/x-python",
   "name": "python",
   "nbconvert_exporter": "python",
   "pygments_lexer": "ipython3",
   "version": "3.11.9"
  }
 },
 "nbformat": 4,
 "nbformat_minor": 2
}
