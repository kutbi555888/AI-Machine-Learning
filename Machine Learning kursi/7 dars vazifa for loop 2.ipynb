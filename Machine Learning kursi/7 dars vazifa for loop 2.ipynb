{
 "cells": [
  {
   "cell_type": "markdown",
   "metadata": {},
   "source": [
    "# For loop"
   ]
  },
  {
   "cell_type": "code",
   "execution_count": 1,
   "metadata": {},
   "outputs": [
    {
     "name": "stdout",
     "output_type": "stream",
     "text": [
      "[1, 2, 3, 4]\n"
     ]
    }
   ],
   "source": [
    "# dastlabki kodlar bloki\n",
    "a=[1,2,3,4]\n",
    "print(a)"
   ]
  },
  {
   "cell_type": "code",
   "execution_count": 2,
   "metadata": {},
   "outputs": [
    {
     "name": "stdout",
     "output_type": "stream",
     "text": [
      "1\n",
      "2\n",
      "3\n",
      "4\n"
     ]
    }
   ],
   "source": [
    "print(a[0])\n",
    "print(a[1])\n",
    "print(a[2])\n",
    "print(a[3])"
   ]
  },
  {
   "cell_type": "code",
   "execution_count": 3,
   "metadata": {},
   "outputs": [
    {
     "name": "stdout",
     "output_type": "stream",
     "text": [
      "1\n",
      "2\n",
      "3\n",
      "4\n"
     ]
    }
   ],
   "source": [
    "for i in a:\n",
    "    print(i)"
   ]
  },
  {
   "cell_type": "code",
   "execution_count": 8,
   "metadata": {},
   "outputs": [
    {
     "name": "stdout",
     "output_type": "stream",
     "text": [
      "1\n",
      "2\n",
      "3\n",
      "4\n",
      "5\n",
      "6\n",
      "7\n",
      "8\n",
      "9\n",
      "10\n",
      "11\n",
      "12\n",
      "13\n",
      "14\n",
      "15\n",
      "16\n",
      "17\n",
      "18\n",
      "19\n",
      "20\n",
      "21\n",
      "22\n",
      "23\n",
      "24\n",
      "25\n",
      "26\n",
      "27\n",
      "28\n",
      "29\n",
      "30\n",
      "31\n",
      "32\n",
      "33\n",
      "34\n",
      "35\n",
      "36\n",
      "37\n",
      "38\n",
      "39\n",
      "40\n",
      "41\n",
      "42\n",
      "43\n",
      "44\n",
      "45\n",
      "46\n",
      "47\n",
      "48\n",
      "49\n",
      "50\n"
     ]
    }
   ],
   "source": [
    "# Range\n",
    "for i in range(1,51):\n",
    "    print(i)"
   ]
  },
  {
   "cell_type": "code",
   "execution_count": 9,
   "metadata": {},
   "outputs": [
    {
     "name": "stdout",
     "output_type": "stream",
     "text": [
      "mushuk\n",
      "it\n",
      "sigir\n"
     ]
    }
   ],
   "source": [
    "b=['mushuk','it','sigir']\n",
    "for i in b:\n",
    "    print(i)"
   ]
  },
  {
   "cell_type": "code",
   "execution_count": 19,
   "metadata": {},
   "outputs": [],
   "source": [
    "c=['hello,67,Falce,4.9']"
   ]
  },
  {
   "cell_type": "code",
   "execution_count": 24,
   "metadata": {},
   "outputs": [
    {
     "name": "stdout",
     "output_type": "stream",
     "text": [
      "hello\n",
      "67\n",
      "True\n",
      "4.6\n"
     ]
    }
   ],
   "source": [
    "c=['hello',67,True,4.6]\n",
    "for i in c:\n",
    "    print(i)"
   ]
  },
  {
   "cell_type": "code",
   "execution_count": 25,
   "metadata": {},
   "outputs": [
    {
     "name": "stdout",
     "output_type": "stream",
     "text": [
      "ok\n",
      "23\n",
      "False\n",
      "2.5\n"
     ]
    }
   ],
   "source": [
    "c=['ok',23,False,2.5]\n",
    "for i in c:\n",
    "    print(i)"
   ]
  },
  {
   "cell_type": "code",
   "execution_count": 26,
   "metadata": {},
   "outputs": [
    {
     "name": "stdout",
     "output_type": "stream",
     "text": [
      "1\n",
      "2\n",
      "3\n",
      "4\n",
      "5\n",
      "6\n",
      "7\n",
      "8\n",
      "9\n",
      "10\n",
      "11\n",
      "12\n",
      "13\n",
      "14\n",
      "15\n",
      "16\n",
      "17\n",
      "18\n",
      "19\n",
      "20\n"
     ]
    }
   ],
   "source": [
    "for i in range(1,21):\n",
    "    print(i)\n"
   ]
  },
  {
   "cell_type": "code",
   "execution_count": 29,
   "metadata": {},
   "outputs": [
    {
     "name": "stdout",
     "output_type": "stream",
     "text": [
      "1\n",
      "2\n",
      "3\n",
      "4\n",
      "5\n",
      "6\n",
      "7\n",
      "8\n",
      "9\n",
      "10\n",
      "11\n",
      "12\n",
      "13\n",
      "14\n",
      "15\n",
      "16\n",
      "17\n",
      "18\n",
      "19\n",
      "20\n",
      "210\n"
     ]
    }
   ],
   "source": [
    "sum2=0\n",
    "for i in range(1,21):\n",
    "    sum2=sum2+i\n",
    "    print(i)\n",
    "print(sum2)"
   ]
  },
  {
   "cell_type": "code",
   "execution_count": 35,
   "metadata": {},
   "outputs": [
    {
     "name": "stdout",
     "output_type": "stream",
     "text": [
      "120\n"
     ]
    }
   ],
   "source": [
    "top=1\n",
    "for i in range(1,6):\n",
    "    top=top*i\n",
    "print(top)    "
   ]
  },
  {
   "cell_type": "code",
   "execution_count": 33,
   "metadata": {},
   "outputs": [
    {
     "name": "stdout",
     "output_type": "stream",
     "text": [
      "120\n"
     ]
    }
   ],
   "source": [
    "print(1*2*3*4*5)"
   ]
  },
  {
   "cell_type": "code",
   "execution_count": null,
   "metadata": {},
   "outputs": [
    {
     "name": "stdout",
     "output_type": "stream",
     "text": [
      "1\n",
      "3\n",
      "5\n",
      "7\n",
      "9\n",
      "11\n",
      "13\n",
      "15\n",
      "17\n",
      "19\n"
     ]
    }
   ],
   "source": [
    "for i in range(1,21,2):        # 1dan 20gacha toq sonlarni chiqarish\n",
    "    print(i)"
   ]
  },
  {
   "cell_type": "code",
   "execution_count": 39,
   "metadata": {},
   "outputs": [
    {
     "name": "stdout",
     "output_type": "stream",
     "text": [
      "1\n",
      "3\n",
      "5\n",
      "7\n",
      "9\n",
      "11\n",
      "13\n",
      "15\n",
      "17\n",
      "19\n"
     ]
    }
   ],
   "source": [
    "for i in range(1,21):\n",
    "    if i%2!=0:\n",
    "        print(i)"
   ]
  },
  {
   "cell_type": "code",
   "execution_count": null,
   "metadata": {},
   "outputs": [
    {
     "name": "stdout",
     "output_type": "stream",
     "text": [
      "0\n",
      "2\n",
      "4\n",
      "6\n",
      "8\n",
      "10\n",
      "12\n",
      "14\n",
      "16\n",
      "18\n",
      "20\n"
     ]
    }
   ],
   "source": [
    "for i in range(0,21,2):    # juft sonlarni chiqarish\n",
    "    print(i)"
   ]
  },
  {
   "cell_type": "code",
   "execution_count": 4,
   "metadata": {},
   "outputs": [],
   "source": [
    "import pandas as pd\n",
    "import numpy as np"
   ]
  },
  {
   "cell_type": "code",
   "execution_count": 5,
   "metadata": {},
   "outputs": [],
   "source": [
    "df=pd.read_csv('telefon turini aniqlash2.csv')"
   ]
  },
  {
   "cell_type": "code",
   "execution_count": 6,
   "metadata": {},
   "outputs": [
    {
     "data": {
      "text/html": [
       "<div>\n",
       "<style scoped>\n",
       "    .dataframe tbody tr th:only-of-type {\n",
       "        vertical-align: middle;\n",
       "    }\n",
       "\n",
       "    .dataframe tbody tr th {\n",
       "        vertical-align: top;\n",
       "    }\n",
       "\n",
       "    .dataframe thead th {\n",
       "        text-align: right;\n",
       "    }\n",
       "</style>\n",
       "<table border=\"1\" class=\"dataframe\">\n",
       "  <thead>\n",
       "    <tr style=\"text-align: right;\">\n",
       "      <th></th>\n",
       "      <th>battereya_hajmi</th>\n",
       "      <th>blutus</th>\n",
       "      <th>protsessor_tezligi</th>\n",
       "      <th>ikkita simkartalik</th>\n",
       "      <th>Oldi_kamera</th>\n",
       "      <th>4G</th>\n",
       "      <th>Ichki_xotira</th>\n",
       "      <th>tel_ingichgaligi</th>\n",
       "      <th>Rangi</th>\n",
       "      <th>Vazni</th>\n",
       "      <th>...</th>\n",
       "      <th>Qurilma ekran kengligi(pix)</th>\n",
       "      <th>ram</th>\n",
       "      <th>Qurilma xajmi(cm)</th>\n",
       "      <th>Qurilma ekran kengligi(cm)</th>\n",
       "      <th>Bir_quvvatlashdagi gaplashish</th>\n",
       "      <th>3g</th>\n",
       "      <th>Qurilma xajmi(pix).1</th>\n",
       "      <th>sensorli</th>\n",
       "      <th>wifi</th>\n",
       "      <th>telefon_turi</th>\n",
       "    </tr>\n",
       "  </thead>\n",
       "  <tbody>\n",
       "    <tr>\n",
       "      <th>0</th>\n",
       "      <td>842</td>\n",
       "      <td>0</td>\n",
       "      <td>2.2</td>\n",
       "      <td>0</td>\n",
       "      <td>1</td>\n",
       "      <td>0</td>\n",
       "      <td>7</td>\n",
       "      <td>0.6</td>\n",
       "      <td>Qizil</td>\n",
       "      <td>188</td>\n",
       "      <td>...</td>\n",
       "      <td>756.0</td>\n",
       "      <td>2549</td>\n",
       "      <td>9.0</td>\n",
       "      <td>7.0</td>\n",
       "      <td>19</td>\n",
       "      <td>0</td>\n",
       "      <td>20.0</td>\n",
       "      <td>0</td>\n",
       "      <td>1</td>\n",
       "      <td>1</td>\n",
       "    </tr>\n",
       "    <tr>\n",
       "      <th>1</th>\n",
       "      <td>1021</td>\n",
       "      <td>1</td>\n",
       "      <td>0.5</td>\n",
       "      <td>1</td>\n",
       "      <td>0</td>\n",
       "      <td>1</td>\n",
       "      <td>53</td>\n",
       "      <td>0.7</td>\n",
       "      <td>Yashil</td>\n",
       "      <td>136</td>\n",
       "      <td>...</td>\n",
       "      <td>1988.0</td>\n",
       "      <td>2631</td>\n",
       "      <td>17.0</td>\n",
       "      <td>3.0</td>\n",
       "      <td>7</td>\n",
       "      <td>1</td>\n",
       "      <td>905.0</td>\n",
       "      <td>1</td>\n",
       "      <td>0</td>\n",
       "      <td>2</td>\n",
       "    </tr>\n",
       "    <tr>\n",
       "      <th>2</th>\n",
       "      <td>563</td>\n",
       "      <td>1</td>\n",
       "      <td>0.5</td>\n",
       "      <td>1</td>\n",
       "      <td>2</td>\n",
       "      <td>1</td>\n",
       "      <td>41</td>\n",
       "      <td>0.9</td>\n",
       "      <td>Sariq</td>\n",
       "      <td>145</td>\n",
       "      <td>...</td>\n",
       "      <td>1716.0</td>\n",
       "      <td>2603</td>\n",
       "      <td>11.0</td>\n",
       "      <td>2.0</td>\n",
       "      <td>9</td>\n",
       "      <td>1</td>\n",
       "      <td>1263.0</td>\n",
       "      <td>1</td>\n",
       "      <td>0</td>\n",
       "      <td>2</td>\n",
       "    </tr>\n",
       "    <tr>\n",
       "      <th>3</th>\n",
       "      <td>615</td>\n",
       "      <td>1</td>\n",
       "      <td>2.5</td>\n",
       "      <td>0</td>\n",
       "      <td>0</td>\n",
       "      <td>0</td>\n",
       "      <td>10</td>\n",
       "      <td>0.8</td>\n",
       "      <td>Jigarrang</td>\n",
       "      <td>131</td>\n",
       "      <td>...</td>\n",
       "      <td>1786.0</td>\n",
       "      <td>2769</td>\n",
       "      <td>16.0</td>\n",
       "      <td>8.0</td>\n",
       "      <td>11</td>\n",
       "      <td>1</td>\n",
       "      <td>1216.0</td>\n",
       "      <td>0</td>\n",
       "      <td>0</td>\n",
       "      <td>2</td>\n",
       "    </tr>\n",
       "    <tr>\n",
       "      <th>4</th>\n",
       "      <td>1821</td>\n",
       "      <td>1</td>\n",
       "      <td>1.2</td>\n",
       "      <td>0</td>\n",
       "      <td>13</td>\n",
       "      <td>1</td>\n",
       "      <td>44</td>\n",
       "      <td>0.6</td>\n",
       "      <td>Oq</td>\n",
       "      <td>141</td>\n",
       "      <td>...</td>\n",
       "      <td>1212.0</td>\n",
       "      <td>1411</td>\n",
       "      <td>8.0</td>\n",
       "      <td>2.0</td>\n",
       "      <td>15</td>\n",
       "      <td>1</td>\n",
       "      <td>1208.0</td>\n",
       "      <td>1</td>\n",
       "      <td>0</td>\n",
       "      <td>1</td>\n",
       "    </tr>\n",
       "  </tbody>\n",
       "</table>\n",
       "<p>5 rows × 23 columns</p>\n",
       "</div>"
      ],
      "text/plain": [
       "   battereya_hajmi  blutus  protsessor_tezligi  ikkita simkartalik  \\\n",
       "0              842       0                 2.2                   0   \n",
       "1             1021       1                 0.5                   1   \n",
       "2              563       1                 0.5                   1   \n",
       "3              615       1                 2.5                   0   \n",
       "4             1821       1                 1.2                   0   \n",
       "\n",
       "   Oldi_kamera  4G  Ichki_xotira  tel_ingichgaligi      Rangi  Vazni  ...  \\\n",
       "0            1   0             7               0.6      Qizil    188  ...   \n",
       "1            0   1            53               0.7     Yashil    136  ...   \n",
       "2            2   1            41               0.9      Sariq    145  ...   \n",
       "3            0   0            10               0.8  Jigarrang    131  ...   \n",
       "4           13   1            44               0.6         Oq    141  ...   \n",
       "\n",
       "   Qurilma ekran kengligi(pix)   ram  Qurilma xajmi(cm)  \\\n",
       "0                        756.0  2549                9.0   \n",
       "1                       1988.0  2631               17.0   \n",
       "2                       1716.0  2603               11.0   \n",
       "3                       1786.0  2769               16.0   \n",
       "4                       1212.0  1411                8.0   \n",
       "\n",
       "   Qurilma ekran kengligi(cm)  Bir_quvvatlashdagi gaplashish  3g  \\\n",
       "0                         7.0                             19   0   \n",
       "1                         3.0                              7   1   \n",
       "2                         2.0                              9   1   \n",
       "3                         8.0                             11   1   \n",
       "4                         2.0                             15   1   \n",
       "\n",
       "   Qurilma xajmi(pix).1  sensorli  wifi  telefon_turi  \n",
       "0                  20.0         0     1             1  \n",
       "1                 905.0         1     0             2  \n",
       "2                1263.0         1     0             2  \n",
       "3                1216.0         0     0             2  \n",
       "4                1208.0         1     0             1  \n",
       "\n",
       "[5 rows x 23 columns]"
      ]
     },
     "execution_count": 6,
     "metadata": {},
     "output_type": "execute_result"
    }
   ],
   "source": [
    "df.head()"
   ]
  },
  {
   "cell_type": "code",
   "execution_count": 7,
   "metadata": {},
   "outputs": [
    {
     "name": "stdout",
     "output_type": "stream",
     "text": [
      "<class 'pandas.core.frame.DataFrame'>\n",
      "RangeIndex: 2001 entries, 0 to 2000\n",
      "Data columns (total 23 columns):\n",
      " #   Column                         Non-Null Count  Dtype  \n",
      "---  ------                         --------------  -----  \n",
      " 0   battereya_hajmi                2001 non-null   int64  \n",
      " 1   blutus                         2001 non-null   int64  \n",
      " 2   protsessor_tezligi             2001 non-null   float64\n",
      " 3   ikkita simkartalik             2001 non-null   int64  \n",
      " 4   Oldi_kamera                    2001 non-null   int64  \n",
      " 5   4G                             2001 non-null   int64  \n",
      " 6   Ichki_xotira                   2001 non-null   int64  \n",
      " 7   tel_ingichgaligi               1998 non-null   float64\n",
      " 8   Rangi                          2001 non-null   object \n",
      " 9   Vazni                          2001 non-null   int64  \n",
      " 10  Protsessor yadrolari soni      2000 non-null   float64\n",
      " 11  Asosiy kamera                  1999 non-null   float64\n",
      " 12  Qurilma xajmi(pix)             1999 non-null   float64\n",
      " 13  Qurilma ekran kengligi(pix)    1998 non-null   float64\n",
      " 14  ram                            2001 non-null   int64  \n",
      " 15  Qurilma xajmi(cm)              2000 non-null   float64\n",
      " 16  Qurilma ekran kengligi(cm)     2000 non-null   float64\n",
      " 17  Bir_quvvatlashdagi gaplashish  2001 non-null   int64  \n",
      " 18  3g                             2001 non-null   int64  \n",
      " 19  Qurilma xajmi(pix).1           1999 non-null   float64\n",
      " 20  sensorli                       2001 non-null   int64  \n",
      " 21  wifi                           2001 non-null   int64  \n",
      " 22  telefon_turi                   2001 non-null   int64  \n",
      "dtypes: float64(9), int64(13), object(1)\n",
      "memory usage: 359.7+ KB\n"
     ]
    }
   ],
   "source": [
    "df.info()"
   ]
  },
  {
   "cell_type": "code",
   "execution_count": 8,
   "metadata": {},
   "outputs": [
    {
     "data": {
      "text/plain": [
       "battereya_hajmi                  0\n",
       "blutus                           0\n",
       "protsessor_tezligi               0\n",
       "ikkita simkartalik               0\n",
       "Oldi_kamera                      0\n",
       "4G                               0\n",
       "Ichki_xotira                     0\n",
       "tel_ingichgaligi                 3\n",
       "Rangi                            0\n",
       "Vazni                            0\n",
       "Protsessor yadrolari soni        1\n",
       "Asosiy kamera                    2\n",
       "Qurilma xajmi(pix)               2\n",
       "Qurilma ekran kengligi(pix)      3\n",
       "ram                              0\n",
       "Qurilma xajmi(cm)                1\n",
       "Qurilma ekran kengligi(cm)       1\n",
       "Bir_quvvatlashdagi gaplashish    0\n",
       "3g                               0\n",
       "Qurilma xajmi(pix).1             2\n",
       "sensorli                         0\n",
       "wifi                             0\n",
       "telefon_turi                     0\n",
       "dtype: int64"
      ]
     },
     "execution_count": 8,
     "metadata": {},
     "output_type": "execute_result"
    }
   ],
   "source": [
    "df.isnull().sum()"
   ]
  },
  {
   "cell_type": "code",
   "execution_count": 52,
   "metadata": {},
   "outputs": [
    {
     "name": "stderr",
     "output_type": "stream",
     "text": [
      "C:\\Users\\xolmu\\AppData\\Local\\Temp\\ipykernel_21780\\1011622389.py:1: FutureWarning: A value is trying to be set on a copy of a DataFrame or Series through chained assignment using an inplace method.\n",
      "The behavior will change in pandas 3.0. This inplace method will never work because the intermediate object on which we are setting values always behaves as a copy.\n",
      "\n",
      "For example, when doing 'df[col].method(value, inplace=True)', try using 'df.method({col: value}, inplace=True)' or df[col] = df[col].method(value) instead, to perform the operation inplace on the original object.\n",
      "\n",
      "\n",
      "  df['tel_ingichgaligi'].fillna(df['tel_ingichgaligi'].mean(), inplace=True)\n"
     ]
    }
   ],
   "source": [
    "df['tel_ingichgaligi'].fillna(df['tel_ingichgaligi'].mean(), inplace=True)"
   ]
  },
  {
   "cell_type": "code",
   "execution_count": 9,
   "metadata": {},
   "outputs": [
    {
     "name": "stderr",
     "output_type": "stream",
     "text": [
      "C:\\Users\\xolmu\\AppData\\Local\\Temp\\ipykernel_8528\\1380464465.py:5: FutureWarning: A value is trying to be set on a copy of a DataFrame or Series through chained assignment using an inplace method.\n",
      "The behavior will change in pandas 3.0. This inplace method will never work because the intermediate object on which we are setting values always behaves as a copy.\n",
      "\n",
      "For example, when doing 'df[col].method(value, inplace=True)', try using 'df.method({col: value}, inplace=True)' or df[col] = df[col].method(value) instead, to perform the operation inplace on the original object.\n",
      "\n",
      "\n",
      "  df[col].fillna(df[col].mean(), inplace=True)\n",
      "C:\\Users\\xolmu\\AppData\\Local\\Temp\\ipykernel_8528\\1380464465.py:3: FutureWarning: A value is trying to be set on a copy of a DataFrame or Series through chained assignment using an inplace method.\n",
      "The behavior will change in pandas 3.0. This inplace method will never work because the intermediate object on which we are setting values always behaves as a copy.\n",
      "\n",
      "For example, when doing 'df[col].method(value, inplace=True)', try using 'df.method({col: value}, inplace=True)' or df[col] = df[col].method(value) instead, to perform the operation inplace on the original object.\n",
      "\n",
      "\n",
      "  df[col].fillna(df[col].mode()[0],inplace=True)\n"
     ]
    }
   ],
   "source": [
    "for col in df.columns:\n",
    "    if df[col].dtype=='object':\n",
    "        df[col].fillna(df[col].mode()[0],inplace=True)\n",
    "    else:\n",
    "        df[col].fillna(df[col].mean(), inplace=True)"
   ]
  },
  {
   "cell_type": "code",
   "execution_count": null,
   "metadata": {},
   "outputs": [
    {
     "data": {
      "text/plain": [
       "battereya_hajmi                  0\n",
       "blutus                           0\n",
       "protsessor_tezligi               0\n",
       "ikkita simkartalik               0\n",
       "Oldi_kamera                      0\n",
       "4G                               0\n",
       "Ichki_xotira                     0\n",
       "tel_ingichgaligi                 0\n",
       "Rangi                            0\n",
       "Vazni                            0\n",
       "Protsessor yadrolari soni        0\n",
       "Asosiy kamera                    0\n",
       "Qurilma xajmi(pix)               0\n",
       "Qurilma ekran kengligi(pix)      0\n",
       "ram                              0\n",
       "Qurilma xajmi(cm)                0\n",
       "Qurilma ekran kengligi(cm)       0\n",
       "Bir_quvvatlashdagi gaplashish    0\n",
       "3g                               0\n",
       "Qurilma xajmi(pix).1             0\n",
       "sensorli                         0\n",
       "wifi                             0\n",
       "telefon_turi                     0\n",
       "dtype: int64"
      ]
     },
     "execution_count": 10,
     "metadata": {},
     "output_type": "execute_result"
    }
   ],
   "source": [
    "df.isnull().sum()        # tushib qolgan qiymatlar soni endi 0 boldi"
   ]
  },
  {
   "cell_type": "code",
   "execution_count": 14,
   "metadata": {},
   "outputs": [
    {
     "name": "stdout",
     "output_type": "stream",
     "text": [
      "<class 'pandas.core.frame.DataFrame'>\n",
      "RangeIndex: 2001 entries, 0 to 2000\n",
      "Data columns (total 27 columns):\n",
      " #   Column                         Non-Null Count  Dtype  \n",
      "---  ------                         --------------  -----  \n",
      " 0   battereya_hajmi                2001 non-null   int64  \n",
      " 1   blutus                         2001 non-null   int64  \n",
      " 2   protsessor_tezligi             2001 non-null   float64\n",
      " 3   ikkita simkartalik             2001 non-null   int64  \n",
      " 4   Oldi_kamera                    2001 non-null   int64  \n",
      " 5   4G                             2001 non-null   int64  \n",
      " 6   Ichki_xotira                   2001 non-null   int64  \n",
      " 7   tel_ingichgaligi               2001 non-null   float64\n",
      " 8   Vazni                          2001 non-null   int64  \n",
      " 9   Protsessor yadrolari soni      2001 non-null   float64\n",
      " 10  Asosiy kamera                  2001 non-null   float64\n",
      " 11  Qurilma xajmi(pix)             2001 non-null   float64\n",
      " 12  Qurilma ekran kengligi(pix)    2001 non-null   float64\n",
      " 13  ram                            2001 non-null   int64  \n",
      " 14  Qurilma xajmi(cm)              2001 non-null   float64\n",
      " 15  Qurilma ekran kengligi(cm)     2001 non-null   float64\n",
      " 16  Bir_quvvatlashdagi gaplashish  2001 non-null   int64  \n",
      " 17  3g                             2001 non-null   int64  \n",
      " 18  Qurilma xajmi(pix).1           2001 non-null   float64\n",
      " 19  sensorli                       2001 non-null   int64  \n",
      " 20  wifi                           2001 non-null   int64  \n",
      " 21  telefon_turi                   2001 non-null   int64  \n",
      " 22  Rangi_Oq                       2001 non-null   int64  \n",
      " 23  Rangi_Qizil                    2001 non-null   int64  \n",
      " 24  Rangi_Qora                     2001 non-null   int64  \n",
      " 25  Rangi_Sariq                    2001 non-null   int64  \n",
      " 26  Rangi_Yashil                   2001 non-null   int64  \n",
      "dtypes: float64(9), int64(18)\n",
      "memory usage: 422.2 KB\n"
     ]
    }
   ],
   "source": [
    "df.info()"
   ]
  },
  {
   "cell_type": "code",
   "execution_count": 12,
   "metadata": {},
   "outputs": [],
   "source": [
    "df_encoded=df.copy()"
   ]
  },
  {
   "cell_type": "code",
   "execution_count": 13,
   "metadata": {},
   "outputs": [],
   "source": [
    "from sklearn.preprocessing import LabelEncoder\n",
    "for col in df_encoded.select_dtypes(include=['object']).columns:\n",
    "    cardinality=df_encoded[col].nunique()\n",
    "    if cardinality<=5:\n",
    "        le=LabelEncoder()\n",
    "        df_encoded[col]=le.fit_transform(df_encoded[col])\n",
    "    else:\n",
    "        df_encoded=pd.get_dummies(df_encoded,columns=[col],dtype=int, drop_first=True)\n",
    "    df=df_encoded"
   ]
  },
  {
   "cell_type": "code",
   "execution_count": 67,
   "metadata": {},
   "outputs": [
    {
     "name": "stdout",
     "output_type": "stream",
     "text": [
      "<class 'pandas.core.frame.DataFrame'>\n",
      "RangeIndex: 2001 entries, 0 to 2000\n",
      "Data columns (total 27 columns):\n",
      " #   Column                         Non-Null Count  Dtype  \n",
      "---  ------                         --------------  -----  \n",
      " 0   battereya_hajmi                2001 non-null   int64  \n",
      " 1   blutus                         2001 non-null   int64  \n",
      " 2   protsessor_tezligi             2001 non-null   float64\n",
      " 3   ikkita simkartalik             2001 non-null   int64  \n",
      " 4   Oldi_kamera                    2001 non-null   int64  \n",
      " 5   4G                             2001 non-null   int64  \n",
      " 6   Ichki_xotira                   2001 non-null   int64  \n",
      " 7   tel_ingichgaligi               2001 non-null   float64\n",
      " 8   Vazni                          2001 non-null   int64  \n",
      " 9   Protsessor yadrolari soni      2001 non-null   float64\n",
      " 10  Asosiy kamera                  2001 non-null   float64\n",
      " 11  Qurilma xajmi(pix)             2001 non-null   float64\n",
      " 12  Qurilma ekran kengligi(pix)    2001 non-null   float64\n",
      " 13  ram                            2001 non-null   int64  \n",
      " 14  Qurilma xajmi(cm)              2001 non-null   float64\n",
      " 15  Qurilma ekran kengligi(cm)     2001 non-null   float64\n",
      " 16  Bir_quvvatlashdagi gaplashish  2001 non-null   int64  \n",
      " 17  3g                             2001 non-null   int64  \n",
      " 18  Qurilma xajmi(pix).1           2001 non-null   float64\n",
      " 19  sensorli                       2001 non-null   int64  \n",
      " 20  wifi                           2001 non-null   int64  \n",
      " 21  telefon_turi                   2001 non-null   int64  \n",
      " 22  Rangi_Oq                       2001 non-null   int64  \n",
      " 23  Rangi_Qizil                    2001 non-null   int64  \n",
      " 24  Rangi_Qora                     2001 non-null   int64  \n",
      " 25  Rangi_Sariq                    2001 non-null   int64  \n",
      " 26  Rangi_Yashil                   2001 non-null   int64  \n",
      "dtypes: float64(9), int64(18)\n",
      "memory usage: 422.2 KB\n"
     ]
    }
   ],
   "source": [
    "df.info()"
   ]
  },
  {
   "cell_type": "code",
   "execution_count": 15,
   "metadata": {},
   "outputs": [
    {
     "data": {
      "text/plain": [
       "sensorli\n",
       "1    1007\n",
       "0     994\n",
       "Name: count, dtype: int64"
      ]
     },
     "execution_count": 15,
     "metadata": {},
     "output_type": "execute_result"
    }
   ],
   "source": [
    "df['sensorli'].value_counts()"
   ]
  }
 ],
 "metadata": {
  "kernelspec": {
   "display_name": "Python 3",
   "language": "python",
   "name": "python3"
  },
  "language_info": {
   "codemirror_mode": {
    "name": "ipython",
    "version": 3
   },
   "file_extension": ".py",
   "mimetype": "text/x-python",
   "name": "python",
   "nbconvert_exporter": "python",
   "pygments_lexer": "ipython3",
   "version": "3.11.9"
  }
 },
 "nbformat": 4,
 "nbformat_minor": 2
}
