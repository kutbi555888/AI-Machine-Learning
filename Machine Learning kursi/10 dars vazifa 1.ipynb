{
 "cells": [
  {
   "cell_type": "markdown",
   "metadata": {},
   "source": [
    "# proyekt"
   ]
  },
  {
   "cell_type": "code",
   "execution_count": 2,
   "metadata": {},
   "outputs": [],
   "source": [
    "import pandas as pd\n",
    "import numpy as np\n",
    "import seaborn as sns\n",
    "import matplotlib.pyplot as plt\n",
    "from sklearn.preprocessing import LabelEncoder, StandardScaler\n",
    "from sklearn.model_selection import train_test_split,KFold, cross_val_score\n",
    "from sklearn.linear_model import LinearRegression\n",
    "from sklearn.metrics import mean_squared_error, r2_score"
   ]
  },
  {
   "cell_type": "code",
   "execution_count": 3,
   "metadata": {},
   "outputs": [],
   "source": [
    "df=pd.read_csv('top_expensive_leagues.csv')"
   ]
  },
  {
   "cell_type": "code",
   "execution_count": 4,
   "metadata": {},
   "outputs": [
    {
     "data": {
      "text/html": [
       "<div>\n",
       "<style scoped>\n",
       "    .dataframe tbody tr th:only-of-type {\n",
       "        vertical-align: middle;\n",
       "    }\n",
       "\n",
       "    .dataframe tbody tr th {\n",
       "        vertical-align: top;\n",
       "    }\n",
       "\n",
       "    .dataframe thead th {\n",
       "        text-align: right;\n",
       "    }\n",
       "</style>\n",
       "<table border=\"1\" class=\"dataframe\">\n",
       "  <thead>\n",
       "    <tr style=\"text-align: right;\">\n",
       "      <th></th>\n",
       "      <th>League ID</th>\n",
       "      <th>League Name</th>\n",
       "      <th>Country</th>\n",
       "      <th>Sport</th>\n",
       "      <th>Revenue (USD)</th>\n",
       "      <th>Average Player Salary (USD)</th>\n",
       "      <th>Top Team</th>\n",
       "      <th>Total Teams</th>\n",
       "      <th>Founded Year</th>\n",
       "      <th>Viewership</th>\n",
       "    </tr>\n",
       "  </thead>\n",
       "  <tbody>\n",
       "    <tr>\n",
       "      <th>0</th>\n",
       "      <td>L001</td>\n",
       "      <td>Premier League</td>\n",
       "      <td>England</td>\n",
       "      <td>Football</td>\n",
       "      <td>5.275330e+09</td>\n",
       "      <td>12080000.0</td>\n",
       "      <td>Liverpool</td>\n",
       "      <td>16</td>\n",
       "      <td>1886.0</td>\n",
       "      <td>485.90</td>\n",
       "    </tr>\n",
       "    <tr>\n",
       "      <th>1</th>\n",
       "      <td>L002</td>\n",
       "      <td>Serie A</td>\n",
       "      <td>India</td>\n",
       "      <td>American Football</td>\n",
       "      <td>7.088640e+09</td>\n",
       "      <td>6730000.0</td>\n",
       "      <td>Inter Milan</td>\n",
       "      <td>13</td>\n",
       "      <td>1977.0</td>\n",
       "      <td>135.01</td>\n",
       "    </tr>\n",
       "    <tr>\n",
       "      <th>2</th>\n",
       "      <td>L003</td>\n",
       "      <td>IPL</td>\n",
       "      <td>England</td>\n",
       "      <td>American Football</td>\n",
       "      <td>7.930520e+09</td>\n",
       "      <td>14360000.0</td>\n",
       "      <td>Chennai Super Kings</td>\n",
       "      <td>13</td>\n",
       "      <td>1979.0</td>\n",
       "      <td>157.49</td>\n",
       "    </tr>\n",
       "    <tr>\n",
       "      <th>3</th>\n",
       "      <td>L004</td>\n",
       "      <td>La Liga</td>\n",
       "      <td>Spain</td>\n",
       "      <td>American Football</td>\n",
       "      <td>4.972890e+09</td>\n",
       "      <td>13720000.0</td>\n",
       "      <td>Atletico Madrid</td>\n",
       "      <td>22</td>\n",
       "      <td>1999.0</td>\n",
       "      <td>245.71</td>\n",
       "    </tr>\n",
       "    <tr>\n",
       "      <th>4</th>\n",
       "      <td>L005</td>\n",
       "      <td>Serie A</td>\n",
       "      <td>Italy</td>\n",
       "      <td>Basketball</td>\n",
       "      <td>6.265740e+09</td>\n",
       "      <td>7450000.0</td>\n",
       "      <td>Juventus</td>\n",
       "      <td>16</td>\n",
       "      <td>1963.0</td>\n",
       "      <td>52.83</td>\n",
       "    </tr>\n",
       "  </tbody>\n",
       "</table>\n",
       "</div>"
      ],
      "text/plain": [
       "  League ID     League Name  Country  ... Total Teams  Founded Year Viewership\n",
       "0      L001  Premier League  England  ...          16        1886.0     485.90\n",
       "1      L002         Serie A    India  ...          13        1977.0     135.01\n",
       "2      L003             IPL  England  ...          13        1979.0     157.49\n",
       "3      L004         La Liga    Spain  ...          22        1999.0     245.71\n",
       "4      L005         Serie A    Italy  ...          16        1963.0      52.83\n",
       "\n",
       "[5 rows x 10 columns]"
      ]
     },
     "execution_count": 4,
     "metadata": {},
     "output_type": "execute_result"
    }
   ],
   "source": [
    "df.head()"
   ]
  },
  {
   "cell_type": "code",
   "execution_count": 5,
   "metadata": {},
   "outputs": [],
   "source": [
    "df.drop(columns=['League Name'], inplace=True)"
   ]
  },
  {
   "cell_type": "code",
   "execution_count": 6,
   "metadata": {},
   "outputs": [
    {
     "data": {
      "text/html": [
       "<div>\n",
       "<style scoped>\n",
       "    .dataframe tbody tr th:only-of-type {\n",
       "        vertical-align: middle;\n",
       "    }\n",
       "\n",
       "    .dataframe tbody tr th {\n",
       "        vertical-align: top;\n",
       "    }\n",
       "\n",
       "    .dataframe thead th {\n",
       "        text-align: right;\n",
       "    }\n",
       "</style>\n",
       "<table border=\"1\" class=\"dataframe\">\n",
       "  <thead>\n",
       "    <tr style=\"text-align: right;\">\n",
       "      <th></th>\n",
       "      <th>League ID</th>\n",
       "      <th>Country</th>\n",
       "      <th>Sport</th>\n",
       "      <th>Revenue (USD)</th>\n",
       "      <th>Average Player Salary (USD)</th>\n",
       "      <th>Top Team</th>\n",
       "      <th>Total Teams</th>\n",
       "      <th>Founded Year</th>\n",
       "      <th>Viewership</th>\n",
       "    </tr>\n",
       "  </thead>\n",
       "  <tbody>\n",
       "    <tr>\n",
       "      <th>0</th>\n",
       "      <td>L001</td>\n",
       "      <td>England</td>\n",
       "      <td>Football</td>\n",
       "      <td>5.275330e+09</td>\n",
       "      <td>12080000.0</td>\n",
       "      <td>Liverpool</td>\n",
       "      <td>16</td>\n",
       "      <td>1886.0</td>\n",
       "      <td>485.90</td>\n",
       "    </tr>\n",
       "    <tr>\n",
       "      <th>1</th>\n",
       "      <td>L002</td>\n",
       "      <td>India</td>\n",
       "      <td>American Football</td>\n",
       "      <td>7.088640e+09</td>\n",
       "      <td>6730000.0</td>\n",
       "      <td>Inter Milan</td>\n",
       "      <td>13</td>\n",
       "      <td>1977.0</td>\n",
       "      <td>135.01</td>\n",
       "    </tr>\n",
       "    <tr>\n",
       "      <th>2</th>\n",
       "      <td>L003</td>\n",
       "      <td>England</td>\n",
       "      <td>American Football</td>\n",
       "      <td>7.930520e+09</td>\n",
       "      <td>14360000.0</td>\n",
       "      <td>Chennai Super Kings</td>\n",
       "      <td>13</td>\n",
       "      <td>1979.0</td>\n",
       "      <td>157.49</td>\n",
       "    </tr>\n",
       "    <tr>\n",
       "      <th>3</th>\n",
       "      <td>L004</td>\n",
       "      <td>Spain</td>\n",
       "      <td>American Football</td>\n",
       "      <td>4.972890e+09</td>\n",
       "      <td>13720000.0</td>\n",
       "      <td>Atletico Madrid</td>\n",
       "      <td>22</td>\n",
       "      <td>1999.0</td>\n",
       "      <td>245.71</td>\n",
       "    </tr>\n",
       "    <tr>\n",
       "      <th>4</th>\n",
       "      <td>L005</td>\n",
       "      <td>Italy</td>\n",
       "      <td>Basketball</td>\n",
       "      <td>6.265740e+09</td>\n",
       "      <td>7450000.0</td>\n",
       "      <td>Juventus</td>\n",
       "      <td>16</td>\n",
       "      <td>1963.0</td>\n",
       "      <td>52.83</td>\n",
       "    </tr>\n",
       "  </tbody>\n",
       "</table>\n",
       "</div>"
      ],
      "text/plain": [
       "  League ID  Country              Sport  ...  Total Teams Founded Year Viewership\n",
       "0      L001  England           Football  ...           16       1886.0     485.90\n",
       "1      L002    India  American Football  ...           13       1977.0     135.01\n",
       "2      L003  England  American Football  ...           13       1979.0     157.49\n",
       "3      L004    Spain  American Football  ...           22       1999.0     245.71\n",
       "4      L005    Italy         Basketball  ...           16       1963.0      52.83\n",
       "\n",
       "[5 rows x 9 columns]"
      ]
     },
     "execution_count": 6,
     "metadata": {},
     "output_type": "execute_result"
    }
   ],
   "source": [
    "df.head()"
   ]
  },
  {
   "cell_type": "code",
   "execution_count": 7,
   "metadata": {},
   "outputs": [
    {
     "name": "stdout",
     "output_type": "stream",
     "text": [
      "<class 'pandas.core.frame.DataFrame'>\n",
      "RangeIndex: 700 entries, 0 to 699\n",
      "Data columns (total 9 columns):\n",
      " #   Column                       Non-Null Count  Dtype  \n",
      "---  ------                       --------------  -----  \n",
      " 0   League ID                    700 non-null    object \n",
      " 1   Country                      700 non-null    object \n",
      " 2   Sport                        700 non-null    object \n",
      " 3   Revenue (USD)                700 non-null    float64\n",
      " 4   Average Player Salary (USD)  700 non-null    object \n",
      " 5   Top Team                     700 non-null    object \n",
      " 6   Total Teams                  700 non-null    int64  \n",
      " 7   Founded Year                 700 non-null    float64\n",
      " 8   Viewership                   697 non-null    float64\n",
      "dtypes: float64(3), int64(1), object(5)\n",
      "memory usage: 49.3+ KB\n"
     ]
    }
   ],
   "source": [
    "df.info()"
   ]
  },
  {
   "cell_type": "markdown",
   "metadata": {},
   "source": [
    "# Data preprocessing"
   ]
  },
  {
   "cell_type": "code",
   "execution_count": 8,
   "metadata": {},
   "outputs": [
    {
     "data": {
      "text/plain": [
       "League ID                      0\n",
       "Country                        0\n",
       "Sport                          0\n",
       "Revenue (USD)                  0\n",
       "Average Player Salary (USD)    0\n",
       "Top Team                       0\n",
       "Total Teams                    0\n",
       "Founded Year                   0\n",
       "Viewership                     3\n",
       "dtype: int64"
      ]
     },
     "execution_count": 8,
     "metadata": {},
     "output_type": "execute_result"
    }
   ],
   "source": [
    "# missing values\n",
    "df.isnull().sum()"
   ]
  },
  {
   "cell_type": "code",
   "execution_count": 9,
   "metadata": {},
   "outputs": [
    {
     "name": "stderr",
     "output_type": "stream",
     "text": [
      "C:\\Users\\xolmu\\AppData\\Local\\Temp\\ipykernel_4040\\2285198449.py:1: FutureWarning: A value is trying to be set on a copy of a DataFrame or Series through chained assignment using an inplace method.\n",
      "The behavior will change in pandas 3.0. This inplace method will never work because the intermediate object on which we are setting values always behaves as a copy.\n",
      "\n",
      "For example, when doing 'df[col].method(value, inplace=True)', try using 'df.method({col: value}, inplace=True)' or df[col] = df[col].method(value) instead, to perform the operation inplace on the original object.\n",
      "\n",
      "\n",
      "  df['Viewership'].fillna(df['Viewership'].mean(), inplace=True)\n"
     ]
    }
   ],
   "source": [
    "df['Viewership'].fillna(df['Viewership'].mean(), inplace=True)"
   ]
  },
  {
   "cell_type": "code",
   "execution_count": 10,
   "metadata": {},
   "outputs": [
    {
     "data": {
      "text/plain": [
       "League ID                      0\n",
       "Country                        0\n",
       "Sport                          0\n",
       "Revenue (USD)                  0\n",
       "Average Player Salary (USD)    0\n",
       "Top Team                       0\n",
       "Total Teams                    0\n",
       "Founded Year                   0\n",
       "Viewership                     0\n",
       "dtype: int64"
      ]
     },
     "execution_count": 10,
     "metadata": {},
     "output_type": "execute_result"
    }
   ],
   "source": [
    "df.isnull().sum()"
   ]
  },
  {
   "cell_type": "code",
   "execution_count": 11,
   "metadata": {},
   "outputs": [
    {
     "name": "stderr",
     "output_type": "stream",
     "text": [
      "C:\\Users\\xolmu\\AppData\\Local\\Temp\\ipykernel_4040\\1380464465.py:3: FutureWarning: A value is trying to be set on a copy of a DataFrame or Series through chained assignment using an inplace method.\n",
      "The behavior will change in pandas 3.0. This inplace method will never work because the intermediate object on which we are setting values always behaves as a copy.\n",
      "\n",
      "For example, when doing 'df[col].method(value, inplace=True)', try using 'df.method({col: value}, inplace=True)' or df[col] = df[col].method(value) instead, to perform the operation inplace on the original object.\n",
      "\n",
      "\n",
      "  df[col].fillna(df[col].mode()[0],inplace=True)\n",
      "C:\\Users\\xolmu\\AppData\\Local\\Temp\\ipykernel_4040\\1380464465.py:5: FutureWarning: A value is trying to be set on a copy of a DataFrame or Series through chained assignment using an inplace method.\n",
      "The behavior will change in pandas 3.0. This inplace method will never work because the intermediate object on which we are setting values always behaves as a copy.\n",
      "\n",
      "For example, when doing 'df[col].method(value, inplace=True)', try using 'df.method({col: value}, inplace=True)' or df[col] = df[col].method(value) instead, to perform the operation inplace on the original object.\n",
      "\n",
      "\n",
      "  df[col].fillna(df[col].mean(), inplace=True)\n"
     ]
    }
   ],
   "source": [
    "for col in df.columns:\n",
    "    if df[col].dtype=='object':\n",
    "        df[col].fillna(df[col].mode()[0],inplace=True)\n",
    "    else:\n",
    "        df[col].fillna(df[col].mean(), inplace=True)"
   ]
  },
  {
   "cell_type": "code",
   "execution_count": 15,
   "metadata": {},
   "outputs": [
    {
     "name": "stdout",
     "output_type": "stream",
     "text": [
      "<class 'pandas.core.frame.DataFrame'>\n",
      "RangeIndex: 700 entries, 0 to 699\n",
      "Data columns (total 9 columns):\n",
      " #   Column                       Non-Null Count  Dtype  \n",
      "---  ------                       --------------  -----  \n",
      " 0   League ID                    700 non-null    object \n",
      " 1   Country                      700 non-null    object \n",
      " 2   Sport                        700 non-null    object \n",
      " 3   Revenue (USD)                700 non-null    float64\n",
      " 4   Average Player Salary (USD)  700 non-null    object \n",
      " 5   Top Team                     700 non-null    object \n",
      " 6   Total Teams                  700 non-null    int64  \n",
      " 7   Founded Year                 700 non-null    float64\n",
      " 8   Viewership                   700 non-null    float64\n",
      "dtypes: float64(3), int64(1), object(5)\n",
      "memory usage: 49.3+ KB\n"
     ]
    }
   ],
   "source": [
    "# encoding\n",
    "df.info()"
   ]
  },
  {
   "cell_type": "code",
   "execution_count": 12,
   "metadata": {},
   "outputs": [
    {
     "data": {
      "text/plain": [
       "League ID\n",
       "L700    1\n",
       "L001    1\n",
       "L002    1\n",
       "L003    1\n",
       "L004    1\n",
       "       ..\n",
       "L017    1\n",
       "L016    1\n",
       "L015    1\n",
       "L014    1\n",
       "L013    1\n",
       "Name: count, Length: 700, dtype: int64"
      ]
     },
     "execution_count": 12,
     "metadata": {},
     "output_type": "execute_result"
    }
   ],
   "source": [
    "df['League ID'].value_counts()"
   ]
  },
  {
   "cell_type": "code",
   "execution_count": 13,
   "metadata": {},
   "outputs": [],
   "source": [
    "cardinality=df.nunique()"
   ]
  },
  {
   "cell_type": "code",
   "execution_count": 14,
   "metadata": {},
   "outputs": [
    {
     "data": {
      "text/plain": [
       "League ID                      700\n",
       "Country                          7\n",
       "Sport                            4\n",
       "Revenue (USD)                  699\n",
       "Average Player Salary (USD)    541\n",
       "Top Team                        27\n",
       "Total Teams                     26\n",
       "Founded Year                   146\n",
       "Viewership                     691\n",
       "dtype: int64"
      ]
     },
     "execution_count": 14,
     "metadata": {},
     "output_type": "execute_result"
    }
   ],
   "source": [
    "cardinality"
   ]
  },
  {
   "cell_type": "code",
   "execution_count": 16,
   "metadata": {},
   "outputs": [
    {
     "data": {
      "text/html": [
       "<div>\n",
       "<style scoped>\n",
       "    .dataframe tbody tr th:only-of-type {\n",
       "        vertical-align: middle;\n",
       "    }\n",
       "\n",
       "    .dataframe tbody tr th {\n",
       "        vertical-align: top;\n",
       "    }\n",
       "\n",
       "    .dataframe thead th {\n",
       "        text-align: right;\n",
       "    }\n",
       "</style>\n",
       "<table border=\"1\" class=\"dataframe\">\n",
       "  <thead>\n",
       "    <tr style=\"text-align: right;\">\n",
       "      <th></th>\n",
       "      <th>League ID</th>\n",
       "      <th>Country</th>\n",
       "      <th>Sport</th>\n",
       "      <th>Revenue (USD)</th>\n",
       "      <th>Average Player Salary (USD)</th>\n",
       "      <th>Top Team</th>\n",
       "      <th>Total Teams</th>\n",
       "      <th>Founded Year</th>\n",
       "      <th>Viewership</th>\n",
       "    </tr>\n",
       "  </thead>\n",
       "  <tbody>\n",
       "    <tr>\n",
       "      <th>0</th>\n",
       "      <td>L001</td>\n",
       "      <td>England</td>\n",
       "      <td>Football</td>\n",
       "      <td>5.275330e+09</td>\n",
       "      <td>12080000.0</td>\n",
       "      <td>Liverpool</td>\n",
       "      <td>16</td>\n",
       "      <td>1886.0</td>\n",
       "      <td>485.90</td>\n",
       "    </tr>\n",
       "    <tr>\n",
       "      <th>1</th>\n",
       "      <td>L002</td>\n",
       "      <td>India</td>\n",
       "      <td>American Football</td>\n",
       "      <td>7.088640e+09</td>\n",
       "      <td>6730000.0</td>\n",
       "      <td>Inter Milan</td>\n",
       "      <td>13</td>\n",
       "      <td>1977.0</td>\n",
       "      <td>135.01</td>\n",
       "    </tr>\n",
       "    <tr>\n",
       "      <th>2</th>\n",
       "      <td>L003</td>\n",
       "      <td>England</td>\n",
       "      <td>American Football</td>\n",
       "      <td>7.930520e+09</td>\n",
       "      <td>14360000.0</td>\n",
       "      <td>Chennai Super Kings</td>\n",
       "      <td>13</td>\n",
       "      <td>1979.0</td>\n",
       "      <td>157.49</td>\n",
       "    </tr>\n",
       "    <tr>\n",
       "      <th>3</th>\n",
       "      <td>L004</td>\n",
       "      <td>Spain</td>\n",
       "      <td>American Football</td>\n",
       "      <td>4.972890e+09</td>\n",
       "      <td>13720000.0</td>\n",
       "      <td>Atletico Madrid</td>\n",
       "      <td>22</td>\n",
       "      <td>1999.0</td>\n",
       "      <td>245.71</td>\n",
       "    </tr>\n",
       "    <tr>\n",
       "      <th>4</th>\n",
       "      <td>L005</td>\n",
       "      <td>Italy</td>\n",
       "      <td>Basketball</td>\n",
       "      <td>6.265740e+09</td>\n",
       "      <td>7450000.0</td>\n",
       "      <td>Juventus</td>\n",
       "      <td>16</td>\n",
       "      <td>1963.0</td>\n",
       "      <td>52.83</td>\n",
       "    </tr>\n",
       "  </tbody>\n",
       "</table>\n",
       "</div>"
      ],
      "text/plain": [
       "  League ID  Country              Sport  ...  Total Teams Founded Year Viewership\n",
       "0      L001  England           Football  ...           16       1886.0     485.90\n",
       "1      L002    India  American Football  ...           13       1977.0     135.01\n",
       "2      L003  England  American Football  ...           13       1979.0     157.49\n",
       "3      L004    Spain  American Football  ...           22       1999.0     245.71\n",
       "4      L005    Italy         Basketball  ...           16       1963.0      52.83\n",
       "\n",
       "[5 rows x 9 columns]"
      ]
     },
     "execution_count": 16,
     "metadata": {},
     "output_type": "execute_result"
    }
   ],
   "source": [
    "df.head()"
   ]
  },
  {
   "cell_type": "code",
   "execution_count": 17,
   "metadata": {},
   "outputs": [
    {
     "name": "stdout",
     "output_type": "stream",
     "text": [
      "<class 'pandas.core.frame.DataFrame'>\n",
      "RangeIndex: 700 entries, 0 to 699\n",
      "Data columns (total 9 columns):\n",
      " #   Column                       Non-Null Count  Dtype  \n",
      "---  ------                       --------------  -----  \n",
      " 0   League ID                    700 non-null    object \n",
      " 1   Country                      700 non-null    object \n",
      " 2   Sport                        700 non-null    object \n",
      " 3   Revenue (USD)                700 non-null    float64\n",
      " 4   Average Player Salary (USD)  700 non-null    object \n",
      " 5   Top Team                     700 non-null    object \n",
      " 6   Total Teams                  700 non-null    int64  \n",
      " 7   Founded Year                 700 non-null    float64\n",
      " 8   Viewership                   700 non-null    float64\n",
      "dtypes: float64(3), int64(1), object(5)\n",
      "memory usage: 49.3+ KB\n"
     ]
    }
   ],
   "source": [
    "df.info()"
   ]
  },
  {
   "cell_type": "code",
   "execution_count": 18,
   "metadata": {},
   "outputs": [],
   "source": [
    "for col in df.columns:\n",
    "    if df[col].dtype=='object':\n",
    "        if cardinality[col]<=5:\n",
    "            df=pd.get_dummies(df,columns=[col], dtype=int, drop_first=True)\n",
    "        else:\n",
    "            le=LabelEncoder()\n",
    "            df[col]=le.fit_transform(df[col])"
   ]
  },
  {
   "cell_type": "code",
   "execution_count": 19,
   "metadata": {},
   "outputs": [
    {
     "name": "stdout",
     "output_type": "stream",
     "text": [
      "<class 'pandas.core.frame.DataFrame'>\n",
      "RangeIndex: 700 entries, 0 to 699\n",
      "Data columns (total 11 columns):\n",
      " #   Column                       Non-Null Count  Dtype  \n",
      "---  ------                       --------------  -----  \n",
      " 0   League ID                    700 non-null    int64  \n",
      " 1   Country                      700 non-null    int64  \n",
      " 2   Revenue (USD)                700 non-null    float64\n",
      " 3   Average Player Salary (USD)  700 non-null    int64  \n",
      " 4   Top Team                     700 non-null    int64  \n",
      " 5   Total Teams                  700 non-null    int64  \n",
      " 6   Founded Year                 700 non-null    float64\n",
      " 7   Viewership                   700 non-null    float64\n",
      " 8   Sport_Basketball             700 non-null    int64  \n",
      " 9   Sport_Cricket                700 non-null    int64  \n",
      " 10  Sport_Football               700 non-null    int64  \n",
      "dtypes: float64(3), int64(8)\n",
      "memory usage: 60.3 KB\n"
     ]
    }
   ],
   "source": [
    "df.info()"
   ]
  },
  {
   "cell_type": "code",
   "execution_count": 20,
   "metadata": {},
   "outputs": [],
   "source": [
    "num_col=df.select_dtypes(include=['int32','float64']).columns"
   ]
  },
  {
   "cell_type": "code",
   "execution_count": 21,
   "metadata": {},
   "outputs": [
    {
     "data": {
      "text/plain": [
       "Index(['Revenue (USD)', 'Founded Year', 'Viewership'], dtype='object')"
      ]
     },
     "execution_count": 21,
     "metadata": {},
     "output_type": "execute_result"
    }
   ],
   "source": [
    "num_col"
   ]
  },
  {
   "cell_type": "code",
   "execution_count": 22,
   "metadata": {},
   "outputs": [],
   "source": [
    "scaler=StandardScaler()\n",
    "df[num_col]=scaler.fit_transform(df[num_col])"
   ]
  },
  {
   "cell_type": "code",
   "execution_count": 23,
   "metadata": {},
   "outputs": [
    {
     "data": {
      "text/html": [
       "<div>\n",
       "<style scoped>\n",
       "    .dataframe tbody tr th:only-of-type {\n",
       "        vertical-align: middle;\n",
       "    }\n",
       "\n",
       "    .dataframe tbody tr th {\n",
       "        vertical-align: top;\n",
       "    }\n",
       "\n",
       "    .dataframe thead th {\n",
       "        text-align: right;\n",
       "    }\n",
       "</style>\n",
       "<table border=\"1\" class=\"dataframe\">\n",
       "  <thead>\n",
       "    <tr style=\"text-align: right;\">\n",
       "      <th></th>\n",
       "      <th>League ID</th>\n",
       "      <th>Country</th>\n",
       "      <th>Revenue (USD)</th>\n",
       "      <th>Average Player Salary (USD)</th>\n",
       "      <th>Top Team</th>\n",
       "      <th>Total Teams</th>\n",
       "      <th>Founded Year</th>\n",
       "      <th>Viewership</th>\n",
       "      <th>Sport_Basketball</th>\n",
       "      <th>Sport_Cricket</th>\n",
       "      <th>Sport_Football</th>\n",
       "    </tr>\n",
       "  </thead>\n",
       "  <tbody>\n",
       "    <tr>\n",
       "      <th>0</th>\n",
       "      <td>0</td>\n",
       "      <td>0</td>\n",
       "      <td>0.461642</td>\n",
       "      <td>74</td>\n",
       "      <td>15</td>\n",
       "      <td>16</td>\n",
       "      <td>-0.512943</td>\n",
       "      <td>1.644673</td>\n",
       "      <td>0</td>\n",
       "      <td>0</td>\n",
       "      <td>1</td>\n",
       "    </tr>\n",
       "    <tr>\n",
       "      <th>1</th>\n",
       "      <td>1</td>\n",
       "      <td>3</td>\n",
       "      <td>1.298311</td>\n",
       "      <td>418</td>\n",
       "      <td>12</td>\n",
       "      <td>13</td>\n",
       "      <td>0.265422</td>\n",
       "      <td>-0.863742</td>\n",
       "      <td>0</td>\n",
       "      <td>0</td>\n",
       "      <td>0</td>\n",
       "    </tr>\n",
       "    <tr>\n",
       "      <th>2</th>\n",
       "      <td>2</td>\n",
       "      <td>0</td>\n",
       "      <td>1.686759</td>\n",
       "      <td>179</td>\n",
       "      <td>8</td>\n",
       "      <td>13</td>\n",
       "      <td>0.282529</td>\n",
       "      <td>-0.703038</td>\n",
       "      <td>0</td>\n",
       "      <td>0</td>\n",
       "      <td>0</td>\n",
       "    </tr>\n",
       "    <tr>\n",
       "      <th>3</th>\n",
       "      <td>3</td>\n",
       "      <td>5</td>\n",
       "      <td>0.322094</td>\n",
       "      <td>146</td>\n",
       "      <td>4</td>\n",
       "      <td>22</td>\n",
       "      <td>0.453598</td>\n",
       "      <td>-0.072378</td>\n",
       "      <td>0</td>\n",
       "      <td>0</td>\n",
       "      <td>0</td>\n",
       "    </tr>\n",
       "    <tr>\n",
       "      <th>4</th>\n",
       "      <td>4</td>\n",
       "      <td>4</td>\n",
       "      <td>0.918621</td>\n",
       "      <td>439</td>\n",
       "      <td>13</td>\n",
       "      <td>16</td>\n",
       "      <td>0.145674</td>\n",
       "      <td>-1.451224</td>\n",
       "      <td>1</td>\n",
       "      <td>0</td>\n",
       "      <td>0</td>\n",
       "    </tr>\n",
       "  </tbody>\n",
       "</table>\n",
       "</div>"
      ],
      "text/plain": [
       "   League ID  Country  ...  Sport_Cricket  Sport_Football\n",
       "0          0        0  ...              0               1\n",
       "1          1        3  ...              0               0\n",
       "2          2        0  ...              0               0\n",
       "3          3        5  ...              0               0\n",
       "4          4        4  ...              0               0\n",
       "\n",
       "[5 rows x 11 columns]"
      ]
     },
     "execution_count": 23,
     "metadata": {},
     "output_type": "execute_result"
    }
   ],
   "source": [
    "df.head()"
   ]
  },
  {
   "cell_type": "code",
   "execution_count": 24,
   "metadata": {},
   "outputs": [
    {
     "name": "stdout",
     "output_type": "stream",
     "text": [
      "<class 'pandas.core.frame.DataFrame'>\n",
      "RangeIndex: 700 entries, 0 to 699\n",
      "Data columns (total 11 columns):\n",
      " #   Column                       Non-Null Count  Dtype  \n",
      "---  ------                       --------------  -----  \n",
      " 0   League ID                    700 non-null    int64  \n",
      " 1   Country                      700 non-null    int64  \n",
      " 2   Revenue (USD)                700 non-null    float64\n",
      " 3   Average Player Salary (USD)  700 non-null    int64  \n",
      " 4   Top Team                     700 non-null    int64  \n",
      " 5   Total Teams                  700 non-null    int64  \n",
      " 6   Founded Year                 700 non-null    float64\n",
      " 7   Viewership                   700 non-null    float64\n",
      " 8   Sport_Basketball             700 non-null    int64  \n",
      " 9   Sport_Cricket                700 non-null    int64  \n",
      " 10  Sport_Football               700 non-null    int64  \n",
      "dtypes: float64(3), int64(8)\n",
      "memory usage: 60.3 KB\n"
     ]
    }
   ],
   "source": [
    "df.info()"
   ]
  },
  {
   "cell_type": "code",
   "execution_count": null,
   "metadata": {},
   "outputs": [],
   "source": [
    "x=df.drop(columns=['Viewership'])       # inputlarni tanlash"
   ]
  },
  {
   "cell_type": "code",
   "execution_count": 30,
   "metadata": {},
   "outputs": [],
   "source": [
    "y=df['Viewership']   # output"
   ]
  },
  {
   "cell_type": "code",
   "execution_count": null,
   "metadata": {},
   "outputs": [],
   "source": [
    "x_train,x_temp,y_train,y_temp=train_test_split(x,y,test_size=0.2,random_state=42)          # Datani qismlarga ajratish\n",
    "x_test,x_val,y_test,y_val=train_test_split(x_temp,y_temp,test_size=0.5,random_state=42)"
   ]
  },
  {
   "cell_type": "code",
   "execution_count": 32,
   "metadata": {},
   "outputs": [],
   "source": [
    "model=LinearRegression()\n",
    "linear_model=model.fit(x_train,y_train)\n",
    "y_pred=linear_model.predict(x_test)\n",
    "mse=mean_squared_error(y_test,y_pred)\n",
    "r2=r2_score(y_test,y_pred)"
   ]
  },
  {
   "cell_type": "code",
   "execution_count": 33,
   "metadata": {},
   "outputs": [
    {
     "data": {
      "text/plain": [
       "0.8852240151971663"
      ]
     },
     "execution_count": 33,
     "metadata": {},
     "output_type": "execute_result"
    }
   ],
   "source": [
    "mse"
   ]
  },
  {
   "cell_type": "code",
   "execution_count": 34,
   "metadata": {},
   "outputs": [
    {
     "data": {
      "text/plain": [
       "0.03143084086698855"
      ]
     },
     "execution_count": 34,
     "metadata": {},
     "output_type": "execute_result"
    }
   ],
   "source": [
    "r2"
   ]
  },
  {
   "cell_type": "code",
   "execution_count": 37,
   "metadata": {},
   "outputs": [
    {
     "name": "stdout",
     "output_type": "stream",
     "text": [
      "Cross-Validation Scores: [       nan        nan        nan 0.03232748 0.12649424 0.27274938\n",
      " 0.14522832        nan 0.07299388 0.30227435]\n",
      "Mean CV Score: nan\n"
     ]
    },
    {
     "name": "stderr",
     "output_type": "stream",
     "text": [
      "C:\\Users\\xolmu\\AppData\\Local\\Temp\\ipykernel_4040\\2324496289.py:5: RuntimeWarning: invalid value encountered in sqrt\n",
      "  cv_scores = np.sqrt(-cv_scores)\n"
     ]
    }
   ],
   "source": [
    "kf = KFold(n_splits=10, shuffle=True, random_state=42)\n",
    "\n",
    "\n",
    "cv_scores = cross_val_score(linear_model, x, y, cv=kf, scoring='r2')\n",
    "cv_scores = np.sqrt(-cv_scores)\n",
    "\n",
    "print(\"Cross-Validation Scores:\", cv_scores)\n",
    "print(\"Mean CV Score:\", np.mean(cv_scores))"
   ]
  },
  {
   "cell_type": "code",
   "execution_count": 38,
   "metadata": {},
   "outputs": [
    {
     "name": "stdout",
     "output_type": "stream",
     "text": [
      "Cross-Validation Scores: [0.95419961 1.07782918 0.98313733 0.97711968 0.96375153 0.93750241\n",
      " 1.03574159 0.97666896 1.05235329 1.06821077]\n",
      "Mean CV Score: 1.0026514359400145\n"
     ]
    }
   ],
   "source": [
    "kf = KFold(n_splits=10, shuffle=True, random_state=42)\n",
    "\n",
    "\n",
    "cv_scores = cross_val_score(linear_model, x, y, cv=kf, scoring='neg_mean_squared_error')\n",
    "cv_scores = np.sqrt(-cv_scores)\n",
    "\n",
    "print(\"Cross-Validation Scores:\", cv_scores)\n",
    "print(\"Mean CV Score:\", np.mean(cv_scores))"
   ]
  },
  {
   "cell_type": "code",
   "execution_count": 39,
   "metadata": {},
   "outputs": [
    {
     "name": "stdout",
     "output_type": "stream",
     "text": [
      "0.11742742074284818\n"
     ]
    }
   ],
   "source": [
    "print(np.mean(cv_scores)-mse)"
   ]
  }
 ],
 "metadata": {
  "kernelspec": {
   "display_name": "Python 3",
   "language": "python",
   "name": "python3"
  },
  "language_info": {
   "codemirror_mode": {
    "name": "ipython",
    "version": 3
   },
   "file_extension": ".py",
   "mimetype": "text/x-python",
   "name": "python",
   "nbconvert_exporter": "python",
   "pygments_lexer": "ipython3",
   "version": "3.11.9"
  }
 },
 "nbformat": 4,
 "nbformat_minor": 2
}
