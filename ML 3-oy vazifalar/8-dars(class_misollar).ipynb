{
 "cells": [
  {
   "cell_type": "markdown",
   "id": "86ca14f3",
   "metadata": {},
   "source": [
    "# class misollar"
   ]
  },
  {
   "cell_type": "code",
   "execution_count": null,
   "id": "bbe54403",
   "metadata": {},
   "outputs": [
    {
     "name": "stdout",
     "output_type": "stream",
     "text": [
      "<__main__.Sabzavot object at 0x000002509D98D190>\n"
     ]
    }
   ],
   "source": [
    "class Sabzavot:\n",
    "    pass\n",
    "Sabzavot1=Sabzavot()      # Sabzavot classdan Sabzavot1 obyekti yaratilyabdi\n",
    "print(Sabzavot1)"
   ]
  },
  {
   "cell_type": "code",
   "execution_count": null,
   "id": "d2d3b776",
   "metadata": {},
   "outputs": [
    {
     "name": "stdout",
     "output_type": "stream",
     "text": [
      "Sigir\n",
      "Ola\n"
     ]
    }
   ],
   "source": [
    "class Uy_hayvoni:\n",
    "    def __init__(self,nomi,rangi):\n",
    "        self.nomi=nomi\n",
    "        self.rangi=rangi\n",
    "Uy_hayvoni1=Uy_hayvoni('Sigir','Ola')\n",
    "print(Uy_hayvoni1.nomi)\n",
    "print(Uy_hayvoni1.rangi)\n",
    "\n",
    "# Bu yerda Uy_hayvoni nomli klass (class) elon qilinmoqda. Klass — bu obyektlar (real hayotdagi narsalar) uchun shablon hisoblanadi.\n",
    "# Masalan, Uy_hayvoni klassi orqali koplab uy hayvonlarini yaratish mumkin.\n",
    "\n",
    "# Bu maxsus metod — __init__. U obyekt yaratishda avtomatik chaqiriladi.\n",
    "# self — bu aynan yaratilayotgan obyektdir (masalan: Uy_hayvoni).\n",
    "# nomi,rangi — bu foydalanuvchi tomonidan beriladigan qiymatlar (parametrlar).\n",
    "\n",
    "#Bu yerda:\n",
    "#➤ self.nomi — obyektning \"nom\" degan xususiyati (atributi)\n",
    "#➤ = ism — bu tashqaridan (ya’ni Uy_hayvoni('Sigir','Ola')) kelayotgan qiymat.\n",
    "#➤ Masalan: Uy_hayvoni.nomi = \"Sigir\"\n",
    "#Xuddi shunday: bu yerda ham obyektga \"rangi\" xususiyati berilyapti.\n",
    "#➤ Uy_hayvoni.rangi = Ola\n",
    "\n",
    "# Uy_hayvoni1=Uy_hayvoni('Sigir','Ola')\n",
    "# Bu yerda Uy_hayvoni klassidan obyekt yaratyapmiz.\n",
    "# \"Sigir\" → nomi ga\n",
    "# Ola → rangi ga otadi.\n",
    "# Yangi obyektning nomi: Uy_hayvoni\n",
    "\n",
    "# print(Uy_hayvoni1.rangi)\n",
    "# Bu yerda Uy_hayvoni1 obyektining rang qiymati chiqariladi.\n",
    "# ➤ Natija: Ola"
   ]
  },
  {
   "cell_type": "code",
   "execution_count": null,
   "id": "ac6d69d7",
   "metadata": {},
   "outputs": [
    {
     "name": "stdout",
     "output_type": "stream",
     "text": [
      "Salom, mening ismim Farxod va hobbiyim Futbol\n",
      "Salom, mening ismim Nodir va hobbiyim Voleybol\n"
     ]
    }
   ],
   "source": [
    "# Klassga metod (funksiya) qoshish\n",
    "\n",
    "class Odam:\n",
    "    def __init__(self, ism, hobbisi):\n",
    "        self.ism = ism\n",
    "        self.hobbisi = hobbisi\n",
    "    \n",
    "    def salom_ber(self):\n",
    "        print(f\"Salom, mening ismim {self.ism} va hobbiyim {self.hobbisi}\")\n",
    "\n",
    "odam1 = Odam(\"Farxod\", 'Futbol')\n",
    "odam1.salom_ber()  # Salom, mening ismim Farxod va hobbiyim Futbol\n",
    "\n",
    "# Bir nechta obyektlar yaratish\n",
    "odam2 = Odam(\"Nodir\", 'Voleybol')\n",
    "odam2.salom_ber()  # Salom, mening ismim Laylo"
   ]
  },
  {
   "cell_type": "code",
   "execution_count": null,
   "id": "498ab6a9",
   "metadata": {},
   "outputs": [
    {
     "name": "stdout",
     "output_type": "stream",
     "text": [
      "Bu telefonning turi Samsung va xotirasi 256\n",
      "Bu telefonning turi Iphone va xotirasi 256\n",
      "Bu telefonning turi LG va xotirasi 128\n",
      "Bu telefonning turi Redmi va xotirasi 512\n"
     ]
    }
   ],
   "source": [
    "class Telefon:\n",
    "    def __init__(self, turi, xotirasi):\n",
    "        self.turi=turi\n",
    "        self.xotirasi=xotirasi\n",
    "\n",
    "    def telefon_haqida(self):\n",
    "        print(f'Bu telefonning turi {self.turi} va xotirasi {self.xotirasi}')\n",
    "\n",
    "telefon1=Telefon('Samsung',256)\n",
    "telefon1.telefon_haqida()\n",
    "\n",
    "telefon2=Telefon('Iphone',256)\n",
    "telefon2.telefon_haqida()\n",
    "\n",
    "telefon3=Telefon('LG',128)\n",
    "telefon3.telefon_haqida()\n",
    "\n",
    "telefon4=Telefon('Redmi',512)\n",
    "telefon4.telefon_haqida()\n",
    "\n",
    "# __init__\tturini va xotirasini qabul qilib saqlaydi(construktor)\n",
    "# self.turi, self.xotirasi\tHar bir telefon uchun oz xususiyatlari\n",
    "# telefon_haqida() — telefon haqida malumot chiqaradi."
   ]
  },
  {
   "cell_type": "code",
   "execution_count": null,
   "id": "e6bf282a",
   "metadata": {},
   "outputs": [
    {
     "name": "stdout",
     "output_type": "stream",
     "text": [
      "Bu kitobning nomi Yulduzli tunlar va muallifi: Pirimqul Qodirov\n",
      "Bu kitobning nomi Molxona va muallifi: Jorj Oruell\n"
     ]
    }
   ],
   "source": [
    "class Kitob:\n",
    "    def __init__(self,nomi,muallifi):\n",
    "        self.nomi=nomi\n",
    "        self.muallifi=muallifi\n",
    "\n",
    "    def kitob_malumoti(self):\n",
    "        print(f'Bu kitobning nomi {self.nomi} va muallifi: {self.muallifi}')\n",
    "\n",
    "kitob1=Kitob('Yulduzli tunlar','Pirimqul Qodirov')\n",
    "kitob1.kitob_malumoti()\n",
    "\n",
    "kitob2=Kitob('Molxona','Jorj Oruell')\n",
    "kitob2.kitob_malumoti()\n",
    "\n",
    "# class Kitob yaratdingiz\n",
    " #__init__() orqali nom va muallifni saqlayapmiz\n",
    " #kitob_malumoti() metodini ishlatyapmiz\n",
    " #Ikki xil kitob obyektini yaratdik\n",
    " #Ularning ma’lumotlarini chiqarayapmiz"
   ]
  },
  {
   "cell_type": "code",
   "execution_count": 27,
   "id": "d2836188",
   "metadata": {},
   "outputs": [
    {
     "name": "stdout",
     "output_type": "stream",
     "text": [
      "8\n",
      "14\n",
      "18\n"
     ]
    }
   ],
   "source": [
    "class hisob_kitob_qil:\n",
    "    def __init__(self,a,b):\n",
    "        self.a=a\n",
    "        self.b=b\n",
    "\n",
    "    def bol(self):\n",
    "        return self.a//self.b\n",
    "    \n",
    "    def ayir(self):\n",
    "        return self.a-self.b\n",
    "    \n",
    "    def qosh(self):\n",
    "        return self.a+self.b\n",
    "\n",
    "bol1=hisob_kitob_qil(16,2)\n",
    "print(bol1.bol())\n",
    "\n",
    "ayir1=hisob_kitob_qil(16,2)\n",
    "print(ayir1.ayir())\n",
    "\n",
    "qosh1=hisob_kitob_qil(16,2)\n",
    "print(qosh1.qosh())\n"
   ]
  },
  {
   "cell_type": "code",
   "execution_count": null,
   "id": "ea53a847",
   "metadata": {},
   "outputs": [],
   "source": [
    "from sklearn.preprocessing import StandardScaler"
   ]
  },
  {
   "cell_type": "code",
   "execution_count": null,
   "id": "79bf6f09",
   "metadata": {},
   "outputs": [],
   "source": []
  },
  {
   "cell_type": "code",
   "execution_count": 1,
   "id": "bbe5f0ec",
   "metadata": {},
   "outputs": [],
   "source": [
    "import pandas as pd\n",
    "df=pd.read_csv('personality_dataset.csv')"
   ]
  },
  {
   "cell_type": "code",
   "execution_count": 2,
   "id": "a854b897",
   "metadata": {},
   "outputs": [
    {
     "name": "stdout",
     "output_type": "stream",
     "text": [
      "<class 'pandas.core.frame.DataFrame'>\n",
      "RangeIndex: 2900 entries, 0 to 2899\n",
      "Data columns (total 8 columns):\n",
      " #   Column                     Non-Null Count  Dtype  \n",
      "---  ------                     --------------  -----  \n",
      " 0   Time_spent_Alone           2837 non-null   float64\n",
      " 1   Stage_fear                 2827 non-null   object \n",
      " 2   Social_event_attendance    2838 non-null   float64\n",
      " 3   Going_outside              2834 non-null   float64\n",
      " 4   Drained_after_socializing  2848 non-null   object \n",
      " 5   Friends_circle_size        2823 non-null   float64\n",
      " 6   Post_frequency             2835 non-null   float64\n",
      " 7   Personality                2900 non-null   object \n",
      "dtypes: float64(5), object(3)\n",
      "memory usage: 181.4+ KB\n"
     ]
    }
   ],
   "source": [
    "df.info()"
   ]
  },
  {
   "cell_type": "code",
   "execution_count": 3,
   "id": "4a8e00f7",
   "metadata": {},
   "outputs": [],
   "source": [
    "from sklearn.preprocessing import LabelEncoder,StandardScaler"
   ]
  },
  {
   "cell_type": "code",
   "execution_count": null,
   "id": "7e0c42d2",
   "metadata": {},
   "outputs": [],
   "source": [
    "class Preprocessing_qil:\n",
    "    def __init__(self,df):\n",
    "        self.df=df.copy()\n",
    "        self.encoder=LabelEncoder()\n",
    "        self.scaling=StandardScaler()\n",
    "\n",
    "    def tozala(self):\n",
    "        for col in self.df.columns:\n",
    "            if self.df[col].isnull().any():\n",
    "                if self.df[col].dtype=='object':\n",
    "                    self.df[col].fillna(self.df[col].mode()[0],inplace=True)\n",
    "                else:\n",
    "                    self.df[col].fillna(self.df[col].mean(),inplace=True)\n",
    "        return self\n",
    "    \n",
    "    \n",
    "\n",
    "    def encod_qil(self):\n",
    "        for col in self.df.columns:\n",
    "            if self.df[col].dtype=='object':\n",
    "                if self.df[col].nunique() <= 6:\n",
    "                    dummies=pd.get_dummies(self.df[col],prefix=col,dtype=int)\n",
    "                    self.df=pd.concat([self.df.drop(columns=[col]),dummies],axis=1)\n",
    "                else:\n",
    "                    self.df[col]=self.encoder.fit_transform(self.df[col])\n",
    "        return self\n",
    "    # bu pandas get dummies orqali Encoding\n",
    "    \n",
    "\n",
    "\n",
    "    def scaling_qil(self):\n",
    "        num_col=self.df.select_dtypes(include=['number']).columns\n",
    "        self.df[num_col]=self.scaling.fit_transform(self.df[num_col])\n",
    "        return self\n",
    "\n",
    "\n",
    "    def dfni_tayyor_qil(self):\n",
    "        return self.df\n",
    "    \n",
    "                    \n",
    "\n"
   ]
  },
  {
   "cell_type": "code",
   "execution_count": 6,
   "id": "25157a7b",
   "metadata": {},
   "outputs": [],
   "source": [
    "hammasini_tayyor_qil=Preprocessing_qil(df)\n",
    "hammasini_tayyor_qil.tozala().encod_qil().scaling_qil()\n",
    "df=hammasini_tayyor_qil.dfni_tayyor_qil()"
   ]
  },
  {
   "cell_type": "code",
   "execution_count": 7,
   "id": "40e471a9",
   "metadata": {},
   "outputs": [
    {
     "name": "stdout",
     "output_type": "stream",
     "text": [
      "<class 'pandas.core.frame.DataFrame'>\n",
      "RangeIndex: 2900 entries, 0 to 2899\n",
      "Data columns (total 11 columns):\n",
      " #   Column                         Non-Null Count  Dtype  \n",
      "---  ------                         --------------  -----  \n",
      " 0   Time_spent_Alone               2900 non-null   float64\n",
      " 1   Social_event_attendance        2900 non-null   float64\n",
      " 2   Going_outside                  2900 non-null   float64\n",
      " 3   Friends_circle_size            2900 non-null   float64\n",
      " 4   Post_frequency                 2900 non-null   float64\n",
      " 5   Stage_fear_No                  2900 non-null   float64\n",
      " 6   Stage_fear_Yes                 2900 non-null   float64\n",
      " 7   Drained_after_socializing_No   2900 non-null   float64\n",
      " 8   Drained_after_socializing_Yes  2900 non-null   float64\n",
      " 9   Personality_Extrovert          2900 non-null   float64\n",
      " 10  Personality_Introvert          2900 non-null   float64\n",
      "dtypes: float64(11)\n",
      "memory usage: 249.3 KB\n"
     ]
    }
   ],
   "source": [
    "df.info()"
   ]
  },
  {
   "cell_type": "code",
   "execution_count": null,
   "id": "0137768a",
   "metadata": {},
   "outputs": [],
   "source": []
  },
  {
   "cell_type": "code",
   "execution_count": null,
   "id": "f7d9c67c",
   "metadata": {},
   "outputs": [],
   "source": []
  },
  {
   "cell_type": "markdown",
   "id": "b03fdf65",
   "metadata": {},
   "source": []
  },
  {
   "cell_type": "code",
   "execution_count": null,
   "id": "6005cc3a",
   "metadata": {},
   "outputs": [],
   "source": []
  },
  {
   "cell_type": "code",
   "execution_count": null,
   "id": "3303ee83",
   "metadata": {},
   "outputs": [],
   "source": []
  },
  {
   "cell_type": "code",
   "execution_count": null,
   "id": "95095409",
   "metadata": {},
   "outputs": [],
   "source": []
  },
  {
   "cell_type": "code",
   "execution_count": null,
   "id": "ea0df609",
   "metadata": {},
   "outputs": [],
   "source": []
  },
  {
   "cell_type": "code",
   "execution_count": null,
   "id": "d53916e7",
   "metadata": {},
   "outputs": [],
   "source": [
    "class Preprocessing_qil:\n",
    "    def __init__(self,df):\n",
    "        self.df=df.copy()\n",
    "        self.encoder=LabelEncoder()\n",
    "        self.scaling=StandardScaler()\n",
    "\n",
    "    def tozala(self):\n",
    "        for col in self.df.columns:\n",
    "            if self.df[col].isnull().any():\n",
    "                if self.df[col].dtype=='object':\n",
    "                    self.df[col].fillna(self.df[col].mode()[0],inplace=True)\n",
    "                else:\n",
    "                    self.df[col].fillna(self.df[col].mean(),inplace=True)\n",
    "        return self\n",
    "    \n",
    "    \n",
    "\n",
    "    def encod_qil(self):\n",
    "        for col in self.df.columns:\n",
    "            if self.df[col].dtype=='object':\n",
    "                self.df[col]=self.encoder.fit_transform(self.df[col])\n",
    "        return self\n",
    "    # bu LabelEncoder orqali Encoding\n",
    "    \n",
    "\n",
    "\n",
    "    def scaling_qil(self):\n",
    "        num_col=self.df.select_dtypes(include=['number']).columns\n",
    "        self.df[num_col]=self.scaling.fit_transform(self.df[num_col])\n",
    "        return self\n",
    "\n",
    "\n",
    "    def dfni_tayyor_qil(self):\n",
    "        return self.df"
   ]
  },
  {
   "cell_type": "code",
   "execution_count": 5,
   "id": "5c6f2deb",
   "metadata": {},
   "outputs": [],
   "source": [
    "hammasini_tayyor_qil=Preprocessing_qil(df)\n",
    "hammasini_tayyor_qil.tozala().encod_qil().scaling_qil()\n",
    "df=hammasini_tayyor_qil.dfni_tayyor_qil()"
   ]
  },
  {
   "cell_type": "code",
   "execution_count": 6,
   "id": "edb12106",
   "metadata": {},
   "outputs": [
    {
     "name": "stdout",
     "output_type": "stream",
     "text": [
      "<class 'pandas.core.frame.DataFrame'>\n",
      "RangeIndex: 2900 entries, 0 to 2899\n",
      "Data columns (total 8 columns):\n",
      " #   Column                     Non-Null Count  Dtype  \n",
      "---  ------                     --------------  -----  \n",
      " 0   Time_spent_Alone           2900 non-null   float64\n",
      " 1   Stage_fear                 2900 non-null   float64\n",
      " 2   Social_event_attendance    2900 non-null   float64\n",
      " 3   Going_outside              2900 non-null   float64\n",
      " 4   Drained_after_socializing  2900 non-null   float64\n",
      " 5   Friends_circle_size        2900 non-null   float64\n",
      " 6   Post_frequency             2900 non-null   float64\n",
      " 7   Personality                2900 non-null   float64\n",
      "dtypes: float64(8)\n",
      "memory usage: 181.4 KB\n"
     ]
    }
   ],
   "source": [
    "df.info()"
   ]
  },
  {
   "cell_type": "code",
   "execution_count": null,
   "id": "e728b5cc",
   "metadata": {},
   "outputs": [],
   "source": []
  },
  {
   "cell_type": "code",
   "execution_count": null,
   "id": "ca03c6a0",
   "metadata": {},
   "outputs": [],
   "source": []
  },
  {
   "cell_type": "code",
   "execution_count": null,
   "id": "366d2c11",
   "metadata": {},
   "outputs": [],
   "source": []
  },
  {
   "cell_type": "code",
   "execution_count": null,
   "id": "b3ed6e92",
   "metadata": {},
   "outputs": [],
   "source": []
  },
  {
   "cell_type": "code",
   "execution_count": null,
   "id": "b3656fab",
   "metadata": {},
   "outputs": [],
   "source": []
  },
  {
   "cell_type": "code",
   "execution_count": null,
   "id": "cb44f4e1",
   "metadata": {},
   "outputs": [],
   "source": []
  },
  {
   "cell_type": "code",
   "execution_count": 1,
   "id": "54bf10c9",
   "metadata": {},
   "outputs": [],
   "source": [
    "import pandas as pd\n",
    "df=pd.read_csv('personality_dataset.csv')"
   ]
  },
  {
   "cell_type": "code",
   "execution_count": 2,
   "id": "211b1f93",
   "metadata": {},
   "outputs": [
    {
     "name": "stdout",
     "output_type": "stream",
     "text": [
      "<class 'pandas.core.frame.DataFrame'>\n",
      "RangeIndex: 2900 entries, 0 to 2899\n",
      "Data columns (total 8 columns):\n",
      " #   Column                     Non-Null Count  Dtype  \n",
      "---  ------                     --------------  -----  \n",
      " 0   Time_spent_Alone           2837 non-null   float64\n",
      " 1   Stage_fear                 2827 non-null   object \n",
      " 2   Social_event_attendance    2838 non-null   float64\n",
      " 3   Going_outside              2834 non-null   float64\n",
      " 4   Drained_after_socializing  2848 non-null   object \n",
      " 5   Friends_circle_size        2823 non-null   float64\n",
      " 6   Post_frequency             2835 non-null   float64\n",
      " 7   Personality                2900 non-null   object \n",
      "dtypes: float64(5), object(3)\n",
      "memory usage: 181.4+ KB\n"
     ]
    }
   ],
   "source": [
    "df.info()"
   ]
  },
  {
   "cell_type": "code",
   "execution_count": null,
   "id": "1ef5e07b",
   "metadata": {},
   "outputs": [],
   "source": [
    "# Bu har qanday target ustunni scaling qilmaydigan class,pastgi kodda target columnni nomini yozsak boldi\n",
    "\n",
    "import pandas as pd\n",
    "from sklearn.preprocessing import LabelEncoder, StandardScaler\n",
    "\n",
    "class Preprocessing_qil:\n",
    "    def __init__(self, df):\n",
    "        self.df = df.copy()\n",
    "        self.scaling = StandardScaler()\n",
    "\n",
    "    def tozala(self):\n",
    "        for col in self.df.columns:\n",
    "            if self.df[col].isnull().any():\n",
    "                if self.df[col].dtype == 'object':\n",
    "                    self.df[col].fillna(self.df[col].mode()[0], inplace=True)\n",
    "                else:\n",
    "                    self.df[col].fillna(self.df[col].mean(), inplace=True)\n",
    "        return self\n",
    "\n",
    "    def encod_qil(self):\n",
    "        for col in self.df.columns:\n",
    "            if self.df[col].dtype == 'object':\n",
    "                encoder = LabelEncoder()\n",
    "                self.df[col] = encoder.fit_transform(self.df[col])\n",
    "        return self\n",
    "\n",
    "    def scaling_qil(self, target_col=None):\n",
    "        num_col = self.df.select_dtypes(include=['number']).columns.tolist()\n",
    "        if target_col and target_col in num_col:\n",
    "            num_col.remove(target_col)\n",
    "        self.df[num_col] = self.scaling.fit_transform(self.df[num_col])\n",
    "        return self\n",
    "\n",
    "    def dfni_tayyor_qil(self):\n",
    "        return self.df"
   ]
  },
  {
   "cell_type": "code",
   "execution_count": null,
   "id": "569a417a",
   "metadata": {},
   "outputs": [],
   "source": [
    "hammasini_tayyor_qil = (\n",
    "    Preprocessing_qil(df)\n",
    "    .tozala()\n",
    "    .encod_qil()\n",
    "    .scaling_qil(target_col='Personality')\n",
    "    .dfni_tayyor_qil()\n",
    ")"
   ]
  },
  {
   "cell_type": "code",
   "execution_count": null,
   "id": "7de4d3d9",
   "metadata": {},
   "outputs": [
    {
     "data": {
      "text/html": [
       "<div>\n",
       "<style scoped>\n",
       "    .dataframe tbody tr th:only-of-type {\n",
       "        vertical-align: middle;\n",
       "    }\n",
       "\n",
       "    .dataframe tbody tr th {\n",
       "        vertical-align: top;\n",
       "    }\n",
       "\n",
       "    .dataframe thead th {\n",
       "        text-align: right;\n",
       "    }\n",
       "</style>\n",
       "<table border=\"1\" class=\"dataframe\">\n",
       "  <thead>\n",
       "    <tr style=\"text-align: right;\">\n",
       "      <th></th>\n",
       "      <th>Time_spent_Alone</th>\n",
       "      <th>Stage_fear</th>\n",
       "      <th>Social_event_attendance</th>\n",
       "      <th>Going_outside</th>\n",
       "      <th>Drained_after_socializing</th>\n",
       "      <th>Friends_circle_size</th>\n",
       "      <th>Post_frequency</th>\n",
       "      <th>Personality</th>\n",
       "    </tr>\n",
       "  </thead>\n",
       "  <tbody>\n",
       "    <tr>\n",
       "      <th>0</th>\n",
       "      <td>-0.147014</td>\n",
       "      <td>-0.972784</td>\n",
       "      <td>0.012759</td>\n",
       "      <td>1.350613</td>\n",
       "      <td>-0.970772</td>\n",
       "      <td>1.590680</td>\n",
       "      <td>0.496104</td>\n",
       "      <td>0</td>\n",
       "    </tr>\n",
       "    <tr>\n",
       "      <th>1</th>\n",
       "      <td>1.306226</td>\n",
       "      <td>1.027977</td>\n",
       "      <td>-1.379944</td>\n",
       "      <td>-1.350613</td>\n",
       "      <td>1.030108</td>\n",
       "      <td>-1.481437</td>\n",
       "      <td>-0.195199</td>\n",
       "      <td>1</td>\n",
       "    </tr>\n",
       "    <tr>\n",
       "      <th>2</th>\n",
       "      <td>1.306226</td>\n",
       "      <td>1.027977</td>\n",
       "      <td>-1.031768</td>\n",
       "      <td>-0.450204</td>\n",
       "      <td>1.030108</td>\n",
       "      <td>-0.299853</td>\n",
       "      <td>-0.540850</td>\n",
       "      <td>1</td>\n",
       "    </tr>\n",
       "    <tr>\n",
       "      <th>3</th>\n",
       "      <td>-1.309607</td>\n",
       "      <td>-0.972784</td>\n",
       "      <td>0.709111</td>\n",
       "      <td>1.800817</td>\n",
       "      <td>-0.970772</td>\n",
       "      <td>1.826996</td>\n",
       "      <td>1.533059</td>\n",
       "      <td>0</td>\n",
       "    </tr>\n",
       "    <tr>\n",
       "      <th>4</th>\n",
       "      <td>-0.437663</td>\n",
       "      <td>-0.972784</td>\n",
       "      <td>1.753638</td>\n",
       "      <td>0.450204</td>\n",
       "      <td>-0.970772</td>\n",
       "      <td>0.409096</td>\n",
       "      <td>0.496104</td>\n",
       "      <td>0</td>\n",
       "    </tr>\n",
       "  </tbody>\n",
       "</table>\n",
       "</div>"
      ],
      "text/plain": [
       "   Time_spent_Alone  Stage_fear  Social_event_attendance  Going_outside  \\\n",
       "0         -0.147014   -0.972784                 0.012759       1.350613   \n",
       "1          1.306226    1.027977                -1.379944      -1.350613   \n",
       "2          1.306226    1.027977                -1.031768      -0.450204   \n",
       "3         -1.309607   -0.972784                 0.709111       1.800817   \n",
       "4         -0.437663   -0.972784                 1.753638       0.450204   \n",
       "\n",
       "   Drained_after_socializing  Friends_circle_size  Post_frequency  Personality  \n",
       "0                  -0.970772             1.590680        0.496104            0  \n",
       "1                   1.030108            -1.481437       -0.195199            1  \n",
       "2                   1.030108            -0.299853       -0.540850            1  \n",
       "3                  -0.970772             1.826996        1.533059            0  \n",
       "4                  -0.970772             0.409096        0.496104            0  "
      ]
     },
     "execution_count": 5,
     "metadata": {},
     "output_type": "execute_result"
    }
   ],
   "source": [
    "hammasini_tayyor_qil.head()"
   ]
  },
  {
   "cell_type": "code",
   "execution_count": 7,
   "id": "ca65a0e8",
   "metadata": {},
   "outputs": [
    {
     "name": "stdout",
     "output_type": "stream",
     "text": [
      "<class 'pandas.core.frame.DataFrame'>\n",
      "RangeIndex: 2900 entries, 0 to 2899\n",
      "Data columns (total 8 columns):\n",
      " #   Column                     Non-Null Count  Dtype  \n",
      "---  ------                     --------------  -----  \n",
      " 0   Time_spent_Alone           2900 non-null   float64\n",
      " 1   Stage_fear                 2900 non-null   float64\n",
      " 2   Social_event_attendance    2900 non-null   float64\n",
      " 3   Going_outside              2900 non-null   float64\n",
      " 4   Drained_after_socializing  2900 non-null   float64\n",
      " 5   Friends_circle_size        2900 non-null   float64\n",
      " 6   Post_frequency             2900 non-null   float64\n",
      " 7   Personality                2900 non-null   int32  \n",
      "dtypes: float64(7), int32(1)\n",
      "memory usage: 170.1 KB\n"
     ]
    }
   ],
   "source": [
    "hammasini_tayyor_qil.info()"
   ]
  },
  {
   "cell_type": "code",
   "execution_count": null,
   "id": "ab5043ad",
   "metadata": {},
   "outputs": [],
   "source": []
  },
  {
   "cell_type": "code",
   "execution_count": null,
   "id": "2d4947aa",
   "metadata": {},
   "outputs": [],
   "source": []
  },
  {
   "cell_type": "code",
   "execution_count": null,
   "id": "c3eb757d",
   "metadata": {},
   "outputs": [],
   "source": []
  },
  {
   "cell_type": "code",
   "execution_count": null,
   "id": "2213932d",
   "metadata": {},
   "outputs": [],
   "source": []
  },
  {
   "cell_type": "code",
   "execution_count": null,
   "id": "b1364677",
   "metadata": {},
   "outputs": [],
   "source": []
  },
  {
   "cell_type": "code",
   "execution_count": null,
   "id": "301a33d2",
   "metadata": {},
   "outputs": [],
   "source": []
  },
  {
   "cell_type": "code",
   "execution_count": 3,
   "id": "42c3de40",
   "metadata": {},
   "outputs": [],
   "source": [
    "import pandas as pd\n",
    "from sklearn.preprocessing import LabelEncoder, StandardScaler\n",
    "\n",
    "class Preprocessing_qil:\n",
    "    def __init__(self, df):\n",
    "        self.df = df.copy()\n",
    "        self.scaler = StandardScaler()\n",
    "\n",
    "    def tozala(self):\n",
    "        for col in self.df.columns:\n",
    "            if self.df[col].isnull().any():\n",
    "                if self.df[col].dtype == 'object':\n",
    "                    self.df[col].fillna(self.df[col].mode()[0], inplace=True)\n",
    "                else:\n",
    "                    self.df[col].fillna(self.df[col].mean(), inplace=True)\n",
    "        return self\n",
    "\n",
    "    def encod_qil(self):\n",
    "        for col in self.df.columns:\n",
    "            if self.df[col].dtype == 'object':\n",
    "                encoder = LabelEncoder()\n",
    "                self.df[col] = encoder.fit_transform(self.df[col])\n",
    "        return self\n",
    "\n",
    "    def scaling_qil(self, target_col=None):\n",
    "        num_cols = self.df.select_dtypes(include=['number']).columns.tolist()\n",
    "        if target_col and target_col in num_cols:\n",
    "            num_cols.remove(target_col)\n",
    "        self.df[num_cols] = self.scaler.fit_transform(self.df[num_cols])\n",
    "        return self\n",
    "\n",
    "    def dfni_tayyor_qil(self):\n",
    "        return self.df\n",
    "    \n",
    "    \n",
    "\n",
    "\n",
    "def preprocess(df, target_col=None):\n",
    "    \n",
    "    #Bu funksiya DataFrame ni qabul qiladi va quyidagi preprocessing amallarini bajaradi:\n",
    "    #- tozalash (null qiymatlarni to‘ldirish)\n",
    "    #- kodlash (categorical ustunlarni label encoding)\n",
    "    #- o‘lchamini o‘zgartirish (scaling), target ustunni scaling qilmaydi\n",
    "    #Natijada tayyor DataFrame qaytaradi.\n",
    "\n",
    "\n",
    "    return (\n",
    "        Preprocessing_qil(df)\n",
    "        .tozala()\n",
    "        .encod_qil()\n",
    "        .scaling_qil(target_col=target_col)\n",
    "        .dfni_tayyor_qil()\n",
    "    )"
   ]
  },
  {
   "cell_type": "code",
   "execution_count": 4,
   "id": "10e42793",
   "metadata": {},
   "outputs": [],
   "source": [
    "dfni_tayyorla = preprocess(df, target_col='Personality')"
   ]
  },
  {
   "cell_type": "code",
   "execution_count": null,
   "id": "f928a26f",
   "metadata": {},
   "outputs": [
    {
     "name": "stdout",
     "output_type": "stream",
     "text": [
      "<class 'pandas.core.frame.DataFrame'>\n",
      "RangeIndex: 2900 entries, 0 to 2899\n",
      "Data columns (total 8 columns):\n",
      " #   Column                     Non-Null Count  Dtype  \n",
      "---  ------                     --------------  -----  \n",
      " 0   Time_spent_Alone           2900 non-null   float64\n",
      " 1   Stage_fear                 2900 non-null   float64\n",
      " 2   Social_event_attendance    2900 non-null   float64\n",
      " 3   Going_outside              2900 non-null   float64\n",
      " 4   Drained_after_socializing  2900 non-null   float64\n",
      " 5   Friends_circle_size        2900 non-null   float64\n",
      " 6   Post_frequency             2900 non-null   float64\n",
      " 7   Personality                2900 non-null   int32  \n",
      "dtypes: float64(7), int32(1)\n",
      "memory usage: 170.1 KB\n"
     ]
    }
   ],
   "source": [
    "dfni_tayyorlainfo()"
   ]
  },
  {
   "cell_type": "code",
   "execution_count": 7,
   "id": "d72d597a",
   "metadata": {},
   "outputs": [
    {
     "data": {
      "text/html": [
       "<div>\n",
       "<style scoped>\n",
       "    .dataframe tbody tr th:only-of-type {\n",
       "        vertical-align: middle;\n",
       "    }\n",
       "\n",
       "    .dataframe tbody tr th {\n",
       "        vertical-align: top;\n",
       "    }\n",
       "\n",
       "    .dataframe thead th {\n",
       "        text-align: right;\n",
       "    }\n",
       "</style>\n",
       "<table border=\"1\" class=\"dataframe\">\n",
       "  <thead>\n",
       "    <tr style=\"text-align: right;\">\n",
       "      <th></th>\n",
       "      <th>Time_spent_Alone</th>\n",
       "      <th>Stage_fear</th>\n",
       "      <th>Social_event_attendance</th>\n",
       "      <th>Going_outside</th>\n",
       "      <th>Drained_after_socializing</th>\n",
       "      <th>Friends_circle_size</th>\n",
       "      <th>Post_frequency</th>\n",
       "      <th>Personality</th>\n",
       "    </tr>\n",
       "  </thead>\n",
       "  <tbody>\n",
       "    <tr>\n",
       "      <th>0</th>\n",
       "      <td>-0.147014</td>\n",
       "      <td>-0.972784</td>\n",
       "      <td>0.012759</td>\n",
       "      <td>1.350613</td>\n",
       "      <td>-0.970772</td>\n",
       "      <td>1.590680</td>\n",
       "      <td>0.496104</td>\n",
       "      <td>0</td>\n",
       "    </tr>\n",
       "    <tr>\n",
       "      <th>1</th>\n",
       "      <td>1.306226</td>\n",
       "      <td>1.027977</td>\n",
       "      <td>-1.379944</td>\n",
       "      <td>-1.350613</td>\n",
       "      <td>1.030108</td>\n",
       "      <td>-1.481437</td>\n",
       "      <td>-0.195199</td>\n",
       "      <td>1</td>\n",
       "    </tr>\n",
       "    <tr>\n",
       "      <th>2</th>\n",
       "      <td>1.306226</td>\n",
       "      <td>1.027977</td>\n",
       "      <td>-1.031768</td>\n",
       "      <td>-0.450204</td>\n",
       "      <td>1.030108</td>\n",
       "      <td>-0.299853</td>\n",
       "      <td>-0.540850</td>\n",
       "      <td>1</td>\n",
       "    </tr>\n",
       "    <tr>\n",
       "      <th>3</th>\n",
       "      <td>-1.309607</td>\n",
       "      <td>-0.972784</td>\n",
       "      <td>0.709111</td>\n",
       "      <td>1.800817</td>\n",
       "      <td>-0.970772</td>\n",
       "      <td>1.826996</td>\n",
       "      <td>1.533059</td>\n",
       "      <td>0</td>\n",
       "    </tr>\n",
       "    <tr>\n",
       "      <th>4</th>\n",
       "      <td>-0.437663</td>\n",
       "      <td>-0.972784</td>\n",
       "      <td>1.753638</td>\n",
       "      <td>0.450204</td>\n",
       "      <td>-0.970772</td>\n",
       "      <td>0.409096</td>\n",
       "      <td>0.496104</td>\n",
       "      <td>0</td>\n",
       "    </tr>\n",
       "  </tbody>\n",
       "</table>\n",
       "</div>"
      ],
      "text/plain": [
       "   Time_spent_Alone  Stage_fear  Social_event_attendance  Going_outside  \\\n",
       "0         -0.147014   -0.972784                 0.012759       1.350613   \n",
       "1          1.306226    1.027977                -1.379944      -1.350613   \n",
       "2          1.306226    1.027977                -1.031768      -0.450204   \n",
       "3         -1.309607   -0.972784                 0.709111       1.800817   \n",
       "4         -0.437663   -0.972784                 1.753638       0.450204   \n",
       "\n",
       "   Drained_after_socializing  Friends_circle_size  Post_frequency  Personality  \n",
       "0                  -0.970772             1.590680        0.496104            0  \n",
       "1                   1.030108            -1.481437       -0.195199            1  \n",
       "2                   1.030108            -0.299853       -0.540850            1  \n",
       "3                  -0.970772             1.826996        1.533059            0  \n",
       "4                  -0.970772             0.409096        0.496104            0  "
      ]
     },
     "execution_count": 7,
     "metadata": {},
     "output_type": "execute_result"
    }
   ],
   "source": [
    "dfni_tayyorla.head()"
   ]
  },
  {
   "cell_type": "code",
   "execution_count": null,
   "id": "89daaac6",
   "metadata": {},
   "outputs": [],
   "source": []
  },
  {
   "cell_type": "code",
   "execution_count": null,
   "id": "3b9506f6",
   "metadata": {},
   "outputs": [],
   "source": []
  }
 ],
 "metadata": {
  "kernelspec": {
   "display_name": "Python 3",
   "language": "python",
   "name": "python3"
  },
  "language_info": {
   "codemirror_mode": {
    "name": "ipython",
    "version": 3
   },
   "file_extension": ".py",
   "mimetype": "text/x-python",
   "name": "python",
   "nbconvert_exporter": "python",
   "pygments_lexer": "ipython3",
   "version": "3.11.9"
  }
 },
 "nbformat": 4,
 "nbformat_minor": 5
}
