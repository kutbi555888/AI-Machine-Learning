{
 "cells": [
  {
   "cell_type": "code",
   "execution_count": 1,
   "id": "ee03f715",
   "metadata": {},
   "outputs": [],
   "source": [
    "import logging\n",
    "import pandas as pd"
   ]
  },
  {
   "cell_type": "code",
   "execution_count": 2,
   "id": "a721d6df",
   "metadata": {},
   "outputs": [],
   "source": [
    "logging.basicConfig(\n",
    "    filename='info_log.log',\n",
    "    level=logging.INFO,\n",
    "    format='%(asctime)s-%(levelname)s-%(message)s'\n",
    ")"
   ]
  },
  {
   "cell_type": "code",
   "execution_count": 3,
   "id": "cfcf2031",
   "metadata": {},
   "outputs": [],
   "source": [
    "try:\n",
    "    df=pd.read_csv('student_depression_dataset(in).csv')\n",
    "    logging.info('Data yaxshi yuklandi')\n",
    "except FileNotFoundError as e:\n",
    "    logging.error('Dataset topilmadi: %s', e)"
   ]
  },
  {
   "cell_type": "code",
   "execution_count": 4,
   "id": "07830c1b",
   "metadata": {},
   "outputs": [],
   "source": [
    "try:\n",
    "    df=pd.read_csv('student_depression_dataset.csv')\n",
    "    logging.info('Data yaxshi yuklandi')\n",
    "except FileNotFoundError as e:\n",
    "    logging.error('Dataset topilmadi: %s', e)"
   ]
  },
  {
   "cell_type": "code",
   "execution_count": null,
   "id": "bc2e5fcf",
   "metadata": {},
   "outputs": [],
   "source": []
  },
  {
   "cell_type": "code",
   "execution_count": null,
   "id": "389f2b2c",
   "metadata": {},
   "outputs": [],
   "source": []
  }
 ],
 "metadata": {
  "kernelspec": {
   "display_name": "Python 3",
   "language": "python",
   "name": "python3"
  },
  "language_info": {
   "codemirror_mode": {
    "name": "ipython",
    "version": 3
   },
   "file_extension": ".py",
   "mimetype": "text/x-python",
   "name": "python",
   "nbconvert_exporter": "python",
   "pygments_lexer": "ipython3",
   "version": "3.11.9"
  }
 },
 "nbformat": 4,
 "nbformat_minor": 5
}
