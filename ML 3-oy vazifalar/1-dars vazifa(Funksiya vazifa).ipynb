{
 "cells": [
  {
   "cell_type": "markdown",
   "id": "a29de27d",
   "metadata": {},
   "source": [
    "# Funksiya vazifa"
   ]
  },
  {
   "cell_type": "code",
   "execution_count": null,
   "id": "3f72d21e",
   "metadata": {},
   "outputs": [],
   "source": [
    "# berilgan istalgan berilgan sonlarni yigindisini topadigan\n",
    "# berilgan listdagi so'zlar ichidan eng qisqa so'zni(birinchi keladigan) toping\n",
    "# berilgan listdagi so'zlar ichidan eng uzun so'zni(birinchi keladigan) toping\n",
    "# berilgan sonlar ichidan juftlarini topadigan \n",
    "# berilgan sonlar ichidan toqlarini\n",
    "# berilgan sonlar ichidan juft/toqlarini yigindisini topadigan funksiya yarating"
   ]
  },
  {
   "cell_type": "code",
   "execution_count": null,
   "id": "d8a23e0d",
   "metadata": {},
   "outputs": [],
   "source": [
    "# berilgan istalgan sonlarni yigindisini topadigan funksiya\n",
    "def kop_sonlar(*sonlar):\n",
    "    return sum(sonlar)"
   ]
  },
  {
   "cell_type": "code",
   "execution_count": 3,
   "id": "28f22f9d",
   "metadata": {},
   "outputs": [
    {
     "data": {
      "text/plain": [
       "40"
      ]
     },
     "execution_count": 3,
     "metadata": {},
     "output_type": "execute_result"
    }
   ],
   "source": [
    "kop_sonlar(3,5,7,8,9,4,4)"
   ]
  },
  {
   "cell_type": "code",
   "execution_count": 4,
   "id": "2ab90b9e",
   "metadata": {},
   "outputs": [],
   "source": [
    "# berilgan listdagi so'zlar ichidan eng qisqa so'zni(birinchi keladigan) toping\n",
    "a='Hozirda Texnologiya soat sari emas sekund sari tez rivojlanib boryapti'"
   ]
  },
  {
   "cell_type": "code",
   "execution_count": null,
   "id": "eb60ad4a",
   "metadata": {},
   "outputs": [],
   "source": [
    "def qisqa_soz(a):\n",
    "    sozlar=a.split()\n",
    "    uzunliklar=[]\n",
    "    for i in sozlar:\n",
    "        uzunliklar.append(len(i))\n",
    "    return min(uzunliklar)\n"
   ]
  },
  {
   "cell_type": "code",
   "execution_count": 9,
   "id": "a775f263",
   "metadata": {},
   "outputs": [
    {
     "data": {
      "text/plain": [
       "3"
      ]
     },
     "execution_count": 9,
     "metadata": {},
     "output_type": "execute_result"
    }
   ],
   "source": [
    "qisqa_soz(a)"
   ]
  },
  {
   "cell_type": "code",
   "execution_count": 11,
   "id": "e9df394c",
   "metadata": {},
   "outputs": [],
   "source": [
    "# shu misolni yechishni 2chi usuli\n",
    "a='Hozirda Texnologiya soat sari emas sekund sari tez rivojlanib boryapti'\n",
    "\n",
    "def qisqa_soz2(a):\n",
    "    soz=a.split()\n",
    "    soz.sort(key=len)\n",
    "    return soz[0]"
   ]
  },
  {
   "cell_type": "code",
   "execution_count": 12,
   "id": "33a6f095",
   "metadata": {},
   "outputs": [
    {
     "data": {
      "text/plain": [
       "'tez'"
      ]
     },
     "execution_count": 12,
     "metadata": {},
     "output_type": "execute_result"
    }
   ],
   "source": [
    "qisqa_soz2(a)"
   ]
  },
  {
   "cell_type": "code",
   "execution_count": null,
   "id": "8c333d7e",
   "metadata": {},
   "outputs": [],
   "source": [
    "# berilgan listdagi so'zlar ichidan eng uzun so'zni(birinchi keladigan) toping"
   ]
  },
  {
   "cell_type": "code",
   "execution_count": 14,
   "id": "57d62580",
   "metadata": {},
   "outputs": [
    {
     "data": {
      "text/plain": [
       "11"
      ]
     },
     "execution_count": 14,
     "metadata": {},
     "output_type": "execute_result"
    }
   ],
   "source": [
    "a='Hozirda Texnologiya soat sari emas sekund sari tez rivojlanib boryapti'\n",
    "\n",
    "def uzun_soz(a):\n",
    "    sozlar=a.split()\n",
    "    uzunliklar=[]\n",
    "    for i in sozlar:\n",
    "        uzunliklar.append(len(i))\n",
    "    return max(uzunliklar)\n",
    "\n",
    "uzun_soz(a)"
   ]
  },
  {
   "cell_type": "code",
   "execution_count": 24,
   "id": "9e9c1499",
   "metadata": {},
   "outputs": [],
   "source": [
    "# 2chi usuli\n",
    "a='Hozirda Texnologiya soat sari emas sekund sari tez rivojlanib boryapti'\n",
    "\n",
    "def uzun_soz2(a):\n",
    "    soz=a.split()\n",
    "    soz.sort(key=len)\n",
    "    return soz[-1]"
   ]
  },
  {
   "cell_type": "code",
   "execution_count": 25,
   "id": "257c003f",
   "metadata": {},
   "outputs": [
    {
     "data": {
      "text/plain": [
       "'Texnologiya'"
      ]
     },
     "execution_count": 25,
     "metadata": {},
     "output_type": "execute_result"
    }
   ],
   "source": [
    "uzun_soz2(a)"
   ]
  },
  {
   "cell_type": "code",
   "execution_count": 29,
   "id": "cb65acd8",
   "metadata": {},
   "outputs": [
    {
     "data": {
      "text/plain": [
       "[2, 6, 8, 74]"
      ]
     },
     "execution_count": 29,
     "metadata": {},
     "output_type": "execute_result"
    }
   ],
   "source": [
    "# berilgan sonlar ichidan juftlarini topadigan funksiya\n",
    "def juft_sonlar(*args):\n",
    "    return [x for x in args if x % 2 == 0]\n",
    "\n",
    "juft_sonlar(2,6,55,7,8,45,89,74)"
   ]
  },
  {
   "cell_type": "code",
   "execution_count": null,
   "id": "04e8afc0",
   "metadata": {},
   "outputs": [
    {
     "data": {
      "text/plain": [
       "[55, 7, 45, 89]"
      ]
     },
     "execution_count": 36,
     "metadata": {},
     "output_type": "execute_result"
    }
   ],
   "source": [
    "# berilgan sonlar ichidan toqlarini topadigan funksiya\n",
    "def toq_sonlar(*args):\n",
    "    return [x for x in args if x % 2 != 0]\n",
    "\n",
    "toq_sonlar(2,6,55,7,8,45,89,74)\n",
    "\n",
    "# % 2 == 0 → bu juft sonlarni bildiradi.\n",
    "# % 2 != 0 → bu toq sonlarni bildiradi.\n",
    "#    *args → istalgancha son berishga imkon beradi.\n",
    "#  [x for x in args if x % 2 == 0] → bu list comprehension bolib, faqat juft sonlarni oladi."
   ]
  },
  {
   "cell_type": "code",
   "execution_count": null,
   "id": "c58008f7",
   "metadata": {},
   "outputs": [],
   "source": []
  },
  {
   "cell_type": "code",
   "execution_count": null,
   "id": "96bbe7d3",
   "metadata": {},
   "outputs": [
    {
     "data": {
      "text/plain": [
       "178"
      ]
     },
     "execution_count": 37,
     "metadata": {},
     "output_type": "execute_result"
    }
   ],
   "source": [
    "# berilgan sonlar ichidan juftlarini yigindisini topadigan funksiya yarating\n",
    "def juft_yigindi(*args):\n",
    "    return sum(x for x in args if x % 2 == 0)\n",
    "\n",
    "juft_yigindi(4,67,89,5,67,23,9,5,6,78,90)"
   ]
  },
  {
   "cell_type": "code",
   "execution_count": 39,
   "id": "c5439b87",
   "metadata": {},
   "outputs": [
    {
     "data": {
      "text/plain": [
       "265"
      ]
     },
     "execution_count": 39,
     "metadata": {},
     "output_type": "execute_result"
    }
   ],
   "source": [
    "# berilgan sonlar ichidan toqlarini yigindisini topadigan funksiya yarating\n",
    "def toq_yigindi(*args):\n",
    "    return sum(x for x in args if x % 2 != 0)\n",
    "\n",
    "toq_yigindi(4,67,89,5,67,23,9,5,6,78,90)"
   ]
  },
  {
   "cell_type": "code",
   "execution_count": null,
   "id": "fd8c5112",
   "metadata": {},
   "outputs": [],
   "source": []
  },
  {
   "cell_type": "code",
   "execution_count": null,
   "id": "a2b5929c",
   "metadata": {},
   "outputs": [],
   "source": []
  },
  {
   "cell_type": "code",
   "execution_count": null,
   "id": "963cb27c",
   "metadata": {},
   "outputs": [],
   "source": []
  },
  {
   "cell_type": "code",
   "execution_count": null,
   "id": "9cd2eaf7",
   "metadata": {},
   "outputs": [],
   "source": []
  },
  {
   "cell_type": "code",
   "execution_count": null,
   "id": "8e1cace8",
   "metadata": {},
   "outputs": [],
   "source": []
  },
  {
   "cell_type": "code",
   "execution_count": null,
   "id": "70514b5b",
   "metadata": {},
   "outputs": [],
   "source": []
  },
  {
   "cell_type": "code",
   "execution_count": null,
   "id": "f4d0c0aa",
   "metadata": {},
   "outputs": [],
   "source": []
  }
 ],
 "metadata": {
  "kernelspec": {
   "display_name": "Python 3",
   "language": "python",
   "name": "python3"
  },
  "language_info": {
   "codemirror_mode": {
    "name": "ipython",
    "version": 3
   },
   "file_extension": ".py",
   "mimetype": "text/x-python",
   "name": "python",
   "nbconvert_exporter": "python",
   "pygments_lexer": "ipython3",
   "version": "3.11.9"
  }
 },
 "nbformat": 4,
 "nbformat_minor": 5
}
